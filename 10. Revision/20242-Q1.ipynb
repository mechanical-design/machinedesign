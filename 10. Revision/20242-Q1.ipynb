{
 "cells": [
  {
   "cell_type": "code",
   "execution_count": 6,
   "metadata": {},
   "outputs": [],
   "source": [
    "# Required\n",
    "from math import sin, cos, tan, pi, atan, asin, degrees, radians"
   ]
  },
  {
   "cell_type": "code",
   "execution_count": 7,
   "metadata": {},
   "outputs": [],
   "source": [
    "diameter = 24\n",
    "lead = 6\n",
    "v_linear = 30\n",
    "f_screw = 0.2\n",
    "f_collar = 0\n",
    "power = 3"
   ]
  },
  {
   "cell_type": "markdown",
   "metadata": {},
   "source": [
    "Power is given, we can find the torque using\n",
    "\n",
    "$$P=\\omega T$$\n",
    "$$P=\\frac {2\\pi n_{rpm}}{60} T$$\n",
    "\n",
    "Find $n_{rpm}$ using screw Linear Velocity\n",
    "\n",
    "$$v_{screw}=Lead\\times \\frac{n_{rpm}}{60}$$"
   ]
  },
  {
   "cell_type": "markdown",
   "metadata": {},
   "source": [
    "$$30=6\\times \\frac{n_{rpm}}{60}$$\n"
   ]
  },
  {
   "cell_type": "code",
   "execution_count": 8,
   "metadata": {},
   "outputs": [
    {
     "name": "stdout",
     "output_type": "stream",
     "text": [
      "n_rpm=300.0rpm\n"
     ]
    }
   ],
   "source": [
    "n_rpm = v_linear*60/lead\n",
    "print(f'n_rpm={n_rpm}rpm')"
   ]
  },
  {
   "cell_type": "code",
   "execution_count": 10,
   "metadata": {},
   "outputs": [
    {
     "name": "stdout",
     "output_type": "stream",
     "text": [
      "Torque, T = 0.100Nm\n"
     ]
    }
   ],
   "source": [
    "Torque = round(power*60/(2*pi*n_rpm),2)\n",
    "print(f'Torque, T = {Torque:.3f}Nm')"
   ]
  },
  {
   "cell_type": "code",
   "execution_count": null,
   "metadata": {},
   "outputs": [],
   "source": []
  }
 ],
 "metadata": {
  "kernelspec": {
   "display_name": "tf",
   "language": "python",
   "name": "python3"
  },
  "language_info": {
   "codemirror_mode": {
    "name": "ipython",
    "version": 3
   },
   "file_extension": ".py",
   "mimetype": "text/x-python",
   "name": "python",
   "nbconvert_exporter": "python",
   "pygments_lexer": "ipython3",
   "version": "3.9.7"
  }
 },
 "nbformat": 4,
 "nbformat_minor": 2
}
