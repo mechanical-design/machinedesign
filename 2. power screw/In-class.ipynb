{
 "cells": [
  {
   "cell_type": "markdown",
   "id": "48b17a8a",
   "metadata": {},
   "source": [
    "# In-class activities\n",
    "\n",
    "A screw of M10x1.5 is used as a lead screw for a machine with a torque of 10 Nm travelled linearly at 10mm/s. Determine;\n",
    "- the mean diameter of the screw.\n",
    "- angular speed of the screw in rpm.\n",
    "- power carried by the screw."
   ]
  },
  {
   "cell_type": "code",
   "execution_count": 1,
   "id": "a32556e5",
   "metadata": {},
   "outputs": [],
   "source": [
    "# Required\n",
    "from math import sin, cos, tan, pi, atan, degrees, radians"
   ]
  },
  {
   "cell_type": "code",
   "execution_count": 7,
   "id": "268af978",
   "metadata": {},
   "outputs": [],
   "source": [
    "screw_type = 1 # single-start\n",
    "d_outer = 10\n",
    "pitch = 1.5\n",
    "Torque = 10\n",
    "v_linear = 10"
   ]
  },
  {
   "cell_type": "code",
   "execution_count": 8,
   "id": "fc698ce3",
   "metadata": {},
   "outputs": [
    {
     "name": "stdout",
     "output_type": "stream",
     "text": [
      "Mean diameter=9.25mm\n"
     ]
    }
   ],
   "source": [
    "d_inner = d_outer-pitch\n",
    "d_mean = (d_outer+d_inner)/2\n",
    "\n",
    "print(f'Mean diameter={d_mean}mm')"
   ]
  },
  {
   "cell_type": "code",
   "execution_count": 9,
   "id": "e18470ac",
   "metadata": {},
   "outputs": [
    {
     "name": "stdout",
     "output_type": "stream",
     "text": [
      "Lead=1.5mm/rev\n"
     ]
    }
   ],
   "source": [
    "Lead = screw_type*pitch\n",
    "print(f'Lead={Lead}mm/rev')"
   ]
  },
  {
   "cell_type": "markdown",
   "id": "6c36ab9e",
   "metadata": {},
   "source": [
    "Can use\n",
    "\n",
    "$$V_{linear}=Lead \\times n_{rpm} \\times \\frac {1 min}{60 s}$$\n",
    "$$\\frac {10mm}{1s}=\\frac {1.5mm}{1 rev} \\times n_{rpm} \\times \\frac {1 min}{60 s}$$"
   ]
  },
  {
   "cell_type": "code",
   "execution_count": 10,
   "id": "dd1cab79",
   "metadata": {},
   "outputs": [
    {
     "name": "stdout",
     "output_type": "stream",
     "text": [
      "n_rpm=400.00rev/min\n"
     ]
    }
   ],
   "source": [
    "n_rpm = v_linear/(Lead/60)\n",
    "print(f'n_rpm={n_rpm:.2f}rev/min')"
   ]
  },
  {
   "cell_type": "markdown",
   "id": "84125092",
   "metadata": {},
   "source": [
    "Power\n",
    "\n",
    "$$P=\\frac{2\\pi n}{60} T$$\n"
   ]
  },
  {
   "cell_type": "code",
   "execution_count": 12,
   "id": "7294e894",
   "metadata": {},
   "outputs": [
    {
     "name": "stdout",
     "output_type": "stream",
     "text": [
      "Power = 418.88 W\n"
     ]
    }
   ],
   "source": [
    "Power = round((2*pi*n_rpm/60)*Torque,2)\n",
    "print(f'Power = {Power} W')"
   ]
  },
  {
   "cell_type": "code",
   "execution_count": null,
   "id": "e2151daa",
   "metadata": {},
   "outputs": [],
   "source": []
  }
 ],
 "metadata": {
  "kernelspec": {
   "display_name": "p12",
   "language": "python",
   "name": "python3"
  },
  "language_info": {
   "codemirror_mode": {
    "name": "ipython",
    "version": 3
   },
   "file_extension": ".py",
   "mimetype": "text/x-python",
   "name": "python",
   "nbconvert_exporter": "python",
   "pygments_lexer": "ipython3",
   "version": "3.12.9"
  }
 },
 "nbformat": 4,
 "nbformat_minor": 5
}
