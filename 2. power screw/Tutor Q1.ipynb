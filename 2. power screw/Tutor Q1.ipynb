{
 "cells": [
  {
   "cell_type": "markdown",
   "id": "3f2d8650",
   "metadata": {},
   "source": [
    "# Q1\n",
    "\n",
    "A screw jack has a triple threaded Acme power screw of M30x4, is used to lift a load of a 6kN. Determine;\n",
    "\n",
    "-The screw lead, mean diameter and helix angle\n",
    "\n",
    "-The screw torque required to move the load up\n",
    "\n",
    "-The torque needed to overcome the collar friction\n",
    "\n",
    "-Is the screw overhauling\n",
    "\n",
    "-The efficiency of the jack, if collar friction is used\n",
    "\n",
    "-The length of a crank required if F=150N is exerted by an operator\n",
    "\n",
    "Given: f=0.12, fc=0.09 and dc=40mm\n"
   ]
  },
  {
   "cell_type": "code",
   "execution_count": 1,
   "id": "bec85ade",
   "metadata": {},
   "outputs": [],
   "source": [
    "# Required\n",
    "from math import sin, cos, tan, pi, atan, degrees, radians"
   ]
  },
  {
   "cell_type": "code",
   "execution_count": 2,
   "id": "2c922b9c",
   "metadata": {},
   "outputs": [],
   "source": [
    "screw_type = 3 # single-start\n",
    "alpha = 14.5\n",
    "d_outer = 30\n",
    "pitch = 4\n",
    "f_screw = 0.12\n",
    "f_collar = 0.09\n",
    "Load = 6000\n",
    "d_collar = 40"
   ]
  },
  {
   "cell_type": "code",
   "execution_count": 3,
   "id": "728c5e3a",
   "metadata": {},
   "outputs": [
    {
     "name": "stdout",
     "output_type": "stream",
     "text": [
      "Lead=12\n"
     ]
    }
   ],
   "source": [
    "Lead = screw_type*pitch\n",
    "print(f'Lead={Lead}')"
   ]
  },
  {
   "cell_type": "markdown",
   "id": "5a98c6f2",
   "metadata": {},
   "source": [
    "(i) The screw lead, mean diameter and helix angle"
   ]
  },
  {
   "cell_type": "code",
   "execution_count": 4,
   "id": "c16d3e7b",
   "metadata": {},
   "outputs": [
    {
     "name": "stdout",
     "output_type": "stream",
     "text": [
      "Mean diameter=28.0mm\n"
     ]
    }
   ],
   "source": [
    "d_inner = d_outer-pitch\n",
    "d_mean = (d_outer+d_inner)/2\n",
    "\n",
    "print(f'Mean diameter={d_mean}mm')"
   ]
  },
  {
   "cell_type": "markdown",
   "id": "9470fa33",
   "metadata": {},
   "source": [
    "From equation\n",
    "$$ \\tan\\lambda = \\frac{L}{\\pi d_m} $$"
   ]
  },
  {
   "cell_type": "code",
   "execution_count": 5,
   "id": "bbdaee5b",
   "metadata": {},
   "outputs": [
    {
     "name": "stdout",
     "output_type": "stream",
     "text": [
      "tan(lambda)=0.136418522650196\n",
      "Lambda = 7.768\n"
     ]
    }
   ],
   "source": [
    "tan_lambda = Lead/(pi*d_mean)\n",
    "print(f'tan(lambda)={tan_lambda}')\n",
    "lambda_helix = round(degrees(atan(tan_lambda)),3)\n",
    "print(f'Lambda = {lambda_helix}')"
   ]
  },
  {
   "cell_type": "markdown",
   "id": "02d7ef57",
   "metadata": {},
   "source": [
    "ii) Torque to lift the load\n",
    "\n",
    "From equation\n",
    "$$\\tan\\alpha_n=\\cos\\lambda \\tan \\alpha$$"
   ]
  },
  {
   "cell_type": "code",
   "execution_count": 6,
   "id": "bec3ab7b",
   "metadata": {},
   "outputs": [
    {
     "name": "stdout",
     "output_type": "stream",
     "text": [
      "alpha_n = 14.37\n"
     ]
    }
   ],
   "source": [
    "alpha_n = round(degrees(atan(cos(radians(lambda_helix))*tan(radians(alpha)))),2)\n",
    "print(f'alpha_n = {alpha_n}')"
   ]
  },
  {
   "cell_type": "markdown",
   "id": "b30a0d67",
   "metadata": {},
   "source": [
    "Insert to torque to lift the load equation\n",
    "$$T_u = \\frac{Wd_m}{2} \\frac{f+\\cos\\alpha_n \\tan\\lambda}{\\cos\\alpha_n - f\\tan\\lambda} + \\frac{Wf_c d_c}{2}$$"
   ]
  },
  {
   "cell_type": "code",
   "execution_count": 7,
   "id": "813e7bd8",
   "metadata": {},
   "outputs": [
    {
     "name": "stdout",
     "output_type": "stream",
     "text": [
      "T_u=3.30e+01N\n"
     ]
    }
   ],
   "source": [
    "T_u =(Load*d_mean/1000/2)*((f_screw+(cos(radians(alpha_n))*tan(radians(lambda_helix))))/(cos(radians(alpha_n))-(f_screw*tan(radians(lambda_helix)))))+(Load*f_collar*d_collar/1000/2)\n",
    "print(f'T_u={T_u:.2e}N')"
   ]
  },
  {
   "cell_type": "markdown",
   "id": "ab926d95",
   "metadata": {},
   "source": [
    "iii) Is the screw overhauling\n",
    "\n",
    "Overhaul when $f<\\cos \\alpha_n \\tan \\lambda$"
   ]
  },
  {
   "cell_type": "code",
   "execution_count": 8,
   "id": "067d51aa",
   "metadata": {},
   "outputs": [
    {
     "name": "stdout",
     "output_type": "stream",
     "text": [
      "cos alpha_n tan lambda=0.13138482269672563\n",
      "cos alpha_n tan lambda,0.13138482269672563 larger than f_screw,0.12\n"
     ]
    }
   ],
   "source": [
    "checkOverhaul = atan(cos(radians(alpha_n))*tan(radians(lambda_helix)))\n",
    "print(f'cos alpha_n tan lambda={checkOverhaul}')\n",
    "print(f'cos alpha_n tan lambda,{checkOverhaul} larger than f_screw,{f_screw}')"
   ]
  },
  {
   "cell_type": "markdown",
   "id": "ffdc25c0",
   "metadata": {},
   "source": [
    "\n",
    "$\\cos \\alpha_n \\tan \\lambda$ larger than f. So the screw will overhaul.\n",
    "\n",
    "OR, can check using torque to lower the load. If the value is negative, it will overhaul.\n",
    "$$T_d = \\frac{Wd_m}{2} \\frac{f-\\cos\\alpha_n \\tan\\lambda}{\\cos\\alpha_n + f\\tan\\lambda} + \\frac{Wf_c d_c}{2}$$"
   ]
  },
  {
   "cell_type": "code",
   "execution_count": 9,
   "id": "0b161696",
   "metadata": {},
   "outputs": [
    {
     "name": "stdout",
     "output_type": "stream",
     "text": [
      "T_d=9.76e+03N\n"
     ]
    }
   ],
   "source": [
    "T_d =(Load*d_mean/2)*((f_screw-(cos(radians(alpha_n))*tan(radians(lambda_helix))))/(cos(radians(alpha_n))+(f_screw*tan(radians(lambda_helix)))))+(Load*f_collar*d_collar/2)\n",
    "print(f'T_d={T_d:.2e}N')"
   ]
  },
  {
   "cell_type": "markdown",
   "id": "db90a81a",
   "metadata": {},
   "source": [
    "T_d is negative so the screw will overhaul."
   ]
  },
  {
   "cell_type": "markdown",
   "id": "8e706bd0",
   "metadata": {},
   "source": [
    "iv) The efficiency of the jack, if collar friction is used\n",
    "\n",
    "Efficiency equation\n",
    "$$e=\\frac{d_m \\tan \\lambda}{d_m \\frac{f+\\cos\\alpha_n \\tan\\lambda}{\\cos\\alpha_n - f\\tan\\lambda}+d_c f_c}$$\n"
   ]
  },
  {
   "cell_type": "code",
   "execution_count": 13,
   "id": "2b9ed62f",
   "metadata": {},
   "outputs": [
    {
     "name": "stdout",
     "output_type": "stream",
     "text": [
      "Efficiency=0.34682094027673027\n"
     ]
    }
   ],
   "source": [
    "d_mean=28\n",
    "efficiency=(d_mean*tan_lambda)/(d_mean*((f_screw+(cos(radians(alpha_n))*tan_lambda))/(cos(radians(alpha_n))-(f_screw*tan_lambda)))+(d_collar*f_collar))\n",
    "print(f'Efficiency={efficiency}')"
   ]
  },
  {
   "cell_type": "markdown",
   "id": "ee28926b",
   "metadata": {},
   "source": [
    "v) The length of a crank required if F=150N is exerted by an operator\n",
    "\n",
    "Torque to lift the load = crank length $\\times$ Force"
   ]
  },
  {
   "cell_type": "code",
   "execution_count": 12,
   "id": "7ffbeb0f",
   "metadata": {},
   "outputs": [
    {
     "name": "stdout",
     "output_type": "stream",
     "text": [
      "Crank length=0.22m\n"
     ]
    }
   ],
   "source": [
    "crank_length = T_u/150\n",
    "print(f'Crank length={crank_length:.2f}m')"
   ]
  }
 ],
 "metadata": {
  "kernelspec": {
   "display_name": "p12",
   "language": "python",
   "name": "python3"
  },
  "language_info": {
   "codemirror_mode": {
    "name": "ipython",
    "version": 3
   },
   "file_extension": ".py",
   "mimetype": "text/x-python",
   "name": "python",
   "nbconvert_exporter": "python",
   "pygments_lexer": "ipython3",
   "version": "3.12.9"
  }
 },
 "nbformat": 4,
 "nbformat_minor": 5
}
