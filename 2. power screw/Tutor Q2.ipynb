{
 "cells": [
  {
   "cell_type": "markdown",
   "metadata": {},
   "source": [
    "# Q2\n",
    "\n",
    "The clamp assembly as shown in Figure Q2 consists of member AB and AC, which are pin connected at A. The clamp works by rotating a single start ACME thread (∝=14.5°) with the size of 12.5 mm and pitch of 2.5 mm. At this instant, the compressive force, Fc on the wood between B and C is 180 N. The collar at the assembly has a mean diameter of 13.5 mm. Assume all the friction coefficient between all surface contracts is 0.3.\n",
    "Determine:\n",
    "\n",
    "i) the load acting at the screw.\n",
    "\n",
    "ii) the torque required to tighten the screw.\n",
    "\n",
    "iii) the maximum compressive force, Fc, if allowable normal stress at the screw is 10 MPa."
   ]
  },
  {
   "cell_type": "code",
   "execution_count": 2,
   "metadata": {},
   "outputs": [],
   "source": [
    "# Required\n",
    "from math import sin, cos, tan, pi, atan, degrees, radians\n",
    "from matplotlib import pyplot as plt\n",
    "import numpy as np"
   ]
  },
  {
   "cell_type": "code",
   "execution_count": 3,
   "metadata": {},
   "outputs": [],
   "source": [
    "screw_type = 1 # single-start\n",
    "alpha = 14.5\n",
    "d_outer = 12.5\n",
    "pitch = 2.5\n",
    "Fc = 180\n",
    "d_collar = 13.5\n",
    "f_screw = 0.3\n",
    "f_collar = 0.3"
   ]
  },
  {
   "cell_type": "markdown",
   "metadata": {},
   "source": [
    "i) the load acting at the screw.\n",
    "\n",
    "$$+\\circlearrowleft \\sum M_A=0$$\n",
    "$$F_E(30)+F_B(70)=0$$\n",
    "$$F_E(30)+(180)(70)=0$$"
   ]
  },
  {
   "cell_type": "code",
   "execution_count": 4,
   "metadata": {},
   "outputs": [
    {
     "name": "stdout",
     "output_type": "stream",
     "text": [
      "E = 420.0\n"
     ]
    }
   ],
   "source": [
    "F_e = 180*70/30\n",
    "print(f'E = {F_e}')"
   ]
  },
  {
   "cell_type": "markdown",
   "metadata": {},
   "source": [
    "Load acting at the screw = $F_E = 420 N$"
   ]
  },
  {
   "cell_type": "markdown",
   "metadata": {},
   "source": [
    "ii) the torque required to tighten the screw.\n",
    "\n",
    "$$T_u = \\frac{Wd_m}{2} \\frac{f+\\cos\\alpha_n \\tan\\lambda}{\\cos\\alpha_n + f\\tan\\lambda} + \\frac{Wf_c d_c}{2}$$"
   ]
  },
  {
   "cell_type": "markdown",
   "metadata": {},
   "source": [
    "Find helix angle, \n",
    "$$ \\tan\\lambda = \\frac{L}{\\pi d_m} $$\n",
    "\n",
    "Find lead first,\n",
    "$$Lead, L=np$$\n",
    "\n",
    "$L=(1)(2.5)$"
   ]
  },
  {
   "cell_type": "code",
   "execution_count": 5,
   "metadata": {},
   "outputs": [
    {
     "name": "stdout",
     "output_type": "stream",
     "text": [
      "Lead=2.5\n"
     ]
    }
   ],
   "source": [
    "Lead = screw_type*pitch\n",
    "print(f'Lead={Lead}')"
   ]
  },
  {
   "cell_type": "markdown",
   "metadata": {},
   "source": [
    "Find mean diameter, $d_m = \\frac {D+(D-p)}{2}$\n",
    "\n",
    "$d_m = \\frac {12.5+(12.5-2.5)}{2}$"
   ]
  },
  {
   "cell_type": "code",
   "execution_count": 6,
   "metadata": {},
   "outputs": [
    {
     "name": "stdout",
     "output_type": "stream",
     "text": [
      "Mean diameter=11.25mm\n"
     ]
    }
   ],
   "source": [
    "d_inner = d_outer-pitch\n",
    "d_mean = (d_outer+d_inner)/2\n",
    "\n",
    "print(f'Mean diameter={d_mean}mm')\n"
   ]
  },
  {
   "cell_type": "markdown",
   "metadata": {},
   "source": [
    "From equation\n",
    "$$ \\tan\\lambda = \\frac{L}{\\pi d_m} $$"
   ]
  },
  {
   "cell_type": "code",
   "execution_count": 7,
   "metadata": {},
   "outputs": [
    {
     "name": "stdout",
     "output_type": "stream",
     "text": [
      "tan(lambda)=0.07073553026306459\n",
      "Lambda = 4.046108071701114\n"
     ]
    }
   ],
   "source": [
    "tan_lambda = Lead/(pi*d_mean)\n",
    "print(f'tan(lambda)={tan_lambda}')\n",
    "lambda_helix = degrees(atan(tan_lambda))\n",
    "print(f'Lambda = {lambda_helix}')"
   ]
  },
  {
   "cell_type": "markdown",
   "metadata": {},
   "source": [
    "From equation\n",
    "$$\\tan\\alpha_n=\\cos\\lambda \\tan \\alpha$$"
   ]
  },
  {
   "cell_type": "code",
   "execution_count": 8,
   "metadata": {},
   "outputs": [
    {
     "name": "stdout",
     "output_type": "stream",
     "text": [
      "alpha_n = 14.465378101066173\n"
     ]
    }
   ],
   "source": [
    "alpha_n = degrees(atan(cos(radians(lambda_helix))*tan(radians(alpha))))\n",
    "print(f'alpha_n = {alpha_n}')"
   ]
  },
  {
   "cell_type": "markdown",
   "metadata": {},
   "source": [
    "Insert to torque to lift the load equation\n",
    "$$T_u = \\frac{Wd_m}{2} \\frac{f+\\cos\\alpha_n \\tan\\lambda}{\\cos\\alpha_n - f\\tan\\lambda} + \\frac{Wf_c d_c}{2}$$"
   ]
  },
  {
   "cell_type": "code",
   "execution_count": 9,
   "metadata": {},
   "outputs": [
    {
     "name": "stdout",
     "output_type": "stream",
     "text": [
      "T_u=1.77N\n"
     ]
    }
   ],
   "source": [
    "d_mean=d_mean/1000\n",
    "d_collar=d_collar/1000\n",
    "T_u =(F_e*d_mean/2)*((f_screw+(cos(radians(alpha_n))*tan(radians(lambda_helix))))/(cos(radians(alpha_n))-(f_screw*tan(radians(lambda_helix)))))+(F_e*f_collar*d_collar/2)\n",
    "print(f'T_u={T_u:.2f}N')"
   ]
  },
  {
   "cell_type": "markdown",
   "metadata": {},
   "source": [
    "iii) the maximum compressive force, Fc, if allowable normal stress at the screw is 10 MPa.\n",
    "\n",
    "$$\\sigma = \\frac{F_E}{\\frac {\\pi d^2_{r}}{4}}$$\n",
    "\n",
    "$$10\\times 10^6 = \\frac{F_E}{\\frac {\\pi (0.010)^2}{4}}$$"
   ]
  },
  {
   "cell_type": "code",
   "execution_count": 10,
   "metadata": {},
   "outputs": [
    {
     "name": "stdout",
     "output_type": "stream",
     "text": [
      "E = 785.398N\n"
     ]
    }
   ],
   "source": [
    "F_e = 10E+6*pi*pow(d_inner/1000,2)/4\n",
    "print(f'E = {F_e:.3f}N')"
   ]
  },
  {
   "cell_type": "code",
   "execution_count": 14,
   "metadata": {},
   "outputs": [
    {
     "data": {
      "image/png": "[encoded data removed]",
      "text/plain": [
       "<Figure size 640x480 with 1 Axes>"
      ]
     },
     "metadata": {},
     "output_type": "display_data"
    }
   ],
   "source": [
    "# FBD for Link AB\n",
    "\n",
    "coorA = [0,0]\n",
    "coorB = [30,0]\n",
    "coorC = [70,10]\n",
    "\n",
    "data = np.array([coorA,coorB,coorC])\n",
    "x, y = data.T\n",
    "fig, ax = plt.subplots()\n",
    "ax.grid()\n",
    "ax.scatter(x,y, color='k')\n",
    "ax.arrow(coorB[0],coorB[1], 0,-5,width=0.5,color='r')\n",
    "ax.vlines(coorC[0],0,coorC[1], color='k', linestyles='dashed')\n",
    "ax.arrow(coorC[0],coorC[1], 0,-5,width=0.5,color='r')\n",
    "ax.hlines(0,0,70, color='k')\n",
    "\n",
    "ax.set(xlabel='x', ylabel='y',\n",
    "       title='FBD for Link AB')\n",
    "\n",
    "ax.text(coorB[0],coorB[1]-5,f'F_E')\n",
    "ax.text(coorC[0],coorC[1]-5,f'F_B')\n",
    "ax.text(coorA[0],coorA[1]+1,f'  A        30mm')\n",
    "ax.text(coorB[0],coorB[1]+1,f'  E               40mm')\n",
    "\n",
    "plt.axis('equal')\n",
    "plt.show()"
   ]
  },
  {
   "cell_type": "markdown",
   "metadata": {},
   "source": [
    "Calculate the force at B when force at E changed\n",
    "$$+\\circlearrowleft \\sum M_A=0$$\n",
    "$$F_E'(30)+F_B'(70)=0$$\n",
    "$$(785.398)(30)+F_B'(70)=0$$"
   ]
  },
  {
   "cell_type": "code",
   "execution_count": 12,
   "metadata": {},
   "outputs": [
    {
     "name": "stdout",
     "output_type": "stream",
     "text": [
      "Force at C = Force at B = 336.599N\n"
     ]
    }
   ],
   "source": [
    "F_b = F_e*30/70\n",
    "print(f'Force at C = Force at B = {F_b:.3f}N')"
   ]
  }
 ],
 "metadata": {
  "kernelspec": {
   "display_name": "p12",
   "language": "python",
   "name": "python3"
  },
  "language_info": {
   "codemirror_mode": {
    "name": "ipython",
    "version": 3
   },
   "file_extension": ".py",
   "mimetype": "text/x-python",
   "name": "python",
   "nbconvert_exporter": "python",
   "pygments_lexer": "ipython3",
   "version": "3.12.9"
  }
 },
 "nbformat": 4,
 "nbformat_minor": 2
}
