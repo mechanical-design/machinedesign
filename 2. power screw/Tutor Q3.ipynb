{
 "cells": [
  {
   "cell_type": "markdown",
   "metadata": {},
   "source": [
    "# Q3\n",
    "\n",
    "The bench hold-down clamp is being used to clamp two boards together while they are being glued as shown in Figure Q1(c). The clamp consists of a screw having single square threads of M12 X 2 and coefficient of friction in the screw thread is taken as 0.2.  The screw producing maximum power of 35 W when moving at 2mm/s axially.\n",
    "\n",
    " (i)   the torque acting at the screw \n",
    "\n",
    "(ii) the compression force exerted on the boards when torque as (i) is applied  \n",
    "\n",
    "(iii) Recommend the suitable handle length, d if the compression force is increased to 1.5 kN, thus the user need to apply force of 100 N on the handle. "
   ]
  },
  {
   "cell_type": "code",
   "execution_count": 54,
   "metadata": {},
   "outputs": [],
   "source": [
    "# Required\n",
    "from math import sin, cos, tan, pi, atan, asin, degrees, radians\n",
    "from matplotlib import pyplot as plt\n",
    "import numpy as np"
   ]
  },
  {
   "cell_type": "code",
   "execution_count": 55,
   "metadata": {},
   "outputs": [
    {
     "name": "stdout",
     "output_type": "stream",
     "text": [
      "Power Screw Type: Square thread\n"
     ]
    }
   ],
   "source": [
    "# Dimensions in m\n",
    "screw_type = 1 # single-start\n",
    "alpha = 0\n",
    "alpha_n = 0\n",
    "d_outer = 0.012\n",
    "d_collar = 0\n",
    "pitch = 0.002\n",
    "f_screw = 0.2\n",
    "f_collar = 0\n",
    "screw_power = 35\n",
    "v_linear = 2\n",
    "print('Power Screw Type: Square thread')"
   ]
  },
  {
   "cell_type": "markdown",
   "metadata": {},
   "source": [
    "(i)   the torque acting at the screw\n",
    "\n",
    "Power is given, we can find the torque using\n",
    "\n",
    "$$P=\\omega T$$\n",
    "$$P=\\frac {2\\pi n_{rpm}}{60} T$$"
   ]
  },
  {
   "cell_type": "markdown",
   "metadata": {},
   "source": [
    "Find $n_{rpm}$ using screw Linear Velocity\n",
    "\n",
    "$$v_{screw}=Lead\\times \\frac{n_{rpm}}{60}$$"
   ]
  },
  {
   "cell_type": "code",
   "execution_count": 56,
   "metadata": {},
   "outputs": [
    {
     "name": "stdout",
     "output_type": "stream",
     "text": [
      "Lead=2.0mm/turn\n"
     ]
    }
   ],
   "source": [
    "Lead = screw_type*pitch\n",
    "print(f'Lead={Lead*1000}mm/turn')"
   ]
  },
  {
   "cell_type": "markdown",
   "metadata": {},
   "source": [
    "$$2=2\\times \\frac{n_{rpm}}{60}$$"
   ]
  },
  {
   "cell_type": "code",
   "execution_count": 57,
   "metadata": {},
   "outputs": [
    {
     "name": "stdout",
     "output_type": "stream",
     "text": [
      "n_rpm=60rpm\n"
     ]
    }
   ],
   "source": [
    "n_rpm = 60\n",
    "print(f'n_rpm={n_rpm}rpm')"
   ]
  },
  {
   "cell_type": "markdown",
   "metadata": {},
   "source": [
    "$$35=\\frac {2\\pi (60)}{60} T$$"
   ]
  },
  {
   "cell_type": "code",
   "execution_count": 58,
   "metadata": {},
   "outputs": [
    {
     "name": "stdout",
     "output_type": "stream",
     "text": [
      "Torque, T = 5.570Nm\n"
     ]
    }
   ],
   "source": [
    "Torque = screw_power*60/(2*pi*n_rpm)\n",
    "print(f'Torque, T = {Torque:.3f}Nm')"
   ]
  },
  {
   "cell_type": "markdown",
   "metadata": {},
   "source": [
    "(ii) the compression force exerted on the boards when torque as (i) is applied"
   ]
  },
  {
   "cell_type": "code",
   "execution_count": 59,
   "metadata": {},
   "outputs": [
    {
     "data": {
      "image/png": "[encoded data removed]",
      "text/plain": [
       "<Figure size 640x480 with 1 Axes>"
      ]
     },
     "metadata": {},
     "output_type": "display_data"
    }
   ],
   "source": [
    "# FBD for Link AC\n",
    "\n",
    "coorA = [0,206.66]\n",
    "coorB = [75.425,180]\n",
    "coorC = [358.27,80]\n",
    "\n",
    "data = np.array([coorA,coorB,coorC])\n",
    "x, y = data.T\n",
    "fig, ax = plt.subplots()\n",
    "ax.grid()\n",
    "# ax.scatter(x,y, color='k')\n",
    "ax.plot(x,y, color='k', marker='o', markersize=5)\n",
    "ax.arrow(coorA[0],coorA[1], 20,50,width=2,color='r')\n",
    "ax.arrow(coorC[0],coorC[1], 20,50,width=2,color='r')\n",
    "ax.vlines(coorC[0],0,140, color='k', linestyles='dashed')\n",
    "ax.hlines(0,0,358.27, color='k')\n",
    "ax.hlines(80,0,358.27, color='k', linestyles='dashed')\n",
    "\n",
    "ax.set(xlabel='x', ylabel='y',\n",
    "       title='FBD for Link AC')\n",
    "\n",
    "ax.text(coorA[0]+40,coorA[1]+50,f'F_A')\n",
    "ax.text(coorC[0]+10,coorC[1]-5,f'F_C')\n",
    "ax.text(coorA[0],coorA[1]+1,f'  A        80mm')\n",
    "ax.text(coorB[0],coorB[1]+1,f'  B ')\n",
    "ax.text(coorB[0]+20,coorB[1]-25,f'               300mm')\n",
    "ax.text(coorC[0],coorC[1]-40,f'  80mm')\n",
    "\n",
    "plt.axis('equal')\n",
    "plt.show()"
   ]
  },
  {
   "cell_type": "markdown",
   "metadata": {},
   "source": [
    "Free body diagram\n",
    "\n",
    "$$+\\circlearrowleft \\sum M_B=0$$\n",
    "$$-F_A(80)+F_C(300)=0$$"
   ]
  },
  {
   "cell_type": "markdown",
   "metadata": {},
   "source": [
    "Find force at power screw to find $F_c$\n",
    "Force at power screw is load, W\n",
    "\n",
    "$$T_u = \\frac{Wd_m}{2} \\frac{f+\\cos\\alpha_n \\tan\\lambda}{\\cos\\alpha_n + f\\tan\\lambda} + \\frac{Wf_c d_c}{2}$$"
   ]
  },
  {
   "cell_type": "markdown",
   "metadata": {},
   "source": [
    "No collar friction and square thread is used\n",
    "\n",
    "$f_c = 0$ and $\\alpha=0 , \\alpha_n=0$\n",
    "\n",
    "$$T_u = \\frac{Wd_m}{2} \\frac{f+\\cos(0) \\tan\\lambda}{\\cos(0) + f\\tan\\lambda}$$"
   ]
  },
  {
   "cell_type": "markdown",
   "metadata": {},
   "source": [
    "Find mean diameter, $d_m = \\frac {D+(D-p)}{2}$\n",
    "\n",
    "$d_m = \\frac {12+(12-2)}{2}$"
   ]
  },
  {
   "cell_type": "code",
   "execution_count": 60,
   "metadata": {},
   "outputs": [
    {
     "name": "stdout",
     "output_type": "stream",
     "text": [
      "Mean diameter=0.011m\n",
      "Inner diameter=0.01m\n"
     ]
    }
   ],
   "source": [
    "d_inner = d_outer-pitch\n",
    "d_mean = (d_outer+d_inner)/2\n",
    "\n",
    "print(f'Mean diameter={d_mean}m')\n",
    "print(f'Inner diameter={d_inner}m')"
   ]
  },
  {
   "cell_type": "markdown",
   "metadata": {},
   "source": [
    "From equation\n",
    "$$ \\tan\\lambda = \\frac{L}{\\pi d_m} $$"
   ]
  },
  {
   "cell_type": "code",
   "execution_count": 61,
   "metadata": {},
   "outputs": [
    {
     "name": "stdout",
     "output_type": "stream",
     "text": [
      "tan(lambda)=0.057874524760689224\n",
      "Lambda = 3.312271200129051\n"
     ]
    }
   ],
   "source": [
    "tan_lambda = Lead/(pi*d_mean)\n",
    "print(f'tan(lambda)={tan_lambda}')\n",
    "lambda_helix = degrees(atan(tan_lambda))\n",
    "print(f'Lambda = {lambda_helix}')"
   ]
  },
  {
   "cell_type": "markdown",
   "metadata": {},
   "source": [
    "$$5.57 = \\frac{F_A (0.011)}{2} \\frac{(0.2)+\\cos(0) \\tan\\lambda}{\\cos(0) - (0.2)\\tan\\lambda}$$"
   ]
  },
  {
   "cell_type": "code",
   "execution_count": 62,
   "metadata": {},
   "outputs": [
    {
     "name": "stdout",
     "output_type": "stream",
     "text": [
      "F_a=3882.047N\n"
     ]
    }
   ],
   "source": [
    "F_a = 2*(cos(radians(alpha_n))-(f_screw*tan(radians(lambda_helix))))*Torque/(d_mean*(f_screw+(cos(radians(alpha_n))*tan(radians(lambda_helix)))))\n",
    "print(f'F_a={F_a:.3f}N')"
   ]
  },
  {
   "cell_type": "markdown",
   "metadata": {},
   "source": [
    "From\n",
    "$$-F_A(80)+F_C(300)=0$$\n",
    "$$-(3882)(80)+F_C(300)=0$$"
   ]
  },
  {
   "cell_type": "code",
   "execution_count": 63,
   "metadata": {},
   "outputs": [
    {
     "name": "stdout",
     "output_type": "stream",
     "text": [
      "F_c = 1035.21 N\n"
     ]
    }
   ],
   "source": [
    "F_c = round(F_a*80/300,2)\n",
    "print(f'F_c = {F_c} N')"
   ]
  },
  {
   "cell_type": "code",
   "execution_count": 64,
   "metadata": {},
   "outputs": [
    {
     "name": "stdout",
     "output_type": "stream",
     "text": [
      "theta=19.47\n"
     ]
    }
   ],
   "source": [
    "theta = round(degrees(asin(100/300)),2)\n",
    "print(f'theta={theta}')"
   ]
  },
  {
   "cell_type": "code",
   "execution_count": 65,
   "metadata": {},
   "outputs": [
    {
     "name": "stdout",
     "output_type": "stream",
     "text": [
      "F_cy=976.01N\n"
     ]
    }
   ],
   "source": [
    "F_cy=round(F_c*cos(radians(theta)),2)\n",
    "print(f'F_cy={F_cy:.2f}N')"
   ]
  },
  {
   "cell_type": "markdown",
   "metadata": {},
   "source": [
    "(iii) Recommend the suitable handle length, d if the compression force is increased to 1.5 kN, thus the user need to apply force of 100 N on the handle. "
   ]
  },
  {
   "cell_type": "code",
   "execution_count": 71,
   "metadata": {},
   "outputs": [
    {
     "name": "stdout",
     "output_type": "stream",
     "text": [
      "New perpendicular force at C, Fc=1591.0N\n"
     ]
    }
   ],
   "source": [
    "F_cy_new = 1500\n",
    "F_c_new = round(F_cy_new/cos(radians(theta)),0)\n",
    "print(f'New perpendicular force at C, Fc={F_c_new:.1f}N')"
   ]
  },
  {
   "cell_type": "markdown",
   "metadata": {},
   "source": [
    "From\n",
    "$$-F_A(80)+F_C(300)=0$$\n",
    "$$-F_A(80)+(1414.21)(300)=0$$"
   ]
  },
  {
   "cell_type": "code",
   "execution_count": 73,
   "metadata": {},
   "outputs": [
    {
     "name": "stdout",
     "output_type": "stream",
     "text": [
      "New  force at A, Fa=5966.25N\n"
     ]
    }
   ],
   "source": [
    "F_a=F_c_new*300/80\n",
    "print(f'New  force at A, Fa={F_a:.2f}N')"
   ]
  },
  {
   "cell_type": "code",
   "execution_count": 74,
   "metadata": {},
   "outputs": [
    {
     "name": "stdout",
     "output_type": "stream",
     "text": [
      "T_u=8.56N\n"
     ]
    }
   ],
   "source": [
    "T_u_new =(F_a*d_mean/2)*((f_screw+(cos(radians(alpha_n))*tan(radians(lambda_helix))))/(cos(radians(alpha_n))-(f_screw*tan(radians(lambda_helix)))))+(F_a*f_collar*d_collar/2)\n",
    "print(f'T_u={T_u_new:.2f}N')"
   ]
  },
  {
   "cell_type": "markdown",
   "metadata": {},
   "source": [
    "Torque equation\n",
    "$$T_u = r \\times F_a$$\n",
    "$$8.56 = r \\times 5966.25$$\n",
    "$$d=2\\times r$$"
   ]
  },
  {
   "cell_type": "code",
   "execution_count": 77,
   "metadata": {},
   "outputs": [
    {
     "name": "stdout",
     "output_type": "stream",
     "text": [
      "Lever length, d=0.171m\n"
     ]
    }
   ],
   "source": [
    "d_forLever = round(2*T_u_new/100,3)\n",
    "print(f'Lever length, d={d_forLever}m')"
   ]
  }
 ],
 "metadata": {
  "kernelspec": {
   "display_name": "p12",
   "language": "python",
   "name": "python3"
  },
  "language_info": {
   "codemirror_mode": {
    "name": "ipython",
    "version": 3
   },
   "file_extension": ".py",
   "mimetype": "text/x-python",
   "name": "python",
   "nbconvert_exporter": "python",
   "pygments_lexer": "ipython3",
   "version": "3.12.9"
  }
 },
 "nbformat": 4,
 "nbformat_minor": 2
}
