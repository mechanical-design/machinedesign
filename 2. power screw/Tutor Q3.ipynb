{
 "cells": [
  {
   "cell_type": "markdown",
   "metadata": {},
   "source": [
    "# Q4\n",
    "\n",
    "The bench hold-down clamp is being used to clamp two boards together while they are being glued as shown in Figure Q1(c). The clamp consists of a screw having single square threads of M12 X 2 and coefficient of friction in the screw thread is taken as 0.2.  The screw producing maximum power of 35 W when moving at 2mm/s axially.\n",
    "\n",
    " (i)   the torque acting at the screw \n",
    "\n",
    "(ii) the compression force exerted on the boards when torque as (i) is applied  \n",
    "\n",
    "(iii) Recommend the suitable handle length, d if the compression force is increased to 1.5 kN, thus the user need to apply force of 100 N on the handle. "
   ]
  },
  {
   "cell_type": "code",
   "execution_count": 2,
   "metadata": {},
   "outputs": [],
   "source": [
    "# Required\n",
    "from math import sin, cos, tan, pi, atan, asin, degrees, radians"
   ]
  },
  {
   "cell_type": "code",
   "execution_count": 3,
   "metadata": {},
   "outputs": [
    {
     "name": "stdout",
     "output_type": "stream",
     "text": [
      "Power Screw Type: Square thread\n"
     ]
    }
   ],
   "source": [
    "# Dimensions in m\n",
    "screw_type = 1 # single-start\n",
    "alpha = 0\n",
    "alpha_n = 0\n",
    "d_outer = 0.012\n",
    "d_collar = 0\n",
    "pitch = 0.002\n",
    "f_screw = 0.2\n",
    "f_collar = 0\n",
    "screw_power = 35\n",
    "v_linear = 2\n",
    "print('Power Screw Type: Square thread')"
   ]
  },
  {
   "cell_type": "markdown",
   "metadata": {},
   "source": [
    "(i)   the torque acting at the screw\n",
    "\n",
    "Power is given, we can find the torque using\n",
    "\n",
    "$$P=\\omega T$$\n",
    "$$P=\\frac {2\\pi n_{rpm}}{60} T$$"
   ]
  },
  {
   "cell_type": "markdown",
   "metadata": {},
   "source": [
    "Find $n_{rpm}$ using screw Linear Velocity\n",
    "\n",
    "$$v_{screw}=Lead\\times \\frac{n_{rpm}}{60}$$"
   ]
  },
  {
   "cell_type": "code",
   "execution_count": 4,
   "metadata": {},
   "outputs": [
    {
     "name": "stdout",
     "output_type": "stream",
     "text": [
      "Lead=2.0mm/turn\n"
     ]
    }
   ],
   "source": [
    "Lead = screw_type*pitch\n",
    "print(f'Lead={Lead*1000}mm/turn')"
   ]
  },
  {
   "cell_type": "markdown",
   "metadata": {},
   "source": [
    "$$2=2\\times \\frac{n_{rpm}}{60}$$"
   ]
  },
  {
   "cell_type": "code",
   "execution_count": 5,
   "metadata": {},
   "outputs": [
    {
     "name": "stdout",
     "output_type": "stream",
     "text": [
      "n_rpm=60rpm\n"
     ]
    }
   ],
   "source": [
    "n_rpm = 60\n",
    "print(f'n_rpm={n_rpm}rpm')"
   ]
  },
  {
   "cell_type": "markdown",
   "metadata": {},
   "source": [
    "$$35=\\frac {2\\pi (60)}{60} T$$"
   ]
  },
  {
   "cell_type": "code",
   "execution_count": 6,
   "metadata": {},
   "outputs": [
    {
     "name": "stdout",
     "output_type": "stream",
     "text": [
      "Torque, T = 5.570Nm\n"
     ]
    }
   ],
   "source": [
    "Torque = screw_power*60/(2*pi*n_rpm)\n",
    "print(f'Torque, T = {Torque:.3f}Nm')"
   ]
  },
  {
   "cell_type": "markdown",
   "metadata": {},
   "source": [
    "(ii) the compression force exerted on the boards when torque as (i) is applied\n",
    "\n",
    "Free body diagram\n",
    "\n",
    "$$+\\circlearrowleft \\sum M_B=0$$\n",
    "$$-F_A(80)+F_C(300)=0$$"
   ]
  },
  {
   "cell_type": "markdown",
   "metadata": {},
   "source": [
    "Find force at power screw to find $F_c$\n",
    "Force at power screw is load, W\n",
    "\n",
    "$$T_u = \\frac{Wd_m}{2} \\frac{f+\\cos\\alpha_n \\tan\\lambda}{\\cos\\alpha_n + f\\tan\\lambda} + \\frac{Wf_c d_c}{2}$$"
   ]
  },
  {
   "cell_type": "markdown",
   "metadata": {},
   "source": [
    "No collar friction and square thread is used\n",
    "\n",
    "$f_c = 0$ and $\\alpha=0 , \\alpha_n=0$\n",
    "\n",
    "$$T_u = \\frac{Wd_m}{2} \\frac{f+\\cos(0) \\tan\\lambda}{\\cos(0) + f\\tan\\lambda}$$"
   ]
  },
  {
   "cell_type": "markdown",
   "metadata": {},
   "source": [
    "Find mean diameter, $d_m = \\frac {D+(D-p)}{2}$\n",
    "\n",
    "$d_m = \\frac {12+(12-2)}{2}$"
   ]
  },
  {
   "cell_type": "code",
   "execution_count": 7,
   "metadata": {},
   "outputs": [
    {
     "name": "stdout",
     "output_type": "stream",
     "text": [
      "Mean diameter=0.011m\n",
      "Inner diameter=0.01m\n"
     ]
    }
   ],
   "source": [
    "d_inner = d_outer-pitch\n",
    "d_mean = (d_outer+d_inner)/2\n",
    "\n",
    "print(f'Mean diameter={d_mean}m')\n",
    "print(f'Inner diameter={d_inner}m')"
   ]
  },
  {
   "cell_type": "markdown",
   "metadata": {},
   "source": [
    "From equation\n",
    "$$ \\tan\\lambda = \\frac{L}{\\pi d_m} $$"
   ]
  },
  {
   "cell_type": "code",
   "execution_count": 8,
   "metadata": {},
   "outputs": [
    {
     "name": "stdout",
     "output_type": "stream",
     "text": [
      "tan(lambda)=0.057874524760689224\n",
      "Lambda = 3.312271200129051\n"
     ]
    }
   ],
   "source": [
    "tan_lambda = Lead/(pi*d_mean)\n",
    "print(f'tan(lambda)={tan_lambda}')\n",
    "lambda_helix = degrees(atan(tan_lambda))\n",
    "print(f'Lambda = {lambda_helix}')"
   ]
  },
  {
   "cell_type": "markdown",
   "metadata": {},
   "source": [
    "$$5.57 = \\frac{F_A (0.011)}{2} \\frac{(0.2)+\\cos(0) \\tan\\lambda}{\\cos(0) - (0.2)\\tan\\lambda}$$"
   ]
  },
  {
   "cell_type": "code",
   "execution_count": 9,
   "metadata": {},
   "outputs": [
    {
     "name": "stdout",
     "output_type": "stream",
     "text": [
      "F_a=3882.047N\n"
     ]
    }
   ],
   "source": [
    "F_a = 2*(cos(radians(alpha_n))-(f_screw*tan(radians(lambda_helix))))*Torque/(d_mean*(f_screw+(cos(radians(alpha_n))*tan(radians(lambda_helix)))))\n",
    "print(f'F_a={F_a:.3f}N')"
   ]
  },
  {
   "cell_type": "markdown",
   "metadata": {},
   "source": [
    "From\n",
    "$$-F_A(80)+F_C(300)=0$$\n",
    "$$-(3882)(80)+F_C(300)=0$$"
   ]
  },
  {
   "cell_type": "code",
   "execution_count": 10,
   "metadata": {},
   "outputs": [
    {
     "name": "stdout",
     "output_type": "stream",
     "text": [
      "F_c = 1035.21 N\n"
     ]
    }
   ],
   "source": [
    "F_c = round(F_a*80/300,2)\n",
    "print(f'F_c = {F_c} N')"
   ]
  },
  {
   "cell_type": "code",
   "execution_count": 11,
   "metadata": {},
   "outputs": [
    {
     "name": "stdout",
     "output_type": "stream",
     "text": [
      "theta=19.47122063449069\n"
     ]
    }
   ],
   "source": [
    "theta = degrees(asin(100/300))\n",
    "print(f'theta={theta}')"
   ]
  },
  {
   "cell_type": "code",
   "execution_count": 12,
   "metadata": {},
   "outputs": [
    {
     "name": "stdout",
     "output_type": "stream",
     "text": [
      "F_cy=1098.006N\n"
     ]
    }
   ],
   "source": [
    "F_cy=F_c/cos(radians(theta))\n",
    "print(f'F_cy={F_cy:.3f}N')"
   ]
  },
  {
   "cell_type": "markdown",
   "metadata": {},
   "source": [
    "(iii) Recommend the suitable handle length, d if the compression force is increased to 1.5 kN, thus the user need to apply force of 100 N on the handle. "
   ]
  },
  {
   "cell_type": "code",
   "execution_count": 13,
   "metadata": {},
   "outputs": [
    {
     "name": "stdout",
     "output_type": "stream",
     "text": [
      "New perpendicular force at C, Fc=1414.214N\n"
     ]
    }
   ],
   "source": [
    "F_cy = 1500\n",
    "F_c = F_cy*cos(radians(theta))\n",
    "print(f'New perpendicular force at C, Fc={F_c:.3f}N')"
   ]
  },
  {
   "cell_type": "markdown",
   "metadata": {},
   "source": [
    "From\n",
    "$$-F_A(80)+F_C(300)=0$$\n",
    "$$-F_A(80)+(1414.21)(300)=0$$"
   ]
  },
  {
   "cell_type": "code",
   "execution_count": 14,
   "metadata": {},
   "outputs": [
    {
     "name": "stdout",
     "output_type": "stream",
     "text": [
      "New  force at A, Fa=5303.301N\n"
     ]
    }
   ],
   "source": [
    "F_a=F_c*300/80\n",
    "print(f'New  force at A, Fa={F_a:.3f}N')"
   ]
  },
  {
   "cell_type": "code",
   "execution_count": 15,
   "metadata": {},
   "outputs": [
    {
     "name": "stdout",
     "output_type": "stream",
     "text": [
      "T_u=7.61N\n"
     ]
    }
   ],
   "source": [
    "T_u =(F_a*d_mean/2)*((f_screw+(cos(radians(alpha_n))*tan(radians(lambda_helix))))/(cos(radians(alpha_n))-(f_screw*tan(radians(lambda_helix)))))+(F_a*f_collar*d_collar/2)\n",
    "print(f'T_u={T_u:.2f}N')"
   ]
  },
  {
   "cell_type": "markdown",
   "metadata": {},
   "source": [
    "Torque equation\n",
    "$$T_u = r \\times F_a$$\n",
    "$$7.61 = r \\times 5303.3$$\n",
    "$$d=2\\times r$$"
   ]
  },
  {
   "cell_type": "code",
   "execution_count": 16,
   "metadata": {},
   "outputs": [
    {
     "name": "stdout",
     "output_type": "stream",
     "text": [
      "Lever length, d=0.0028698378729753162m\n"
     ]
    }
   ],
   "source": [
    "d_forLever = 2*T_u/F_a\n",
    "print(f'Lever length, d={d_forLever}m')"
   ]
  }
 ],
 "metadata": {
  "kernelspec": {
   "display_name": "p12",
   "language": "python",
   "name": "python3"
  },
  "language_info": {
   "codemirror_mode": {
    "name": "ipython",
    "version": 3
   },
   "file_extension": ".py",
   "mimetype": "text/x-python",
   "name": "python",
   "nbconvert_exporter": "python",
   "pygments_lexer": "ipython3",
   "version": "3.12.9"
  }
 },
 "nbformat": 4,
 "nbformat_minor": 2
}
