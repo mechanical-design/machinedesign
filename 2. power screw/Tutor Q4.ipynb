{
 "cells": [
  {
   "cell_type": "markdown",
   "id": "88058ba7",
   "metadata": {},
   "source": [
    "# Q4\n",
    "The screw is a double-start ACME thread of M12x 1.5. The clamping force exerted at G is FG=900 N. The mean diameter of the collar is dc = 22 mm. Coefficients of friction for screw and collar are estimated as f = 0.3 and fc = 0.15 respectively. The screw will travel axially at 95 mm/s. Find,\n",
    "\n",
    "i) The screw lead, mean diameter, and helix angle\n",
    "\n",
    "ii) The force and axial stress acting on the screw\n",
    "\n",
    "iii) The torque for lifting and for lowering the load\n",
    "\n",
    "iv) The force needed to apply perpendicular at E to produce the clamping force\n",
    "\n",
    "v) The angular rotation of the screw in rps\n",
    "\n",
    "vi) The power produced by the power screw\n",
    "\n",
    "vii) The efficiency of the jack when lifting the load\n",
    "\n",
    "viii) Whether the screw is overhauling\n",
    "\n",
    "**Well-defined problem**\n",
    "\n",
    "1. Determine the maximum compressive force, if the new allowable normal stress at the screw is 30 MPa.\n",
    "\n",
    "2. Recommend the suitable length of the handle if the compression force is increased to 1.5 kN, thus the user needs to apply force of 100 N on the handle.\n",
    "\n",
    "3. Determine the new efficiency on the screw if a SQUARE thread is used. Compare the efficiency.\n"
   ]
  },
  {
   "cell_type": "code",
   "execution_count": 121,
   "id": "fe9fa697",
   "metadata": {},
   "outputs": [],
   "source": [
    "# Required\n",
    "from math import sin, cos, tan, pi, atan, asin, degrees, radians\n",
    "from matplotlib import pyplot as plt\n",
    "import numpy as np"
   ]
  },
  {
   "cell_type": "code",
   "execution_count": 122,
   "id": "11ac4b66",
   "metadata": {},
   "outputs": [
    {
     "name": "stdout",
     "output_type": "stream",
     "text": [
      "Power Screw Type: Acme thread\n"
     ]
    }
   ],
   "source": [
    "# Dimensions in m\n",
    "print('Power Screw Type: Acme thread')\n",
    "screw_type = 2 # double-start\n",
    "alpha = 14.5\n",
    "d_outer = 0.012\n",
    "pitch = 0.0015\n",
    "d_collar = 0.022\n",
    "f_screw = 0.3\n",
    "f_collar = 0.15\n",
    "v_linear = 95e-3\n",
    "F_c = 900"
   ]
  },
  {
   "cell_type": "markdown",
   "id": "da91b4e4",
   "metadata": {},
   "source": [
    "i) The screw lead, mean diameter, and helix angle\n",
    "\n",
    "$$Lead, L=np$$\n",
    "\n",
    "$L=(2)(1.5)$"
   ]
  },
  {
   "cell_type": "code",
   "execution_count": 123,
   "id": "2b054378",
   "metadata": {},
   "outputs": [
    {
     "name": "stdout",
     "output_type": "stream",
     "text": [
      "Lead=3.0 mm\n"
     ]
    }
   ],
   "source": [
    "Lead = screw_type*pitch\n",
    "print(f'Lead={Lead*1000} mm')"
   ]
  },
  {
   "cell_type": "markdown",
   "id": "8bf1e332",
   "metadata": {},
   "source": [
    "Find mean diameter, $d_m = \\frac {D+(D-p)}{2}$\n",
    "\n",
    "$d_m = \\frac {12+(12-3)}{2}$"
   ]
  },
  {
   "cell_type": "code",
   "execution_count": 124,
   "id": "9c4f0037",
   "metadata": {},
   "outputs": [
    {
     "name": "stdout",
     "output_type": "stream",
     "text": [
      "Mean diameter=11.25mm\n"
     ]
    }
   ],
   "source": [
    "d_inner = d_outer-pitch\n",
    "d_mean = (d_outer+d_inner)/2\n",
    "\n",
    "print(f'Mean diameter={d_mean*1000}mm')"
   ]
  },
  {
   "cell_type": "markdown",
   "id": "4b57cbec",
   "metadata": {},
   "source": [
    "Find helix angle, \n",
    "$$ \\tan\\lambda = \\frac{L}{\\pi d_m} $$\n",
    "\n",
    "\n",
    "$$ \\tan\\lambda = \\frac{3mm}{\\pi (11.25mm)} $$"
   ]
  },
  {
   "cell_type": "code",
   "execution_count": 125,
   "id": "1a80e6af",
   "metadata": {},
   "outputs": [
    {
     "name": "stdout",
     "output_type": "stream",
     "text": [
      "tan(lambda)=0.08488263631567751\n",
      "Lambda = 4.85\n"
     ]
    }
   ],
   "source": [
    "tan_lambda = Lead/(pi*d_mean)\n",
    "print(f'tan(lambda)={tan_lambda}')\n",
    "lambda_helix = round(degrees(atan(tan_lambda)),2)\n",
    "print(f'Lambda = {lambda_helix}')"
   ]
  },
  {
   "cell_type": "markdown",
   "id": "b8a21ed1",
   "metadata": {},
   "source": [
    "ii) The force and axial stress acting on the screw"
   ]
  },
  {
   "cell_type": "code",
   "execution_count": 126,
   "id": "fc8be663",
   "metadata": {},
   "outputs": [
    {
     "data": {
      "image/png": "[encoded data removed]",
      "text/plain": [
       "<Figure size 640x480 with 1 Axes>"
      ]
     },
     "metadata": {},
     "output_type": "display_data"
    }
   ],
   "source": [
    "# FBD for Link AB\n",
    "\n",
    "coorA = [0,0]\n",
    "coorB = [200,0]\n",
    "coorC = [400,00]\n",
    "\n",
    "data = np.array([coorA,coorB,coorC])\n",
    "x, y = data.T\n",
    "fig, ax = plt.subplots()\n",
    "ax.grid()\n",
    "ax.scatter(x,y, color='k')\n",
    "ax.arrow(coorA[0],coorA[1], 0,-50,width=2,color='r')\n",
    "ax.arrow(coorC[0],coorC[1], 0,50,width=2,color='r')\n",
    "ax.hlines(0,0,400, color='k')\n",
    "\n",
    "ax.set(xlabel='x', ylabel='y',\n",
    "       title='FBD for Link CG')\n",
    "\n",
    "ax.text(coorA[0],coorA[1]+40,f'F_G')\n",
    "ax.text(coorC[0],coorC[1]+40,f'F_C')\n",
    "ax.text(coorA[0],coorA[1]+10,f'  G        200mm')\n",
    "ax.text(coorB[0],coorB[1]+10,f'  A        200mm')\n",
    "\n",
    "plt.axis('equal')\n",
    "plt.show()"
   ]
  },
  {
   "cell_type": "markdown",
   "id": "2257fda0",
   "metadata": {},
   "source": [
    "\n",
    "\n",
    "Free body diagram\n",
    "\n",
    "$$+\\circlearrowleft \\sum M_A=0$$\n",
    "$$-900(0.2)+F_{screw}(0.2)=0$$\n",
    "$$F_{screw}=-900N$$\n",
    "\n",
    "Use 900N in calculation. Negative just to show compression."
   ]
  },
  {
   "cell_type": "markdown",
   "id": "c2be7f33",
   "metadata": {},
   "source": [
    "Axial stress\n",
    "\n",
    "$$\\sigma = \\frac{F_{screw}}{\\frac {\\pi d^2_{r}}{4}}$$\n",
    "\n",
    "Use inner diameter to find axial stress\n",
    "\n",
    "$$d_r=D-p$$\n",
    "$$d_r=12-1.5$$"
   ]
  },
  {
   "cell_type": "code",
   "execution_count": 127,
   "id": "60e8f82f",
   "metadata": {},
   "outputs": [
    {
     "name": "stdout",
     "output_type": "stream",
     "text": [
      "Inner diameter=10.5mm\n"
     ]
    }
   ],
   "source": [
    "print(f'Inner diameter={d_inner*1000}mm')"
   ]
  },
  {
   "cell_type": "code",
   "execution_count": 128,
   "id": "cc43c46a",
   "metadata": {},
   "outputs": [
    {
     "name": "stdout",
     "output_type": "stream",
     "text": [
      "Force acting on the screw = 900N\n",
      "Axial stress = 1.039e+07Pa\n",
      "Axial stress = 10.394MPa\n"
     ]
    }
   ],
   "source": [
    "stress = F_c/(pi*pow(d_inner,2)/4)\n",
    "print(f'Force acting on the screw = {F_c}N')\n",
    "print(f'Axial stress = {stress:.3e}Pa')\n",
    "print(f'Axial stress = {stress/1e6:.3f}MPa')"
   ]
  },
  {
   "cell_type": "markdown",
   "id": "c384c0ca",
   "metadata": {},
   "source": [
    "iii) The torque for lifting and for lowering the load\n",
    "\n",
    "Torque to lift the load equation\n",
    "$$T_u = \\frac{Wd_m}{2} \\frac{f+\\cos\\alpha_n \\tan\\lambda}{\\cos\\alpha_n - f\\tan\\lambda} + \\frac{Wf_c d_c}{2}$$\n",
    "\n",
    "$\\alpha_n$ is unknown. Find using\n",
    "\n",
    "$$\\tan\\alpha_n=\\cos\\lambda \\tan \\alpha$$"
   ]
  },
  {
   "cell_type": "code",
   "execution_count": 129,
   "id": "da322177",
   "metadata": {},
   "outputs": [
    {
     "name": "stdout",
     "output_type": "stream",
     "text": [
      "alpha_n = 14.45\n"
     ]
    }
   ],
   "source": [
    "alpha_n = round(degrees(atan(cos(radians(lambda_helix))*tan(radians(alpha)))),2)\n",
    "print(f'alpha_n = {alpha_n}')"
   ]
  },
  {
   "cell_type": "code",
   "execution_count": 130,
   "id": "4a734143",
   "metadata": {},
   "outputs": [
    {
     "name": "stdout",
     "output_type": "stream",
     "text": [
      "T_u=3.54Nm\n"
     ]
    }
   ],
   "source": [
    "T_u =round((F_c*d_mean/2)*((f_screw+(cos(radians(alpha_n))*tan(radians(lambda_helix))))/(cos(radians(alpha_n))-(f_screw*tan(radians(lambda_helix)))))+(F_c*f_collar*d_collar/2),2)\n",
    "print(f'T_u={T_u:.2f}Nm')"
   ]
  },
  {
   "cell_type": "markdown",
   "id": "e72004ae",
   "metadata": {},
   "source": [
    "Torque to lower the load\n",
    "\n",
    "$$T_d = \\frac{Wd_m}{2} \\frac{f-\\cos\\alpha_n \\tan\\lambda}{\\cos\\alpha_n + f\\tan\\lambda} + \\frac{Wf_c d_c}{2}$$"
   ]
  },
  {
   "cell_type": "code",
   "execution_count": 131,
   "id": "7068f589",
   "metadata": {},
   "outputs": [
    {
     "name": "stdout",
     "output_type": "stream",
     "text": [
      "T_d=2.59e+00Nm\n"
     ]
    }
   ],
   "source": [
    "T_d =(F_c*d_mean/2)*((f_screw-(cos(radians(alpha_n))*tan(radians(lambda_helix))))/(cos(radians(alpha_n))+(f_screw*tan(radians(lambda_helix)))))+(F_c*f_collar*d_collar/2)\n",
    "print(f'T_d={T_d:.2e}Nm')"
   ]
  },
  {
   "cell_type": "markdown",
   "id": "e8ee8572",
   "metadata": {},
   "source": [
    "iv) The force needed to apply perpendicular at E to produce the clamping force\n",
    "\n",
    "$$T_u=F \\times d$$\n",
    "\n",
    "where, d is perpendicular distance to generate the torque.\n",
    "\n",
    "$$3.53=F \\times 125\\times 10^{-3}$$"
   ]
  },
  {
   "cell_type": "code",
   "execution_count": 132,
   "id": "9c5ba89c",
   "metadata": {},
   "outputs": [
    {
     "name": "stdout",
     "output_type": "stream",
     "text": [
      "Force at E = 28.32N\n"
     ]
    }
   ],
   "source": [
    "F_E = T_u/(125e-3)  # 1.25 mm is the perpendicular distance to generate the torque\n",
    "print(f'Force at E = {F_E:.2f}N')"
   ]
  },
  {
   "cell_type": "markdown",
   "id": "ea822149",
   "metadata": {},
   "source": [
    "v) The angular rotation of the screw in rps (revolution per second)\n",
    "\n",
    "If rpm is used\n",
    "$$V_{linear}=Lead \\times n_{rpm} \\times \\frac {1 min}{60 s}$$\n",
    "\n",
    "Change rpm to rps\n",
    "\n",
    "$$V_{linear}=Lead \\times n_{s}$$\n",
    "\n",
    "We know, lead is mm/rev OR mm/turn\n",
    "\n",
    "Therefore,\n",
    "\n",
    "$$\\frac{95mm}{s}=\\frac{3mm}{1rev} \\times n_{s}$$\n",
    "$$n_s= \\frac{95mm/s}{3mm/rev}$$"
   ]
  },
  {
   "cell_type": "code",
   "execution_count": 133,
   "id": "b0d332b7",
   "metadata": {},
   "outputs": [
    {
     "name": "stdout",
     "output_type": "stream",
     "text": [
      "Screw rotational speed = 31.67rev/s\n"
     ]
    }
   ],
   "source": [
    "n_sec = v_linear/Lead\n",
    "print(f'Screw rotational speed = {n_sec:.2f}rev/s')"
   ]
  },
  {
   "cell_type": "markdown",
   "id": "65a296b3",
   "metadata": {},
   "source": [
    "vi) The power produced by the power screw\n",
    "\n",
    "Convert rps to rpm\n",
    "\n",
    "$$\\frac {31.67 rev}{s} \\times \\frac {60s}{1m}=1900rpm$$\n",
    "\n",
    "Then substitute into power equation\n",
    "\n",
    "$$P=\\frac{2\\pi n}{60} T_u$$"
   ]
  },
  {
   "cell_type": "code",
   "execution_count": 134,
   "id": "90cd2a73",
   "metadata": {},
   "outputs": [
    {
     "name": "stdout",
     "output_type": "stream",
     "text": [
      "n_rpm = 1900.0rpm\n",
      "Power = 704.35 W\n"
     ]
    }
   ],
   "source": [
    "n_rpm = n_sec*60\n",
    "print(f'n_rpm = {n_rpm}rpm')\n",
    "Power = round((2*pi*n_rpm/60)*T_u,2)\n",
    "print(f'Power = {Power} W')"
   ]
  },
  {
   "cell_type": "markdown",
   "id": "07292a6c",
   "metadata": {},
   "source": [
    "vii) The efficiency of the jack when lifting the load\n",
    "\n",
    "Efficiency equation\n",
    "$$e=\\frac{d_m \\tan \\lambda}{d_m \\frac{f+\\cos\\alpha_n \\tan\\lambda}{\\cos\\alpha_n - f\\tan\\lambda}+d_c f_c}$$"
   ]
  },
  {
   "cell_type": "code",
   "execution_count": 135,
   "id": "c83fa47a",
   "metadata": {},
   "outputs": [
    {
     "name": "stdout",
     "output_type": "stream",
     "text": [
      "Efficiency=0.12149080284030114\n"
     ]
    }
   ],
   "source": [
    "efficiency=(d_mean*tan_lambda)/(d_mean*((f_screw+(cos(radians(alpha_n))*tan_lambda))/(cos(radians(alpha_n))-(f_screw*tan_lambda)))+(d_collar*f_collar))\n",
    "print(f'Efficiency={efficiency}')"
   ]
  },
  {
   "cell_type": "markdown",
   "id": "845da97a",
   "metadata": {},
   "source": [
    "viii) Whether the screw is overhauling\n",
    "\n",
    "Overhaul when $f<\\cos \\alpha_n \\tan \\lambda$"
   ]
  },
  {
   "cell_type": "code",
   "execution_count": 136,
   "id": "345e8207",
   "metadata": {},
   "outputs": [
    {
     "name": "stdout",
     "output_type": "stream",
     "text": [
      "cos alpha_n tan lambda=0.08198285632251331\n",
      "f_screw,0.3 larger than cos alpha_n tan lambda,0.08198285632251331\n"
     ]
    }
   ],
   "source": [
    "checkOverhaul = atan(cos(radians(alpha_n))*tan(radians(lambda_helix)))\n",
    "print(f'cos alpha_n tan lambda={checkOverhaul}')\n",
    "print(f'f_screw,{f_screw} larger than cos alpha_n tan lambda,{checkOverhaul}')"
   ]
  },
  {
   "cell_type": "markdown",
   "id": "f26d3e73",
   "metadata": {},
   "source": [
    "f_screw larger than $\\cos \\alpha_n \\tan \\lambda$. So the screw will not overhaul."
   ]
  },
  {
   "cell_type": "markdown",
   "id": "4533c746",
   "metadata": {},
   "source": [
    "**Well-define problem**\n",
    "\n",
    "1. Determine the maximum compressive force, if the new allowable normal stress at the screw is 30 MPa."
   ]
  },
  {
   "cell_type": "code",
   "execution_count": 137,
   "id": "d627c146",
   "metadata": {},
   "outputs": [
    {
     "name": "stdout",
     "output_type": "stream",
     "text": [
      "From allowable stress 10.39MPa to 30 MPa\n"
     ]
    }
   ],
   "source": [
    "print(f'From allowable stress {stress/1E+6:.2f}MPa to 30 MPa')\n",
    "stress_new = 30E+6"
   ]
  },
  {
   "cell_type": "markdown",
   "id": "5d67dc19",
   "metadata": {},
   "source": [
    "Axial stress\n",
    "\n",
    "$$\\sigma = \\frac{F_{screw}}{\\frac {\\pi d^2_{r}}{4}}$$\n",
    "\n",
    "New force at screw, $F'_{screw}$\n",
    "$$30Mpa = \\frac{F'_{screw}}{\\frac {\\pi (0.0105)}{4}}$$"
   ]
  },
  {
   "cell_type": "code",
   "execution_count": 138,
   "id": "a76bd261",
   "metadata": {},
   "outputs": [
    {
     "name": "stdout",
     "output_type": "stream",
     "text": [
      "f_screw_new=2597.7 N\n"
     ]
    }
   ],
   "source": [
    "f_screw_new = round(stress_new*(pi*pow(d_inner,2)/4),2)\n",
    "print(f'f_screw_new={f_screw_new} N')"
   ]
  },
  {
   "cell_type": "markdown",
   "id": "51fadad5",
   "metadata": {},
   "source": [
    "$$+\\circlearrowleft \\sum M_A=0$$\n",
    "$$F'_c(0.2)+F'_{screw}(0.2)=0$$\n",
    "$$F'_c(0.2)+2597.7(0.2)=0$$\n",
    "$$F_{screw}=-2597.7N$$"
   ]
  },
  {
   "cell_type": "code",
   "execution_count": 139,
   "id": "2a47fb7e",
   "metadata": {},
   "outputs": [
    {
     "name": "stdout",
     "output_type": "stream",
     "text": [
      "F_c_new=2597.7 N\n"
     ]
    }
   ],
   "source": [
    "F_c_new = f_screw_new\n",
    "print(f'F_c_new={F_c_new} N')"
   ]
  },
  {
   "cell_type": "markdown",
   "id": "fc101e9b",
   "metadata": {},
   "source": [
    "2. Recommend the suitable length of the handle if the compression force is increased to1.5 kN, thus the user needs to apply force of 100 N on the handle."
   ]
  },
  {
   "cell_type": "code",
   "execution_count": 140,
   "id": "dab320f7",
   "metadata": {},
   "outputs": [
    {
     "name": "stdout",
     "output_type": "stream",
     "text": [
      "f_screw_2=1500.0 N\n"
     ]
    }
   ],
   "source": [
    "F_c_2 = 1500\n",
    "F_E_2 = 100\n",
    "f_screw_2 = F_c_2*0.2/0.2\n",
    "print(f'f_screw_2={f_screw_2} N')"
   ]
  },
  {
   "cell_type": "markdown",
   "id": "00318730",
   "metadata": {},
   "source": [
    "$$+\\circlearrowleft \\sum M_A=0$$\n",
    "$$F'_{c2}(0.2)+F'_{screw2}(0.2)=0$$\n",
    "$$(1500)(0.2)+F'_{screw2}(0.2)=0$$\n",
    "$$F'_{screw2}=-1500N$$"
   ]
  },
  {
   "cell_type": "markdown",
   "id": "f39516f0",
   "metadata": {},
   "source": [
    "Find new T_u\n",
    "\n",
    "$$T_{u2}= \\frac{Wd_m}{2} \\frac{f+\\cos\\alpha_n \\tan\\lambda}{\\cos\\alpha_n - f\\tan\\lambda} + \\frac{Wf_c d_c}{2}$$"
   ]
  },
  {
   "cell_type": "code",
   "execution_count": 141,
   "id": "8a729d09",
   "metadata": {},
   "outputs": [
    {
     "name": "stdout",
     "output_type": "stream",
     "text": [
      "T_u_2=5.89Nm\n"
     ]
    }
   ],
   "source": [
    "T_u_2 =(F_c_2*d_mean/2)*((f_screw+(cos(radians(alpha_n))*tan(radians(lambda_helix))))/(cos(radians(alpha_n))-(f_screw*tan(radians(lambda_helix)))))+(F_c_2*f_collar*d_collar/2)\n",
    "print(f'T_u_2={T_u_2:.2f}Nm')"
   ]
  },
  {
   "cell_type": "markdown",
   "id": "1578cab9",
   "metadata": {},
   "source": [
    "$$T_{u2}=F_{E2} \\times d_{new}$$\n",
    "\n",
    "where, d is perpendicular distance to generate the torque.\n",
    "\n",
    "$$5.89=100 \\times d_{new}$$"
   ]
  },
  {
   "cell_type": "code",
   "execution_count": 142,
   "id": "d3f71ecb",
   "metadata": {},
   "outputs": [
    {
     "name": "stdout",
     "output_type": "stream",
     "text": [
      "d_new=0.059 m\n",
      "d_new=58.95 mm\n"
     ]
    }
   ],
   "source": [
    "d_new = T_u_2/F_E_2\n",
    "print(f'd_new={d_new:.3f} m')\n",
    "print(f'd_new={d_new*1000:.2f} mm')\n"
   ]
  },
  {
   "cell_type": "markdown",
   "id": "d3625726",
   "metadata": {},
   "source": [
    "3. Determine the new efficiency on the screw if a square thread is used. Compare the efficiency.\n",
    "\n",
    "Efficiency equation\n",
    "$$e=\\frac{d_m \\tan \\lambda}{d_m \\frac{f+\\cos\\alpha_n \\tan\\lambda}{\\cos\\alpha_n - f\\tan\\lambda}+d_c f_c}$$\n",
    "\n",
    "Use $\\alpha=0$"
   ]
  },
  {
   "cell_type": "code",
   "execution_count": 143,
   "id": "88a9ec39",
   "metadata": {},
   "outputs": [
    {
     "name": "stdout",
     "output_type": "stream",
     "text": [
      "New Efficiency=0.12332698372056254\n",
      "Previous Efficiency=0.12149080284030114\n"
     ]
    }
   ],
   "source": [
    "alpha_n=0\n",
    "efficiency_new=(d_mean*tan_lambda)/(d_mean*((f_screw+(cos(radians(alpha_n))*tan_lambda))/(cos(radians(alpha_n))-(f_screw*tan_lambda)))+(d_collar*f_collar))\n",
    "print(f'New Efficiency={efficiency_new}')\n",
    "print(f'Previous Efficiency={efficiency}')"
   ]
  },
  {
   "cell_type": "markdown",
   "id": "01e528bc",
   "metadata": {},
   "source": [
    "Square thread is more efficient than Acme thread."
   ]
  }
 ],
 "metadata": {
  "kernelspec": {
   "display_name": "p12",
   "language": "python",
   "name": "python3"
  },
  "language_info": {
   "codemirror_mode": {
    "name": "ipython",
    "version": 3
   },
   "file_extension": ".py",
   "mimetype": "text/x-python",
   "name": "python",
   "nbconvert_exporter": "python",
   "pygments_lexer": "ipython3",
   "version": "3.12.9"
  }
 },
 "nbformat": 4,
 "nbformat_minor": 5
}
