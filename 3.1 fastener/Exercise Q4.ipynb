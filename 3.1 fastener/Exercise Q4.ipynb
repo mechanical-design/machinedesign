{
 "cells": [
  {
   "cell_type": "markdown",
   "metadata": {},
   "source": [
    "#  (Need revision)\n",
    "\n",
    "A portion of a high pressure boiler an internal gauge pressure of 5 MPa as shown in Figure 4. The flanged joint involve a cylinder internal diameter of 250 mm. Twelve conventional class 8.8, coarse thread steel bolts of modulus of elasticity of 200 GPa. The cylinder and end plate is made of cast iron of modulus of elasticity 100 GPa. Construction detail such as that the effective area of part (clamp) can conservatively be assumed equal to 5 times of bolt area. The joint is reusable. Determine:\n",
    "\n",
    "(i) The joint stiffness factor\n",
    "\n",
    "(ii) The diameter of steel bolt\n",
    "\n",
    "(iii) The minimum grip, L if stiffness constant of the part is 1931.7 MN/m"
   ]
  },
  {
   "cell_type": "code",
   "execution_count": 1,
   "metadata": {},
   "outputs": [],
   "source": [
    "# Required\n",
    "from math import pi, e, pow, log"
   ]
  },
  {
   "cell_type": "code",
   "execution_count": null,
   "metadata": {},
   "outputs": [
    {
     "name": "stdout",
     "output_type": "stream",
     "text": [
      "Coarse thread Class 8.8, Sp=600MPa\n",
      "Ep = 1/2 Eb\n",
      "Reusable connection\n"
     ]
    }
   ],
   "source": [
    "# All units in m\n",
    "print('Coarse thread Class 8.8, Sp=600MPa')\n",
    "Sp = 600E+6\n",
    "d = 0.02\n",
    "p = 2.5\n",
    "pressure = 5E+6\n",
    "flange_diameter=0.25\n",
    "Nbolt = 4\n",
    "Eb = 200E+9\n",
    "PLoad = 150E+3\n",
    "Ep = 100E+9\n",
    "print('Ep = 1/2 Eb')\n",
    "print('Reusable connection')\n",
    "# From diagram\n",
    "L = 0.05"
   ]
  },
  {
   "cell_type": "markdown",
   "metadata": {},
   "source": [
    "(i) The joint stiffness factor.\n",
    "\n",
    "$$C=\\frac{k_b}{k_b+k_p}$$\n",
    "where\n",
    "$$A_p=5\\times A_b$$"
   ]
  },
  {
   "cell_type": "code",
   "execution_count": 5,
   "metadata": {},
   "outputs": [
    {
     "name": "stdout",
     "output_type": "stream",
     "text": [
      "Find C from Total force on bolt equation\n"
     ]
    }
   ],
   "source": [
    "print('Find C from Total force on bolt equation')"
   ]
  },
  {
   "cell_type": "markdown",
   "metadata": {},
   "source": [
    "Total force on bolt\n",
    "$$F_b = CP+F_i$$\n",
    "\n",
    "Force on bolt can be found using stress equation\n",
    "\n",
    "$$\\sigma=\\frac{F_b}{A}$$\n",
    "$$406.2\\times10^6=\\frac{F_b}{\\frac{\\pi (0.014)^2}{4}}$$"
   ]
  },
  {
   "cell_type": "markdown",
   "metadata": {},
   "source": [
    "Bolt stiffness constant\n",
    "\n",
    "$$k_b=\\frac{A_bE_b}{L}$$\n",
    "\n",
    "Part stiffness constant (When Ep is not given)\n",
    "\n",
    "$$k_p=\\frac{A_pE_p}{L}$$"
   ]
  },
  {
   "cell_type": "markdown",
   "metadata": {},
   "source": [
    "Therefore\n",
    "$$C=\\frac{k_b}{k_b+k_p}$$\n",
    "where\n",
    "$$A_p=5\\times A_b$$\n",
    "\n",
    "and $2E_p=E_b$\n",
    "\n",
    "$$k_p=\\frac{5A_b\\times E_b/2}{L}$$\n",
    "$$k_p=\\frac{5}{2}\\frac{A_b\\times E_b}{L}$$\n",
    "$$k_p=2.5k_b$$\n",
    "\n",
    "$$C=\\frac{k_b}{k_b+2.5k_b}$$\n",
    "$$C=\\frac{1}{3.5}k_b$$"
   ]
  },
  {
   "cell_type": "code",
   "execution_count": 3,
   "metadata": {},
   "outputs": [
    {
     "name": "stdout",
     "output_type": "stream",
     "text": [
      "Joint Stiffness constant, C=0.2857142857142857\n"
     ]
    }
   ],
   "source": [
    "C=1/3.5\n",
    "print(f'Joint Stiffness constant, C={C}')"
   ]
  },
  {
   "cell_type": "markdown",
   "metadata": {},
   "source": [
    "(ii) The diameter of steel bolt\n",
    "\n",
    "$$k_b=\\frac{A_bE_b}{L}$$"
   ]
  },
  {
   "cell_type": "code",
   "execution_count": null,
   "metadata": {},
   "outputs": [
    {
     "name": "stdout",
     "output_type": "stream",
     "text": [
      "Stiffness constant for bolts, kb\n",
      "kb= 1.000e+00\n"
     ]
    }
   ],
   "source": [
    "print('Stiffness constant for bolts, kb')\n",
    "\n",
    "kb=C*3.5\n",
    "print('kb=', f\"{kb:.3e}\")\n",
    "Ab=kb*L"
   ]
  },
  {
   "cell_type": "code",
   "execution_count": null,
   "metadata": {},
   "outputs": [],
   "source": []
  }
 ],
 "metadata": {
  "kernelspec": {
   "display_name": "g01",
   "language": "python",
   "name": "python3"
  },
  "language_info": {
   "codemirror_mode": {
    "name": "ipython",
    "version": 3
   },
   "file_extension": ".py",
   "mimetype": "text/x-python",
   "name": "python",
   "nbconvert_exporter": "python",
   "pygments_lexer": "ipython3",
   "version": "3.10.13"
  }
 },
 "nbformat": 4,
 "nbformat_minor": 2
}
