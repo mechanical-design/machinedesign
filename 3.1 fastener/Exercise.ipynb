{
 "cells": [
  {
   "cell_type": "markdown",
   "metadata": {},
   "source": [
    "# Question 1\n",
    "\n",
    "Given M10 x 1.5 grade 5.8 bolts used to create a permanent joint connection for a pressure cylinder. A total of 2 number of bolts of modulus of elasticity 200 GPa is used to carries external load P = 8kN. The joint parts are cast iron ASTM A-48 with modulus of elasticity of 70 GPa. Determine;\n",
    "\n",
    "I.The stiffness constant for bolts, parts and joint’s stiffness factor\n",
    "\n",
    "II.Proof strength of the bolt\n",
    "\n",
    "III.Yield strength of the bolt\n",
    "\n",
    "IV.The preload on the bolt\n",
    "\n",
    "V.The forces on the bolt and will the part be separated under load P?\n",
    "\n",
    "VI.The forces on the part\n",
    "\n",
    "VII.The torque on the bolt if the joint is lubricated\n",
    "\n",
    "VIII.Pressure of gas on the cylinder if the diameter of the cylinder is 250 mm."
   ]
  },
  {
   "cell_type": "code",
   "execution_count": 41,
   "metadata": {},
   "outputs": [],
   "source": [
    "from math import pi, e, pow, log\n",
    "# Parameters\n",
    "d = 0.01\n",
    "p = 1.5\n",
    "Nbolt = 2\n",
    "Eb = 200E+9\n",
    "PLoad = 8000\n",
    "\n",
    "Ep = 70E+9\n",
    "# From diagram\n",
    "L = 0.04"
   ]
  },
  {
   "cell_type": "code",
   "execution_count": 63,
   "metadata": {},
   "outputs": [
    {
     "name": "stdout",
     "output_type": "stream",
     "text": [
      "i. Stiffness constant for bolts, kb\n",
      "kb= 3.927e+08\n"
     ]
    }
   ],
   "source": [
    "print('i. Stiffness constant for bolts, kb')\n",
    "\n",
    "Ab=pi*pow(d,2)/4\n",
    "kb=Ab*Eb/L\n",
    "print('kb=', f\"{kb:.3e}\")"
   ]
  },
  {
   "cell_type": "code",
   "execution_count": 64,
   "metadata": {},
   "outputs": [
    {
     "name": "stdout",
     "output_type": "stream",
     "text": [
      "Stiffness constant for parts, kp\n",
      "kp= 5.941e+08\n"
     ]
    }
   ],
   "source": [
    "print('Stiffness constant for parts, kp')\n",
    "\n",
    "kp=(0.58*pi*Ep*d)/(2*log(5*(((0.58*L)+(0.5*d))/((0.58*L)+(2.5*d)))))\n",
    "\n",
    "print('kp=', f\"{kp:.3e}\")"
   ]
  },
  {
   "cell_type": "code",
   "execution_count": 65,
   "metadata": {},
   "outputs": [
    {
     "name": "stdout",
     "output_type": "stream",
     "text": [
      "Joint Stiffness Factor,C \n",
      "C= 0.39793894987198175\n"
     ]
    }
   ],
   "source": [
    "print('Joint Stiffness Factor,C ')\n",
    "\n",
    "C = kb/(kb+kp)\n",
    "# print('C=', f\"{C:.3e}\")\n",
    "print(f'C= {C}')"
   ]
  },
  {
   "cell_type": "code",
   "execution_count": 66,
   "metadata": {},
   "outputs": [
    {
     "name": "stdout",
     "output_type": "stream",
     "text": [
      "Proof Strength, Sp\n",
      "Sp= 380MPa (From Table)\n"
     ]
    }
   ],
   "source": [
    "print('ii. Proof Strength, Sp')\n",
    "print('Sp= 380MPa (From Table)')"
   ]
  },
  {
   "cell_type": "code",
   "execution_count": 67,
   "metadata": {},
   "outputs": [
    {
     "name": "stdout",
     "output_type": "stream",
     "text": [
      "Yield Strength, Sy\n",
      "Sy= 420Mpa (From Table)\n"
     ]
    }
   ],
   "source": [
    "print('iii. Yield Strength, Sy')\n",
    "print('Sy= 420Mpa (From Table)')"
   ]
  },
  {
   "cell_type": "code",
   "execution_count": 77,
   "metadata": {},
   "outputs": [
    {
     "name": "stdout",
     "output_type": "stream",
     "text": [
      "iv. Preload, Fi\n",
      "Fi= 19836.0kN\n"
     ]
    }
   ],
   "source": [
    "print('iv. Preload, Fi')\n",
    "Sp = 380E+6 # From Table\n",
    "At = 58E-6 # From Table\n",
    "Fp=Sp*At\n",
    "Fi = 0.9*Fp #Permanent joint\n",
    "print(f'Fi= {Fi}kN')"
   ]
  },
  {
   "cell_type": "code",
   "execution_count": 81,
   "metadata": {},
   "outputs": [
    {
     "name": "stdout",
     "output_type": "stream",
     "text": [
      "v. Total Force on bolt, Fbolt\n",
      "Fbolt= 2.143e+04N\n",
      "Part will not separated because Fbolt>0\n"
     ]
    }
   ],
   "source": [
    "print('v. Total Force on bolt, Fbolt')\n",
    "Fbolt = C*(PLoad/Nbolt)+Fi\n",
    "# print('C=', f\"{C:.3e}\")\n",
    "print(f'Fbolt= {Fbolt:.3e}N')\n",
    "print('Part will not separated because Fbolt>0')"
   ]
  },
  {
   "cell_type": "code",
   "execution_count": 82,
   "metadata": {},
   "outputs": [
    {
     "name": "stdout",
     "output_type": "stream",
     "text": [
      "vi. Total Force on part, Fpart\n",
      "Fpart= -1.743e+04N\n"
     ]
    }
   ],
   "source": [
    "print('vi. Total Force on part, Fpart')\n",
    "Fpart = (1-C)*(PLoad/Nbolt)-Fi\n",
    "# print('C=', f\"{C:.3e}\")\n",
    "# print('Fpart=', f\"{Fpart}\")\n",
    "print(f'Fpart= {Fpart:.3e}N')"
   ]
  },
  {
   "cell_type": "code",
   "execution_count": 85,
   "metadata": {},
   "outputs": [
    {
     "name": "stdout",
     "output_type": "stream",
     "text": [
      "Torque,T\n",
      "T= 29.754N.m\n"
     ]
    }
   ],
   "source": [
    "print('Torque,T')\n",
    "k=0.15 #lubricated\n",
    "T=k*d*Fi\n",
    "print(f'T= {T}N.m')"
   ]
  },
  {
   "cell_type": "code",
   "execution_count": 86,
   "metadata": {},
   "outputs": [
    {
     "name": "stdout",
     "output_type": "stream",
     "text": [
      "vi. Pressure\n",
      "Pressure= 1.630e+05N\n"
     ]
    }
   ],
   "source": [
    "print('vi. Pressure')\n",
    "# Cross-sectional area for cylinder\n",
    "dcylinder=250E-3\n",
    "Acylinder=pi*pow(dcylinder,2)/4\n",
    "Pressure = PLoad/Acylinder\n",
    "print(f'Pressure= {Pressure:.3e}N')"
   ]
  },
  {
   "cell_type": "markdown",
   "metadata": {},
   "source": [
    "Well-defined problem"
   ]
  }
 ],
 "metadata": {
  "kernelspec": {
   "display_name": "g01",
   "language": "python",
   "name": "python3"
  },
  "language_info": {
   "codemirror_mode": {
    "name": "ipython",
    "version": 3
   },
   "file_extension": ".py",
   "mimetype": "text/x-python",
   "name": "python",
   "nbconvert_exporter": "python",
   "pygments_lexer": "ipython3",
   "version": "3.10.13"
  }
 },
 "nbformat": 4,
 "nbformat_minor": 2
}
