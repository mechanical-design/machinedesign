{
 "cells": [
  {
   "cell_type": "markdown",
   "id": "4408188c",
   "metadata": {},
   "source": [
    "# In-class activity\n",
    "\n",
    "1. State the class number of the steel bolts if the proof strength is 315 MPa\n",
    "\n",
    "2. Determine the preload necessary to be applied on the bolt of class 4.8 with a 6 mm diameter to form a permanent joint.\n",
    "\n",
    "3. Proof strength of the steel bolts is obtained from table of specifications and strengths for steelbolts. Explain how to determine the proof strength of the bolt other than steel\n",
    "\n",
    "4. If the external load acting on the bolt is increasing, list ONE (1) improvement that can be done to prevent the joint from separating by assuming the diameter and class number of the bolt areunchanged\n",
    "\n"
   ]
  },
  {
   "cell_type": "code",
   "execution_count": 3,
   "id": "aab7e0b8",
   "metadata": {},
   "outputs": [],
   "source": [
    "from math import pi, e, pow, log"
   ]
  },
  {
   "cell_type": "code",
   "execution_count": 4,
   "id": "705193bd",
   "metadata": {},
   "outputs": [
    {
     "name": "stdout",
     "output_type": "stream",
     "text": [
      "1. Sp=315Mpa\n",
      "From table 2.2, Class 5.8 is selected.\n",
      "\n"
     ]
    }
   ],
   "source": [
    "print('1. Sp=315Mpa')\n",
    "print('From table 2.2, Class 5.8 is selected.\\n')"
   ]
  },
  {
   "cell_type": "code",
   "execution_count": 6,
   "id": "12a2da9c",
   "metadata": {},
   "outputs": [
    {
     "name": "stdout",
     "output_type": "stream",
     "text": [
      "2. Preload, Fi\n",
      "Fi= 5607.900kN\n"
     ]
    }
   ],
   "source": [
    "print('2. Preload, Fi')\n",
    "\n",
    "Sp = 310E+6 # From Table\n",
    "At = 20.1E-6 # From Table\n",
    "Fp=Sp*At\n",
    "Fi2 = 0.9*Fp #Permanent joint\n",
    "print(f'Fi= {Fi2:.3f}kN')"
   ]
  }
 ],
 "metadata": {
  "kernelspec": {
   "display_name": "p12",
   "language": "python",
   "name": "python3"
  },
  "language_info": {
   "codemirror_mode": {
    "name": "ipython",
    "version": 3
   },
   "file_extension": ".py",
   "mimetype": "text/x-python",
   "name": "python",
   "nbconvert_exporter": "python",
   "pygments_lexer": "ipython3",
   "version": "3.12.9"
  }
 },
 "nbformat": 4,
 "nbformat_minor": 5
}
