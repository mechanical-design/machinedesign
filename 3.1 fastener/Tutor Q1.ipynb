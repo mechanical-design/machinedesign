{
 "cells": [
  {
   "cell_type": "markdown",
   "id": "e4a950cd",
   "metadata": {},
   "source": [
    "# Q1\n",
    "\n",
    "The bolt of connnection M20 x 2.5, ISO coarse thread having Sy = 630 Mpa. The joint carries an external load of P = 40 kN. The bolt were made of steel of modulus elasticity Es and the parts are cast iron with modulus of elasticity Ec = Es/2. Determine\n",
    "\n",
    "i) The total force on the bolt if the joint is reusable\n",
    "\n",
    "ii) The tightening torque if the bolts are lubricated"
   ]
  },
  {
   "cell_type": "code",
   "execution_count": 1,
   "id": "872718df",
   "metadata": {},
   "outputs": [],
   "source": [
    "# Required\n",
    "from math import pi, e, pow, log"
   ]
  },
  {
   "cell_type": "code",
   "execution_count": 2,
   "id": "d3a79d45",
   "metadata": {},
   "outputs": [
    {
     "name": "stdout",
     "output_type": "stream",
     "text": [
      "ISO Coarse thread\n",
      "Modulus of Elasticity for bolt, Eb=Es\n",
      "Modulus of Elasticity for part, Ep=Ec=Es/2\n"
     ]
    }
   ],
   "source": [
    "# All units in m\n",
    "print('ISO Coarse thread')\n",
    "d = 0.02\n",
    "p = 2.5\n",
    "Sy=630E+6\n",
    "PLoad = 40E+3\n",
    "Nbolt=1\n",
    "# From diagram\n",
    "L = 0.06\n",
    "print(f'Modulus of Elasticity for bolt, Eb=Es')\n",
    "print(f'Modulus of Elasticity for part, Ep=Ec=Es/2')"
   ]
  },
  {
   "cell_type": "markdown",
   "id": "531ca0e1",
   "metadata": {},
   "source": [
    "i) The total force on the bolt if the joint is reusable\n",
    "\n",
    "Total force on bolt equation\n",
    "\n",
    "$$F_b = CP+F_i$$\n",
    "\n",
    "where $F_i=0.75F_p$ for reusable joint\n",
    "\n",
    "First, find joint stiffness factor.\n",
    "\n",
    "$$C=\\frac{k_b}{k_b+k_p}$$\n",
    "\n",
    "Find bolt stiffness factor, $k_b$\n",
    "\n",
    "$$k_b=\\frac{A_bE_b}{L}$$\n",
    "\n",
    "where $E_b=E_s$ (steel)\n",
    "$$k_b=\\frac{(\\frac{\\pi d^2}{4})E_s}{L}$$\n",
    "\n",
    "where, diameter of bolt, d=0.02m and grip distance, L-0.06m\n",
    "\n",
    "$$k_b=\\frac{(\\frac{\\pi 0.02^2}{4})E_s}{0.06}$$\n",
    "\n",
    "Left $E_s$ as unknown."
   ]
  },
  {
   "cell_type": "code",
   "execution_count": 3,
   "id": "d822a307",
   "metadata": {},
   "outputs": [
    {
     "name": "stdout",
     "output_type": "stream",
     "text": [
      "Bolt stiffness factor, kb=5.236e-03 Es\n"
     ]
    }
   ],
   "source": [
    "Ab=pi*(d/2)**2\n",
    "kb=Ab/L\n",
    "print(f'Bolt stiffness factor, kb={kb:.3e} Es')"
   ]
  },
  {
   "cell_type": "markdown",
   "id": "93300696",
   "metadata": {},
   "source": [
    "Then, find Part stiffness factor, $k_p$.\n",
    "\n",
    "\n",
    "$$k_p=\\frac{0.58\\pi E_p d}{2\\ln\\left( 5\\frac{0.58l+0.5d}{0.58l+2.5d} \\right)}$$\n",
    "\n",
    "Use $E_p=E_c=\\frac{E_s}{2}$\n",
    "\n",
    "Substitute $E_s/2$ to kp equation so it can cancel out when finding C in Equation 2.\n",
    "\n",
    "$$k_p=\\frac{0.58\\pi (\\frac{E_s}{2}) d}{2\\ln\\left( 5\\frac{0.58l+0.5d}{0.58l+2.5d} \\right)}$$\n"
   ]
  },
  {
   "cell_type": "code",
   "execution_count": 4,
   "id": "2d1cbfce",
   "metadata": {},
   "outputs": [
    {
     "name": "stdout",
     "output_type": "stream",
     "text": [
      "Part stiffness factor, kp=9.379e-03 Es\n"
     ]
    }
   ],
   "source": [
    "kp=(0.58*pi*d/2)/(2*log(5*(((0.58*L)+(0.5*d))/((0.58*L)+(2.5*d)))))\n",
    "print(f'Part stiffness factor, kp={kp:.3e} Es')"
   ]
  },
  {
   "cell_type": "markdown",
   "id": "d31b74bb",
   "metadata": {},
   "source": [
    "Substitute into joint stiffness factor equation, C"
   ]
  },
  {
   "cell_type": "code",
   "execution_count": 5,
   "id": "7a91d7cb",
   "metadata": {},
   "outputs": [
    {
     "name": "stdout",
     "output_type": "stream",
     "text": [
      "C= 0.3583\n"
     ]
    }
   ],
   "source": [
    "C = round(kb/(kb+kp),4)\n",
    "# print('C=', f\"{C:.3e}\")\n",
    "print(f'C= {C}')"
   ]
  },
  {
   "cell_type": "code",
   "execution_count": 6,
   "id": "bf8b0b3f",
   "metadata": {},
   "outputs": [
    {
     "name": "stdout",
     "output_type": "stream",
     "text": [
      "Preload force, Fi=1.042e+05 N\n"
     ]
    }
   ],
   "source": [
    "At=245e-6\n",
    "Fi=0.75*0.9*Sy*At\n",
    "print(f'Preload force, Fi={Fi:.3e} N')"
   ]
  },
  {
   "cell_type": "code",
   "execution_count": 7,
   "id": "078abe8a",
   "metadata": {},
   "outputs": [
    {
     "name": "stdout",
     "output_type": "stream",
     "text": [
      "Total force on bolt, Fb=1.185e+05 N\n",
      "Total force on bolt, Fp=1.185e+02 kN\n"
     ]
    }
   ],
   "source": [
    "Fbolt = C*(PLoad/Nbolt)+Fi\n",
    "print(f'Total force on bolt, Fb={Fbolt:.3e} N')\n",
    "print(f'Total force on bolt, Fp={Fbolt/1000:.3e} kN')"
   ]
  },
  {
   "cell_type": "markdown",
   "id": "6eed1830",
   "metadata": {},
   "source": [
    "ii) The tightening torque if the bolts are lubricated\n",
    "\n",
    "$$T=kdF_i$$"
   ]
  },
  {
   "cell_type": "code",
   "execution_count": 8,
   "id": "4ecc63ca",
   "metadata": {},
   "outputs": [
    {
     "name": "stdout",
     "output_type": "stream",
     "text": [
      "T= 312.56N.m\n"
     ]
    }
   ],
   "source": [
    "k=0.15 #lubricated\n",
    "T=k*d*Fi\n",
    "print(f'T= {T:.2f}N.m')"
   ]
  },
  {
   "cell_type": "code",
   "execution_count": null,
   "id": "de3c58f5",
   "metadata": {},
   "outputs": [],
   "source": []
  }
 ],
 "metadata": {
  "kernelspec": {
   "display_name": "p12",
   "language": "python",
   "name": "python3"
  },
  "language_info": {
   "codemirror_mode": {
    "name": "ipython",
    "version": 3
   },
   "file_extension": ".py",
   "mimetype": "text/x-python",
   "name": "python",
   "nbconvert_exporter": "python",
   "pygments_lexer": "ipython3",
   "version": "3.12.9"
  }
 },
 "nbformat": 4,
 "nbformat_minor": 5
}
