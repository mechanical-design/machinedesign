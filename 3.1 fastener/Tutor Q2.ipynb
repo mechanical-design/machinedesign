{
 "cells": [
  {
   "cell_type": "markdown",
   "metadata": {},
   "source": [
    "# Q1\n",
    "\n",
    "A section of connection illustrated in Figure 2 forms a reusable connection. A total of 4 bolts\n",
    "are used to resist an external load 150 kN. The bolt connection is M14 x 1.5 ISO fine thread\n",
    "class 5.8, made from medium carbon steel with modulus of elasticity of 200 GPa. The stress\n",
    "in each bolt is 406.2MPa. Determine;\n",
    "\n",
    "(i) The joint stiffness factor.\n",
    "\n",
    "(ii) Stiffness constant for bolt and plates.\n",
    "\n",
    "(iii) Modulus of elasticity of plate Ep\n",
    "\n",
    "(iv) Suggest suitable material used for plates (Based on answer in iii)"
   ]
  },
  {
   "cell_type": "code",
   "execution_count": 1,
   "metadata": {},
   "outputs": [],
   "source": [
    "# Required\n",
    "from math import pi, e, pow, log"
   ]
  },
  {
   "cell_type": "code",
   "execution_count": 2,
   "metadata": {},
   "outputs": [
    {
     "name": "stdout",
     "output_type": "stream",
     "text": [
      "Reusable connection\n",
      "Fine thread Class 5.8, Sp=380MPa\n"
     ]
    }
   ],
   "source": [
    "# All units in m\n",
    "print('Reusable connection')\n",
    "print('Fine thread Class 5.8, Sp=380MPa')\n",
    "d = 0.014\n",
    "p = 1.5\n",
    "Nbolt = 4\n",
    "Eb = 200E+9\n",
    "PLoad = 150E+3\n",
    "# Ep = 70E+9\n",
    "bolt_stress = 406.2E+6\n",
    "# From diagram\n",
    "L = 0.05"
   ]
  },
  {
   "cell_type": "markdown",
   "metadata": {},
   "source": [
    "(i) The joint stiffness factor.\n",
    "\n",
    "$$C=\\frac{k_b}{k_b+k_p}$$"
   ]
  },
  {
   "cell_type": "code",
   "execution_count": 3,
   "metadata": {},
   "outputs": [
    {
     "name": "stdout",
     "output_type": "stream",
     "text": [
      "Stiffness constant for bolts, kb\n",
      "Ab= 1.539e-04\n",
      "kb= 6.158e+08\n"
     ]
    }
   ],
   "source": [
    "print('Stiffness constant for bolts, kb')\n",
    "\n",
    "Ab=pi*pow(d,2)/4\n",
    "kb=Ab*Eb/L\n",
    "print('Ab=', f\"{Ab:.3e}\")\n",
    "print('kb=', f\"{kb:.3e}\")"
   ]
  },
  {
   "cell_type": "code",
   "execution_count": 4,
   "metadata": {},
   "outputs": [
    {
     "name": "stdout",
     "output_type": "stream",
     "text": [
      "kp cannot be found using the tqo equation\n"
     ]
    }
   ],
   "source": [
    "print('kp cannot be found using the tqo equation')"
   ]
  },
  {
   "cell_type": "code",
   "execution_count": 5,
   "metadata": {},
   "outputs": [
    {
     "name": "stdout",
     "output_type": "stream",
     "text": [
      "Find C from Total force on bolt equation\n"
     ]
    }
   ],
   "source": [
    "print('Find C from Total force on bolt equation')"
   ]
  },
  {
   "cell_type": "markdown",
   "metadata": {},
   "source": [
    "Total force on bolt\n",
    "$$F_b = CP+F_i$$\n",
    "\n",
    "Force on bolt can be found using stress equation\n",
    "\n",
    "$$\\sigma=\\frac{F_b}{A}$$\n",
    "$$406.2\\times10^6=\\frac{F_b}{\\frac{\\pi (0.014)^2}{4}}$$"
   ]
  },
  {
   "cell_type": "code",
   "execution_count": 6,
   "metadata": {},
   "outputs": [
    {
     "name": "stdout",
     "output_type": "stream",
     "text": [
      "Force on bolt, Fb=62529.632N\n"
     ]
    }
   ],
   "source": [
    "Fb = bolt_stress*pi*pow(d,2)/4\n",
    "print(f'Force on bolt, Fb={Fb:.3f}N')"
   ]
  },
  {
   "cell_type": "code",
   "execution_count": 7,
   "metadata": {},
   "outputs": [
    {
     "name": "stdout",
     "output_type": "stream",
     "text": [
      "Preload, Fi\n",
      "Fi= 35625.0N\n"
     ]
    }
   ],
   "source": [
    "print('Preload, Fi')\n",
    "Sp = 380E+6 # From Table\n",
    "At = 125E-6 # From Table\n",
    "Fp=Sp*At\n",
    "Fi = 0.75*Fp\n",
    "print(f'Fi= {Fi}N')"
   ]
  },
  {
   "cell_type": "markdown",
   "metadata": {},
   "source": [
    "$$F_b = CP+F_i$$\n",
    "$$62529 = C(150kN)+35625$$"
   ]
  },
  {
   "cell_type": "code",
   "execution_count": 8,
   "metadata": {},
   "outputs": [
    {
     "name": "stdout",
     "output_type": "stream",
     "text": [
      "Joint Stiffness factor, C=0.17936421239013692\n"
     ]
    }
   ],
   "source": [
    "C=(Fb-Fi)/PLoad\n",
    "print(f'Joint Stiffness factor, C={C}')"
   ]
  },
  {
   "cell_type": "markdown",
   "metadata": {},
   "source": [
    "(ii) Stiffness constant for bolt and plates."
   ]
  },
  {
   "cell_type": "code",
   "execution_count": 9,
   "metadata": {},
   "outputs": [
    {
     "name": "stdout",
     "output_type": "stream",
     "text": [
      "Stiffness constant for bolts, kb\n",
      "kb= 6.158e+08\n"
     ]
    }
   ],
   "source": [
    "print('Stiffness constant for bolts, kb')\n",
    "\n",
    "Ab=pi*pow(d,2)/4\n",
    "kb=Ab*Eb/L\n",
    "print('kb=', f\"{kb:.3e}\")"
   ]
  },
  {
   "cell_type": "markdown",
   "metadata": {},
   "source": [
    "From\n",
    "$$C=\\frac{k_b}{k_b+k_p}$$\n",
    "Therefore\n",
    "$$0.1794=\\frac{6.158\\times10^8}{6.158\\times10^8+k_p}$$"
   ]
  },
  {
   "cell_type": "code",
   "execution_count": 10,
   "metadata": {},
   "outputs": [
    {
     "name": "stdout",
     "output_type": "stream",
     "text": [
      "kp= 2.817e+09\n"
     ]
    }
   ],
   "source": [
    "kp=(kb/C)-kb\n",
    "print('kp=', f\"{kp:.3e}\")"
   ]
  },
  {
   "cell_type": "markdown",
   "metadata": {},
   "source": [
    "(iii) Modulus of elasticity of plate Ep"
   ]
  },
  {
   "cell_type": "markdown",
   "metadata": {},
   "source": [
    "From equation\n",
    "$$k_p=\\frac{0.58\\pi E_p d}{2\\ln\\left( 5\\frac{0.58l+0.5d}{0.58l+2.5d} \\right)}$$\n"
   ]
  },
  {
   "cell_type": "code",
   "execution_count": 11,
   "metadata": {},
   "outputs": [
    {
     "name": "stdout",
     "output_type": "stream",
     "text": [
      "Ep= 2.284e+11Pa\n",
      "Ep= 228.40GPa\n"
     ]
    }
   ],
   "source": [
    "Ep=kp*(2*log(5*(((0.58*L)+(0.5*d))/((0.58*L)+(2.5*d)))))/(0.58*pi*d)\n",
    "print('Ep=', f\"{Ep:.3e}Pa\")\n",
    "print('Ep=', f\"{Ep/1E+9:.2f}GPa\")"
   ]
  }
 ],
 "metadata": {
  "kernelspec": {
   "display_name": "tf",
   "language": "python",
   "name": "python3"
  },
  "language_info": {
   "codemirror_mode": {
    "name": "ipython",
    "version": 3
   },
   "file_extension": ".py",
   "mimetype": "text/x-python",
   "name": "python",
   "nbconvert_exporter": "python",
   "pygments_lexer": "ipython3",
   "version": "3.9.7"
  }
 },
 "nbformat": 4,
 "nbformat_minor": 2
}
