{
 "cells": [
  {
   "cell_type": "markdown",
   "id": "7ea5166c",
   "metadata": {},
   "source": [
    "# Q3\n",
    "A bolted assembly of two parts is shown in Figure Q3, is to support an external load, P\n",
    "= 80 kN. The steel bolt is fine thread and the modulus of elasticity is 200 GPa and reused\n",
    "connection. The joint stiffness factor for the design is 0.286. The parts are made of cast\n",
    "iron with a modulus of elasticity of 70 GPa. Assume the factor of safety for the joint is 2. Determine;\n",
    "\n",
    "i) The stiffness constant for the part of the effective area of the part is 2500 mm^2\n",
    "\n",
    "ii) The stiffness constant for the bolt and size of the bolt, d.\n",
    "\n",
    "iii) The suitable metric specification class number for the bolt and force on the\n",
    "bolt."
   ]
  },
  {
   "cell_type": "code",
   "execution_count": 9,
   "id": "bee38e82",
   "metadata": {},
   "outputs": [],
   "source": [
    "# Required\n",
    "from math import pi, e, pow, log"
   ]
  },
  {
   "cell_type": "code",
   "execution_count": 10,
   "id": "91c4ddec",
   "metadata": {},
   "outputs": [
    {
     "name": "stdout",
     "output_type": "stream",
     "text": [
      "Fine thread. Class type is not given\n",
      "Reusable connection\n"
     ]
    }
   ],
   "source": [
    "# All units in m\n",
    "PLoad = 80E+3\n",
    "print('Fine thread. Class type is not given')\n",
    "Eb = 200E+9\n",
    "print('Reusable connection')\n",
    "C = 0.286\n",
    "Ep = 70E+9\n",
    "FOS = 2\n",
    "Nbolt = 1\n",
    "# From diagram\n",
    "L = 0.05"
   ]
  },
  {
   "cell_type": "markdown",
   "id": "bbf78f2b",
   "metadata": {},
   "source": [
    "i) The stiffness constant for the part of the effective area of the part is 2500 mm^2\n",
    "\n",
    "Find kp if Ap is given.\n",
    "\n",
    "$$kp=\\frac{A_pE_p}{L}$$\n",
    "\n",
    "Convert $2500mm^2$ to $m^2$\n",
    "\n",
    "$$2500mm \\times \\frac{1m}{1000mm} \\times \\frac{1m}{1000mm}=2500\\times 10^{-6} m$$\n",
    "\n",
    "Substitute into kp equation\n",
    "\n",
    "$$kp=\\frac{(2500\\times10^{-6})(70\\times10^{9})}{50\\times10^{-3}}$$"
   ]
  },
  {
   "cell_type": "code",
   "execution_count": 11,
   "id": "0aef3888",
   "metadata": {},
   "outputs": [
    {
     "name": "stdout",
     "output_type": "stream",
     "text": [
      "kp=3.500e+09\n"
     ]
    }
   ],
   "source": [
    "Ap=2500E-6\n",
    "kp=Ap*Ep/L\n",
    "print(f'kp={kp:.3e}')"
   ]
  },
  {
   "cell_type": "markdown",
   "id": "3d0b34b1",
   "metadata": {},
   "source": [
    "ii) The stiffness constant for the bolt and size of the bolt, d.\n",
    "\n",
    "The joint stiffness factor.\n",
    "\n",
    "$$C=\\frac{k_b}{k_b+k_p}$$\n",
    "\n",
    "$$0.286=\\frac{k_b}{k_b+3.5\\times10^{9}}$$"
   ]
  },
  {
   "cell_type": "code",
   "execution_count": 13,
   "id": "956005b9",
   "metadata": {},
   "outputs": [
    {
     "name": "stdout",
     "output_type": "stream",
     "text": [
      "kb=1.402e+09\n"
     ]
    }
   ],
   "source": [
    "kb=C*kp/(1-C)\n",
    "print(f'kb={kb:.3e}')"
   ]
  },
  {
   "cell_type": "markdown",
   "id": "af8ab44c",
   "metadata": {},
   "source": [
    "Bolt stiffness constant\n",
    "\n",
    "$$k_b=\\frac{A_bE_b}{L}$$\n",
    "\n",
    "$$1.402\\times10^{9}=\\frac{A_b(200\\times10^{9})}{50\\times10^{-3}}$$\n",
    "\n",
    "where $A_b$ is cross-sectional area of the bolt\n",
    "\n",
    "$$A_b=\\frac{\\pi d^2}{4}$$\n",
    "\n",
    "$$1.402\\times10^{9}=\\frac{(\\frac{\\pi d^2}{4})(200\\times10^{9})}{50\\times10^{-3}}$$"
   ]
  },
  {
   "cell_type": "code",
   "execution_count": 19,
   "id": "5a7f66e5",
   "metadata": {},
   "outputs": [
    {
     "name": "stdout",
     "output_type": "stream",
     "text": [
      "Minimum bolt diameter=0.0211m = 21.12mm\n",
      "Rounding up to nearest standard bolt size,d=22mm\n"
     ]
    }
   ],
   "source": [
    "d_bolt=(kb*L*4/(pi*Eb))**0.5\n",
    "print(f'Minimum bolt diameter={d_bolt:.4f}m = {d_bolt*1000:.2f}mm')\n",
    "print(f'Rounding up to nearest standard bolt size,d=22mm')"
   ]
  },
  {
   "cell_type": "markdown",
   "id": "a5686962",
   "metadata": {},
   "source": [
    "iii) The suitable metric specification class number for the bolt and force on the\n",
    "bolt.\n",
    "\n",
    "Total force on bolt\n",
    "$$F_b = CP+F_i$$\n",
    "\n",
    "If factor of safety and number of bolt is considered.\n",
    "\n",
    "Total force on bolt\n",
    "$$F_b = \\frac{CPn}{N_{bolt}}+F_i$$\n",
    "\n",
    "Since Proof strength is unknown, we cannot calculate Fb. Here assume $F_b=F_{proof}=S_p A_t$\n",
    "\n",
    "$$S_p A_t = \\frac{CPn}{N_{bolt}}+F_i$$\n",
    "\n",
    "No of bolt is 1. Factor of Safety,n=2.\n",
    "\n",
    "Reusable joint, $F_i=0.75S_p A_t$\n",
    "\n",
    "$$S_p A_t = \\frac{CP(2)}{1}+0.75S_p A_t$$\n",
    "\n",
    "Refer Table 2.1. These is no bolt size 22mm. The nearest is 24 mm.\n",
    "\n",
    "For fine thread, 24mm, $A_t=384mm^2=384\\times10^{-6}$\n",
    "\n",
    "C=0.286\n",
    "\n",
    "$$S_p(384\\times10^{-6})= \\frac{(0.286)(80\\times10^3)(2)}{1}+0.75 S_p(384\\times10^{-6})$$"
   ]
  },
  {
   "cell_type": "code",
   "execution_count": null,
   "id": "3990c427",
   "metadata": {},
   "outputs": [
    {
     "name": "stdout",
     "output_type": "stream",
     "text": [
      "Proof strength=476666666.67Pa\n",
      "Proof strength=476.67Pa\n"
     ]
    }
   ],
   "source": [
    "At=384E-6\n",
    "Sp=C*PLoad*FOS/(At-(0.75*At))\n",
    "print(f'Proof strength={Sp:.2f}Pa')\n",
    "print(f'Proof strength={Sp/1E6:.2f}MPa')"
   ]
  },
  {
   "cell_type": "markdown",
   "id": "1000cf1f",
   "metadata": {},
   "source": [
    "Minimum proof strength for the design is 476.67MPa.\n",
    "Therefore from Table 2.2, the next higher Proof strength is 600MPa.\n",
    "\n",
    "Class number 8.8"
   ]
  },
  {
   "cell_type": "markdown",
   "id": "2d1fc0ed",
   "metadata": {},
   "source": []
  }
 ],
 "metadata": {
  "kernelspec": {
   "display_name": "p12",
   "language": "python",
   "name": "python3"
  },
  "language_info": {
   "codemirror_mode": {
    "name": "ipython",
    "version": 3
   },
   "file_extension": ".py",
   "mimetype": "text/x-python",
   "name": "python",
   "nbconvert_exporter": "python",
   "pygments_lexer": "ipython3",
   "version": "3.12.9"
  }
 },
 "nbformat": 4,
 "nbformat_minor": 5
}
