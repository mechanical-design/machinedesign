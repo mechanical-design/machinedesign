{
 "cells": [
  {
   "cell_type": "markdown",
   "metadata": {},
   "source": [
    "# Question 1\n",
    "\n",
    "Given M10 x 1.5 grade 5.8 bolts used to create a permanent joint connection for a pressure cylinder. A total of 2 number of bolts of modulus of elasticity 200 GPa is used to carries external load P = 8kN. The joint parts are cast iron ASTM A-48 with modulus of elasticity of 70 GPa. Determine;"
   ]
  },
  {
   "cell_type": "markdown",
   "metadata": {},
   "source": [
    "I. The stiffness constant for bolts, parts and joint’s stiffness factor\n",
    "\n",
    "II. Proof strength of the bolt\n",
    "\n",
    "III. Yield strength of the bolt\n",
    "\n",
    "IV. The preload on the bolt\n",
    "\n",
    "V. The forces on the bolt and will the part be separated under load P?\n",
    "\n",
    "VI. The forces on the part\n",
    "\n",
    "VII. The torque on the bolt if the joint is lubricated\n",
    "\n",
    "VIII. Pressure of gas on the cylinder if the diameter of the cylinder is 250 mm."
   ]
  },
  {
   "cell_type": "code",
   "execution_count": 16,
   "metadata": {},
   "outputs": [],
   "source": [
    "from math import pi, e, pow, log\n",
    "# Parameters\n",
    "d = 0.01\n",
    "p = 1.5\n",
    "Nbolt = 2\n",
    "Eb = 200E+9\n",
    "PLoad = 8000\n",
    "\n",
    "Ep = 70E+9\n",
    "# From diagram\n",
    "L = 0.04"
   ]
  },
  {
   "cell_type": "markdown",
   "metadata": {},
   "source": [
    "$$k_b=\\frac{A_bE_b}{L}$$"
   ]
  },
  {
   "cell_type": "code",
   "execution_count": 17,
   "metadata": {},
   "outputs": [
    {
     "name": "stdout",
     "output_type": "stream",
     "text": [
      "i. Stiffness constant for bolts, kb\n",
      "kb= 3.927e+08\n"
     ]
    }
   ],
   "source": [
    "print('i. Stiffness constant for bolts, kb')\n",
    "\n",
    "Ab=pi*pow(d,2)/4\n",
    "kb=Ab*Eb/L\n",
    "print('kb=', f\"{kb:.3e}\")"
   ]
  },
  {
   "cell_type": "code",
   "execution_count": 18,
   "metadata": {},
   "outputs": [
    {
     "name": "stdout",
     "output_type": "stream",
     "text": [
      "Stiffness constant for parts, kp\n",
      "kp= 5.941e+08\n"
     ]
    }
   ],
   "source": [
    "print('Stiffness constant for parts, kp')\n",
    "\n",
    "kp=(0.58*pi*Ep*d)/(2*log(5*(((0.58*L)+(0.5*d))/((0.58*L)+(2.5*d)))))\n",
    "\n",
    "print('kp=', f\"{kp:.3e}\")"
   ]
  },
  {
   "cell_type": "code",
   "execution_count": 19,
   "metadata": {},
   "outputs": [
    {
     "name": "stdout",
     "output_type": "stream",
     "text": [
      "Joint Stiffness Factor,C \n",
      "C= 0.39793894987198175\n"
     ]
    }
   ],
   "source": [
    "print('Joint Stiffness Factor,C ')\n",
    "\n",
    "C = kb/(kb+kp)\n",
    "# print('C=', f\"{C:.3e}\")\n",
    "print(f'C= {C}')"
   ]
  },
  {
   "cell_type": "code",
   "execution_count": 20,
   "metadata": {},
   "outputs": [
    {
     "name": "stdout",
     "output_type": "stream",
     "text": [
      "ii. Proof Strength, Sp\n",
      "Sp= 380MPa (From Table)\n"
     ]
    }
   ],
   "source": [
    "print('ii. Proof Strength, Sp')\n",
    "print('Sp= 380MPa (From Table)')"
   ]
  },
  {
   "cell_type": "code",
   "execution_count": 21,
   "metadata": {},
   "outputs": [
    {
     "name": "stdout",
     "output_type": "stream",
     "text": [
      "iii. Yield Strength, Sy\n",
      "Sy= 420Mpa (From Table)\n"
     ]
    }
   ],
   "source": [
    "print('iii. Yield Strength, Sy')\n",
    "print('Sy= 420Mpa (From Table)')"
   ]
  },
  {
   "cell_type": "code",
   "execution_count": 22,
   "metadata": {},
   "outputs": [
    {
     "name": "stdout",
     "output_type": "stream",
     "text": [
      "iv. Preload, Fi\n",
      "Fi= 19836.0kN\n"
     ]
    }
   ],
   "source": [
    "print('iv. Preload, Fi')\n",
    "Sp = 380E+6 # From Table\n",
    "At = 58E-6 # From Table\n",
    "Fp=Sp*At\n",
    "Fi = 0.9*Fp #Permanent joint\n",
    "print(f'Fi= {Fi}kN')"
   ]
  },
  {
   "cell_type": "code",
   "execution_count": 23,
   "metadata": {},
   "outputs": [
    {
     "name": "stdout",
     "output_type": "stream",
     "text": [
      "v. Total Force on bolt, Fbolt\n",
      "Fbolt= 2.143e+04N\n",
      "Part will not separated because Fbolt>0\n"
     ]
    }
   ],
   "source": [
    "print('v. Total Force on bolt, Fbolt')\n",
    "Fbolt = C*(PLoad/Nbolt)+Fi\n",
    "print(f'Fbolt= {Fbolt:.3e}N')\n",
    "print('Part will not separated because Fbolt>0')"
   ]
  },
  {
   "cell_type": "code",
   "execution_count": 24,
   "metadata": {},
   "outputs": [
    {
     "name": "stdout",
     "output_type": "stream",
     "text": [
      "vi. Total Force on part, Fpart\n",
      "Fpart= -1.743e+04N\n"
     ]
    }
   ],
   "source": [
    "print('vi. Total Force on part, Fpart')\n",
    "Fpart = (1-C)*(PLoad/Nbolt)-Fi\n",
    "# print('C=', f\"{C:.3e}\")\n",
    "# print('Fpart=', f\"{Fpart}\")\n",
    "print(f'Fpart= {Fpart:.3e}N')"
   ]
  },
  {
   "cell_type": "code",
   "execution_count": 25,
   "metadata": {},
   "outputs": [
    {
     "name": "stdout",
     "output_type": "stream",
     "text": [
      "Torque,T\n",
      "T= 29.754N.m\n"
     ]
    }
   ],
   "source": [
    "print('Torque,T')\n",
    "k=0.15 #lubricated\n",
    "T=k*d*Fi\n",
    "print(f'T= {T}N.m')"
   ]
  },
  {
   "cell_type": "code",
   "execution_count": 26,
   "metadata": {},
   "outputs": [
    {
     "name": "stdout",
     "output_type": "stream",
     "text": [
      "vi. Pressure\n",
      "Pressure= 1.630e+05N\n"
     ]
    }
   ],
   "source": [
    "print('vi. Pressure')\n",
    "# Cross-sectional area for cylinder\n",
    "dcylinder=250E-3\n",
    "Acylinder=pi*pow(dcylinder,2)/4\n",
    "Pressure = PLoad/Acylinder\n",
    "print(f'Pressure= {Pressure:.3e}N')"
   ]
  },
  {
   "cell_type": "markdown",
   "metadata": {},
   "source": [
    "Well-defined problem"
   ]
  },
  {
   "cell_type": "markdown",
   "metadata": {},
   "source": [
    "1. State the class number of the steel bolts if the proof strength is 315 MPa\n",
    "2. Proof strength of the steel bolts is obtained from table of specifications and strengths for steelbolts. Explain how to determine the proof strength of the bolt other than steel\n",
    "3. If the external load acting on the bolt is increasing, list ONE (1) improvement that can be done to prevent the joint from separating by assuming the diameter and class number of the bolt areunchanged\n",
    "4. Determine the preload necessary to be applied on the bolt of class 4.8 with a 6 mm diameter to form a permanent joint."
   ]
  },
  {
   "cell_type": "code",
   "execution_count": 27,
   "metadata": {},
   "outputs": [
    {
     "name": "stdout",
     "output_type": "stream",
     "text": [
      "1. Sp=315Mpa\n",
      "From table 2.2, Class 5.8 is selected.\n",
      "\n",
      "3. Increase number of bolt\n",
      "\n",
      "4. Preload, Fi2\n",
      "Fi= 5607.900kN\n"
     ]
    }
   ],
   "source": [
    "print('1. Sp=315Mpa')\n",
    "print('From table 2.2, Class 5.8 is selected.\\n')\n",
    "\n",
    "print('3. Increase number of bolt\\n')\n",
    "\n",
    "print('4. Preload, Fi2')\n",
    "\n",
    "Sp = 310E+6 # From Table\n",
    "At = 20.1E-6 # From Table\n",
    "Fp=Sp*At\n",
    "Fi2 = 0.9*Fp #Permanent joint\n",
    "print(f'Fi= {Fi2:.3f}kN')"
   ]
  },
  {
   "cell_type": "markdown",
   "metadata": {},
   "source": [
    "The following questions continue from Q1. Any parameters not mentioned are assumed to remain unchanged from what was provided in Q1"
   ]
  },
  {
   "cell_type": "markdown",
   "metadata": {},
   "source": [
    "1. If the external load is increased by 60%, suggest improvements need to be done to avoid separation?\n",
    "2. Recommend the maximum pressure if the number of bolts is increased to 6\n",
    "3. Is the joint safe or fail if the pressure is increased 30%. Prove your answer.\n",
    "4. If the external load is increased by 30%, suggest the suitable metric specification class number for the bolt."
   ]
  },
  {
   "cell_type": "code",
   "execution_count": 28,
   "metadata": {},
   "outputs": [
    {
     "name": "stdout",
     "output_type": "stream",
     "text": [
      "1. New load\n",
      "New load= 12800.0N\n"
     ]
    }
   ],
   "source": [
    "print('1. New load')\n",
    "\n",
    "PloadNew = PLoad*1.6\n",
    "print(f'New load= {PloadNew}N')"
   ]
  },
  {
   "cell_type": "markdown",
   "metadata": {},
   "source": [
    "Improvement:\n",
    "- Increase number of bolts.\n",
    "\n",
    "F_bnew = ((C x PloadNew x n)/Nb )+ Fi"
   ]
  },
  {
   "cell_type": "code",
   "execution_count": 31,
   "metadata": {},
   "outputs": [
    {
     "name": "stdout",
     "output_type": "stream",
     "text": [
      "No. of bolt, Nb = 2.311079200708424\n",
      "No. of bolt is 3 bolts\n"
     ]
    }
   ],
   "source": [
    "Sp = 380E+6 # From Table\n",
    "At = 58E-6 # From Table\n",
    "F_bnew = Sp*At\n",
    "Fi = 0.9*Sp*At\n",
    "nSafety = 1 # Assume 1 if factor of safety is not given\n",
    "Nb = C*PloadNew*nSafety/(F_bnew-Fi)\n",
    "\n",
    "print(f'No. of bolt, Nb = {Nb}')\n",
    "print('No. of bolt is 3 bolts')"
   ]
  }
 ],
 "metadata": {
  "kernelspec": {
   "display_name": "g01",
   "language": "python",
   "name": "python3"
  },
  "language_info": {
   "codemirror_mode": {
    "name": "ipython",
    "version": 3
   },
   "file_extension": ".py",
   "mimetype": "text/x-python",
   "name": "python",
   "nbconvert_exporter": "python",
   "pygments_lexer": "ipython3",
   "version": "3.10.13"
  }
 },
 "nbformat": 4,
 "nbformat_minor": 2
}
