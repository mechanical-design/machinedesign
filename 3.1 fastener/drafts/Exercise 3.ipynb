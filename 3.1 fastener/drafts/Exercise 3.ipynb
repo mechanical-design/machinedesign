{
 "cells": [
  {
   "cell_type": "markdown",
   "metadata": {},
   "source": [
    "# Example 3\n",
    "\n",
    "Figure Q2 illustrates a portion of a cover plate bolled to the end of a thick-walled cylindrical pressure vessel. A total of Nb bolts are to be used to resist a separating force P= 200 kN.\n",
    "Determine;\n",
    "\n",
    "i) the joint constant, C\n",
    "\n",
    "ii) the number of bolt, Nb for the connection\n",
    "\n",
    "iii) the force on the bolt, Fb and does the design safe or fail\n",
    "\n",
    "iv) the suitable metric specification class number if M30 x 2 mm bolt is used to resist the\n",
    "same separating force using the same amount of bolt in (ii).\n",
    "\n",
    "Design Assumptions:. The connection is reusable. A bolt safety factor of n = 1.5 is used.\n",
    "The modulus of elasticity of the parts Is assumed to be half of the modulus of elasticity of\n",
    "the steel bolt."
   ]
  },
  {
   "cell_type": "code",
   "execution_count": 28,
   "metadata": {},
   "outputs": [],
   "source": [
    "# Required\n",
    "from math import pi, e, pow, log"
   ]
  },
  {
   "cell_type": "code",
   "execution_count": 29,
   "metadata": {},
   "outputs": [
    {
     "name": "stdout",
     "output_type": "stream",
     "text": [
      "Coarse thread Class 8.8, Sp=600MPa\n",
      "Reusable connection, F=0.75Fp\n",
      "Ep=1/2Eb\n"
     ]
    }
   ],
   "source": [
    "# All units in m\n",
    "print('Coarse thread Class 8.8, Sp=600MPa')\n",
    "Sp = 600E+6\n",
    "d = 0.02\n",
    "p = 2.5\n",
    "flange_diameter=0.25\n",
    "Eb = 200E+9\n",
    "PLoad = 200E+3\n",
    "print('Reusable connection, F=0.75Fp')\n",
    "print('Ep=1/2Eb')\n",
    "# From diagram\n",
    "L = 0.05\n",
    "FOS=1.5"
   ]
  },
  {
   "cell_type": "markdown",
   "metadata": {},
   "source": [
    "i) the joint constant, C\n",
    "\n",
    "$$C=\\frac{k_b}{k_b+k_p}$$"
   ]
  },
  {
   "cell_type": "code",
   "execution_count": 30,
   "metadata": {},
   "outputs": [
    {
     "name": "stdout",
     "output_type": "stream",
     "text": [
      "Stiffness constant for bolts, kb (Eb is left unknown)\n",
      "kb= 6.283e-03Eb\n"
     ]
    }
   ],
   "source": [
    "print('Stiffness constant for bolts, kb (Eb is left unknown)')\n",
    "\n",
    "Ab=pi*pow(d,2)/4\n",
    "# kb=Ab*Eb/L\n",
    "kb=Ab/L\n",
    "print('kb=', f\"{kb:.3e}Eb\")"
   ]
  },
  {
   "cell_type": "code",
   "execution_count": 31,
   "metadata": {},
   "outputs": [
    {
     "name": "stdout",
     "output_type": "stream",
     "text": [
      "Stiffness constant for parts, kp (Ep is left unknown)\n",
      "kp= 2.017e-02Ep\n"
     ]
    }
   ],
   "source": [
    "print('Stiffness constant for parts, kp (Ep is left unknown)')\n",
    "\n",
    "kp=(0.58*pi*d)/(2*log(5*(((0.58*L)+(0.5*d))/((0.58*L)+(2.5*d)))))\n",
    "\n",
    "print('kp=', f\"{kp:.3e}Ep\")"
   ]
  },
  {
   "cell_type": "markdown",
   "metadata": {},
   "source": [
    "$$C=\\frac{6.283\\times10^{-3}E_b}{6.283\\times10^{-3}E_b+0.02E_p}$$\n",
    "\n",
    "when $E_p=\\frac{1}{2}E_b$\n",
    "\n",
    "$$C=\\frac{6.283\\times10^{-3}E_b}{6.283\\times10^{-3}E_b+0.02(0.5\\times E_b)}$$"
   ]
  },
  {
   "cell_type": "code",
   "execution_count": 32,
   "metadata": {},
   "outputs": [
    {
     "name": "stdout",
     "output_type": "stream",
     "text": [
      "C= 0.3839098600451956\n"
     ]
    }
   ],
   "source": [
    "new_kp = kp/2\n",
    "C = kb/(kb+new_kp)\n",
    "print(f'C= {C}')"
   ]
  },
  {
   "cell_type": "markdown",
   "metadata": {},
   "source": [
    "ii) the number of bolt, Nb for the connection\n",
    "\n",
    "If more than one bolt\n",
    "$$F_b=\\frac{CP}{Nb}+F_i$$"
   ]
  },
  {
   "cell_type": "code",
   "execution_count": 33,
   "metadata": {},
   "outputs": [
    {
     "name": "stdout",
     "output_type": "stream",
     "text": [
      "From Table 2.1, d=20mm, At=245mm^2\n",
      "From Table 2.2, Class 8.8, Sp=600MPa\n",
      "Fi= 110.25kN\n"
     ]
    }
   ],
   "source": [
    "print('From Table 2.1, d=20mm, At=245mm^2')\n",
    "print('From Table 2.2, Class 8.8, Sp=600MPa')\n",
    "At=245E-6\n",
    "Fp=Sp*At\n",
    "Fi = 0.75*Fp #Reusable joint\n",
    "print(f'Fi= {Fi/1000}kN')"
   ]
  },
  {
   "cell_type": "code",
   "execution_count": 34,
   "metadata": {},
   "outputs": [
    {
     "name": "stdout",
     "output_type": "stream",
     "text": [
      "To find number of bolt, need to assume Total Force on bolt = Proof load\n"
     ]
    }
   ],
   "source": [
    "print('To find number of bolt, need to assume Total Force on bolt = Proof load')"
   ]
  },
  {
   "cell_type": "markdown",
   "metadata": {},
   "source": [
    "$$S_pA_t=\\frac{CPn}{Nb}+F_i$$\n",
    "\n",
    "$$S_pA_t=\\frac{(0.384)(200\\times10^3)}{Nb}+110.25\\times10^3$$\n",
    "$$(600\\times10^6)(245\\times10^{-6})=\\frac{(0.384)(200\\times10^3)}{Nb}+110.25\\times10^3$$"
   ]
  },
  {
   "cell_type": "code",
   "execution_count": 35,
   "metadata": {},
   "outputs": [
    {
     "name": "stdout",
     "output_type": "stream",
     "text": [
      "Nb=3.13395804118527\n",
      "Therefore, No. of bolts = 4 bolts\n"
     ]
    }
   ],
   "source": [
    "Nb=C*PLoad*FOS/((Sp*At)-Fi)\n",
    "print(f'Nb={Nb}')\n",
    "print(f'Therefore, No. of bolts = 4 bolts')\n",
    "Nb=4"
   ]
  },
  {
   "cell_type": "markdown",
   "metadata": {},
   "source": [
    "iii) the force on the bolt, Fb and does the design safe or fail\n",
    "\n",
    "$$S_pA_t=\\frac{CPn}{Nb}+F_i$$"
   ]
  },
  {
   "cell_type": "code",
   "execution_count": null,
   "metadata": {},
   "outputs": [
    {
     "name": "stdout",
     "output_type": "stream",
     "text": [
      "Total force on bolt, Fb=139.04323950338966kN\n"
     ]
    }
   ],
   "source": [
    "Fb=(C*PLoad*FOS/Nb)+Fi\n",
    "print(f'Total force on bolt, Fb={Fb/1000}kN')"
   ]
  },
  {
   "cell_type": "markdown",
   "metadata": {},
   "source": [
    "Check $F_b > P$\n",
    "\n",
    "Since $F_b < P$ the design will fail."
   ]
  },
  {
   "cell_type": "markdown",
   "metadata": {},
   "source": [
    "iv) the suitable metric specification class number if M30 x 2 mm bolt is used to resist the\n",
    "same separating force using the same amount of bolt in (ii)."
   ]
  },
  {
   "cell_type": "code",
   "execution_count": 37,
   "metadata": {},
   "outputs": [
    {
     "name": "stdout",
     "output_type": "stream",
     "text": [
      "Metric specification means new class of bolt. Currently Class 8.8\n"
     ]
    }
   ],
   "source": [
    "print('Metric specification means new class of bolt. Currently Class 8.8')"
   ]
  },
  {
   "cell_type": "markdown",
   "metadata": {},
   "source": [
    "Use\n",
    "$$S_pA_t=\\frac{CPn}{Nb}+F_i$$\n",
    "$$S_pA_t=\\frac{CPn}{Nb}+0.75S_pA_t$$"
   ]
  },
  {
   "cell_type": "code",
   "execution_count": 38,
   "metadata": {},
   "outputs": [
    {
     "name": "stdout",
     "output_type": "stream",
     "text": [
      "New diameter is used. kb will changed. Joint stiffness factor will also changed\n",
      "kb= 1.414e-02Eb\n"
     ]
    }
   ],
   "source": [
    "print('New diameter is used. kb will changed. Joint stiffness factor will also changed')\n",
    "d = 0.03\n",
    "Ab=pi*pow(d,2)/4\n",
    "# kb=Ab*Eb/L\n",
    "kb=Ab/L\n",
    "print('kb=', f\"{kb:.3e}Eb\")"
   ]
  },
  {
   "cell_type": "code",
   "execution_count": 39,
   "metadata": {},
   "outputs": [
    {
     "name": "stdout",
     "output_type": "stream",
     "text": [
      "C= 0.5836911841032998\n"
     ]
    }
   ],
   "source": [
    "new_kp = kp/2\n",
    "C = kb/(kb+new_kp)\n",
    "print(f'C= {C}')"
   ]
  },
  {
   "cell_type": "markdown",
   "metadata": {},
   "source": [
    "$$S_pA_t=\\frac{CPn}{Nb}+0.75S_pA_t$$\n",
    "Where $A_t = 621mm^2$\n",
    "$$0.25S_p(621\\times10^{-6})=\\frac{(0.584)(200\\times10^3)\\times(1.5)}{4}$$"
   ]
  },
  {
   "cell_type": "code",
   "execution_count": 43,
   "metadata": {},
   "outputs": [
    {
     "name": "stdout",
     "output_type": "stream",
     "text": [
      "Sp=281.9764174412077MPa\n",
      "Class number 4.8\n"
     ]
    }
   ],
   "source": [
    "At=621E-6\n",
    "Sp=(C*PLoad*FOS/Nb)/(0.25*At)\n",
    "print(f'Sp={Sp/1E6}MPa')\n",
    "print('Class number 4.8')"
   ]
  }
 ],
 "metadata": {
  "kernelspec": {
   "display_name": "g01",
   "language": "python",
   "name": "python3"
  },
  "language_info": {
   "codemirror_mode": {
    "name": "ipython",
    "version": 3
   },
   "file_extension": ".py",
   "mimetype": "text/x-python",
   "name": "python",
   "nbconvert_exporter": "python",
   "pygments_lexer": "ipython3",
   "version": "3.10.13"
  }
 },
 "nbformat": 4,
 "nbformat_minor": 2
}
