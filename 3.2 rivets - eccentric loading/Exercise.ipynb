{
 "cells": [
  {
   "cell_type": "markdown",
   "metadata": {},
   "source": [
    "Rivets and Eccentric loading"
   ]
  },
  {
   "cell_type": "code",
   "execution_count": 84,
   "metadata": {},
   "outputs": [],
   "source": [
    "# Required\n",
    "import matplotlib.pyplot as plt\n",
    "import numpy as np\n",
    "from math import pi, radians, degrees, dist, atan"
   ]
  },
  {
   "cell_type": "code",
   "execution_count": 92,
   "metadata": {},
   "outputs": [
    {
     "data": {
      "image/png": "[encoded data removed]",
      "text/plain": [
       "<Figure size 432x288 with 1 Axes>"
      ]
     },
     "metadata": {
      "needs_background": "light"
     },
     "output_type": "display_data"
    }
   ],
   "source": [
    "coorA = [150,-120]\n",
    "coorB = [150,0]\n",
    "coorC = [0,0]\n",
    "coorD = [0,-120]\n",
    "loadLocation = [350,0]\n",
    "PLoad = 16000\n",
    "\n",
    "data = np.array([a,b,c,d])\n",
    "x, y = data.T\n",
    "fig, ax = plt.subplots()\n",
    "ax.grid()\n",
    "ax.scatter(x,y, color='k')\n",
    "ax.arrow(loadLocation[0],loadLocation[1]+60, 0,-50,width=3,color='r')\n",
    "# ax.hlines(Fproof,0,10000)\n",
    "# ax.hlines(Fi,0,10000)\n",
    "\n",
    "ax.set(xlabel='x', ylabel='y',\n",
    "       title='Location of bolts and load')\n",
    "\n",
    "ax.text(coorA[0],coorA[1],f'  A{coorA}')\n",
    "ax.text(coorB[0],coorB[1],f'  B{coorB}')\n",
    "ax.text(coorC[0],coorC[1],f'  C{coorC}')\n",
    "ax.text(coorD[0],coorD[1],f'  D{coorD}')\n",
    "\n",
    "plt.axis('equal')\n",
    "plt.show()"
   ]
  },
  {
   "cell_type": "code",
   "execution_count": 93,
   "metadata": {},
   "outputs": [
    {
     "name": "stdout",
     "output_type": "stream",
     "text": [
      "1. Centroid from Bolt C\n",
      "x bar = 75.0\n",
      "y bar = -60.0\n",
      "Centroid is (75.0,-60.0) from Bolt C\n"
     ]
    }
   ],
   "source": [
    "print('1. Centroid from Bolt C')\n",
    "# d = 16\n",
    "# Area = pi()*pow(d,2)/4\n",
    "# If area is same, just use A\n",
    "xBar = (coorA[0]+coorB[0]+coorC[0]+coorD[0])/4\n",
    "yBar = (coorA[1]+coorB[1]+coorC[1]+coorD[1])/4\n",
    "print(f'x bar = {xBar}')\n",
    "print(f'y bar = {yBar}')\n",
    "print(f'Centroid is ({xBar},{yBar}) from Bolt C')"
   ]
  },
  {
   "cell_type": "code",
   "execution_count": 87,
   "metadata": {},
   "outputs": [
    {
     "name": "stdout",
     "output_type": "stream",
     "text": [
      "2. Find distance between bolts and centroid\n",
      "rA = 96.04686356149273\n"
     ]
    }
   ],
   "source": [
    "print('2. Find distance between bolts and centroid')\n",
    "Centroid = [xBar, yBar]\n",
    "rA = dist(coorA, Centroid)\n",
    "print(f'rA = {rA}')"
   ]
  },
  {
   "cell_type": "code",
   "execution_count": 88,
   "metadata": {},
   "outputs": [
    {
     "data": {
      "text/plain": [
       "38.659808254090095"
      ]
     },
     "execution_count": 88,
     "metadata": {},
     "output_type": "execute_result"
    }
   ],
   "source": [
    "degrees(atan(60/75))"
   ]
  },
  {
   "cell_type": "code",
   "execution_count": 89,
   "metadata": {},
   "outputs": [
    {
     "name": "stdout",
     "output_type": "stream",
     "text": [
      "3. Find Tangential Force\n",
      "Tangential Force at A, Fta = 17699.7\n"
     ]
    }
   ],
   "source": [
    "print('3. Find Tangential Force')\n",
    "DirectShear = PLoad/4\n",
    "CentroidToLoad = 75+50+300\n",
    "Fta = (PLoad*CentroidToLoad*rA)/(4*pow(rA,2))\n",
    "print(f'Tangential Force at A, Fta = {Fta:.1f}')"
   ]
  },
  {
   "cell_type": "code",
   "execution_count": 110,
   "metadata": {},
   "outputs": [
    {
     "name": "stdout",
     "output_type": "stream",
     "text": [
      "4. Resultant load at each bolt\n"
     ]
    },
    {
     "data": {
      "image/png": "[encoded data removed]",
      "text/plain": [
       "<Figure size 432x288 with 1 Axes>"
      ]
     },
     "metadata": {
      "needs_background": "light"
     },
     "output_type": "display_data"
    }
   ],
   "source": [
    "print('4. Resultant load at each bolt')\n",
    "\n",
    "fig, ax = plt.subplots()\n",
    "ax.grid()\n",
    "ax.scatter(x,y, color='k')\n",
    "# ax.arrow(loadLocation[0],loadLocation[1]+60, 0,-50,width=3,color='r')\n",
    "ax.arrow(coorA[0]-75,coorA[1]-60, 75,60,width=3,color='g', length_includes_head='False')\n",
    "ax.arrow(coorB[0]+75,coorB[1]-60, -75,60,width=3,color='g', length_includes_head='False')\n",
    "ax.arrow(coorC[0]+75,coorC[1]+60, -75,-60,width=3,color='g', length_includes_head='False')\n",
    "ax.arrow(coorD[0]-75,coorD[1]+60, 75,-60,width=3,color='g', length_includes_head='False')\n",
    "\n",
    "# Direct Shear\n",
    "for i in [coorA,coorB,coorC,coorD]:\n",
    "       ax.arrow(i[0],i[1]-60, 0,60,width=3,color='b', length_includes_head='False')\n",
    "       ax.text(i[0],i[1],f'    {i}')\n",
    "\n",
    "ax.set(xlabel='x', ylabel='y',\n",
    "       title='Location of bolts and load')\n",
    "\n",
    "coorBolts = [coorA,coorB,coorC,coorD]\n",
    "boltLabel = ['A','B','C','D']\n",
    "for i in range(4):\n",
    "       ax.text(coorBolts[i][0],coorBolts[i][1],f'  {boltLabel[i]}')\n",
    "\n",
    "plt.axis('equal')\n",
    "plt.show()"
   ]
  },
  {
   "cell_type": "code",
   "execution_count": null,
   "metadata": {},
   "outputs": [],
   "source": []
  }
 ],
 "metadata": {
  "kernelspec": {
   "display_name": "tf",
   "language": "python",
   "name": "python3"
  },
  "language_info": {
   "codemirror_mode": {
    "name": "ipython",
    "version": 3
   },
   "file_extension": ".py",
   "mimetype": "text/x-python",
   "name": "python",
   "nbconvert_exporter": "python",
   "pygments_lexer": "ipython3",
   "version": "3.9.7"
  }
 },
 "nbformat": 4,
 "nbformat_minor": 2
}
