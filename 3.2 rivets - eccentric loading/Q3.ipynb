{
 "cells": [
  {
   "cell_type": "markdown",
   "metadata": {},
   "source": [
    "# Q3\n",
    "\n",
    "A cantilevered bracket is bolted to a column with three M14X2 bolts as shown in the figure below. Determine,\n",
    "\n",
    "a) Centroid of the bolts\n",
    "\n",
    "b) The allowable load, P if the shearing stress in bolt 2 is limited to 143MPa"
   ]
  },
  {
   "cell_type": "code",
   "execution_count": 41,
   "metadata": {},
   "outputs": [],
   "source": [
    "# Required\n",
    "import matplotlib.pyplot as plt\n",
    "import numpy as np\n",
    "from math import pi, radians, degrees, dist, atan, sqrt, cos, sin"
   ]
  },
  {
   "cell_type": "code",
   "execution_count": 42,
   "metadata": {},
   "outputs": [],
   "source": [
    "# Info from question\n",
    "coorA = [0,0]\n",
    "coorB = [150,0]\n",
    "coorC = [75,-120]\n",
    "\n",
    "# PLoad unknown\n",
    "shearStress = 143E+6\n",
    "boltDiameter = 14E-3\n",
    "CentroidToLoad = 375"
   ]
  },
  {
   "cell_type": "code",
   "execution_count": 43,
   "metadata": {},
   "outputs": [
    {
     "name": "stdout",
     "output_type": "stream",
     "text": [
      "1. Centroid \n",
      "x bar = 75.0\n",
      "y bar = -40.0\n",
      "Centroid is (75.0,-40.0) from Bolt A\n"
     ]
    }
   ],
   "source": [
    "print('1. Centroid ')\n",
    "\n",
    "\n",
    "xBar = (coorA[0]+coorB[0]+coorC[0])/3\n",
    "yBar = (coorA[1]+coorB[1]+coorC[1])/3\n",
    "print(f'x bar = {xBar}')\n",
    "print(f'y bar = {yBar}')\n",
    "print(f'Centroid is ({xBar},{yBar}) from Bolt A')\n"
   ]
  },
  {
   "cell_type": "code",
   "execution_count": 44,
   "metadata": {},
   "outputs": [
    {
     "name": "stdout",
     "output_type": "stream",
     "text": [
      "2. Find distance between bolts and centroid\n",
      "rA = 85.0\n",
      "rB = 85.0\n",
      "rC = 80.0\n"
     ]
    }
   ],
   "source": [
    "print('2. Find distance between bolts and centroid')\n",
    "Centroid = [xBar, yBar]\n",
    "rA = dist(coorA, Centroid)\n",
    "rB = dist(coorB, Centroid)\n",
    "rC = dist(coorC, Centroid)\n",
    "print(f'rA = {rA}')\n",
    "print(f'rB = {rB}')\n",
    "print(f'rC = {rC}')"
   ]
  },
  {
   "cell_type": "code",
   "execution_count": 49,
   "metadata": {},
   "outputs": [
    {
     "name": "stdout",
     "output_type": "stream",
     "text": [
      "3. Find Tangential Force\n",
      "Find Fta and leave P as unknown\n",
      "Direct shear at A, P/3 = 0.3333333333333333P\n",
      "Tangential Force at A, Fta = 1.5287769784172662P\n"
     ]
    }
   ],
   "source": [
    "print('3. Find Tangential Force')\n",
    "# directShear = PLoad/3\n",
    "# Fta = (PLoad*CentroidToLoad*rA)/(sum(i*i for i in [rA,rB,rC]))\n",
    "directShear = 1/3\n",
    "Fta = (CentroidToLoad*rA)/(sum(i*i for i in [rA,rB,rC]))\n",
    "# print(f'Tangential Force at A, Fta = {Fta:.1f}N')\n",
    "print('Find Fta and leave P as unknown')\n",
    "print(f'Direct shear at A, P/3 = {directShear}P')\n",
    "print(f'Tangential Force at A, Fta = {Fta}P')"
   ]
  },
  {
   "cell_type": "code",
   "execution_count": 46,
   "metadata": {},
   "outputs": [
    {
     "name": "stdout",
     "output_type": "stream",
     "text": [
      "4. Analyze bolt 2\n",
      "Angle for Tangential force, theta = 28.072486935852957\n",
      "Fby = 1.6800000000000002P\n",
      "Fbx = 0.72P\n",
      "Fb = 1.8277855454073382P\n"
     ]
    }
   ],
   "source": [
    "print('4. Analyze bolt 2')\n",
    "theta = degrees(atan(40/75))\n",
    "print(f'Angle for Tangential force, theta = {theta}')\n",
    "\n",
    "Fby = (0.33)+1.53*cos(radians(theta))\n",
    "Fbx = 1.53*sin(radians(theta))\n",
    "Fb = np.hypot(Fbx,Fby)\n",
    "print(f'Fby = {Fby}P')\n",
    "print(f'Fbx = {Fbx}P')\n",
    "print(f'Fb = {Fb}P')"
   ]
  },
  {
   "cell_type": "code",
   "execution_count": 47,
   "metadata": {},
   "outputs": [
    {
     "name": "stdout",
     "output_type": "stream",
     "text": [
      "5. Find P from Shear equation\n",
      "Load, P = 12043.6N\n"
     ]
    }
   ],
   "source": [
    "print('5. Find P from Shear equation')\n",
    "\n",
    "PLoad = shearStress*(pi*pow(boltDiameter,2)/4)/Fb\n",
    "\n",
    "print(f'Load, P = {PLoad:.1f}N')"
   ]
  }
 ],
 "metadata": {
  "kernelspec": {
   "display_name": "g01",
   "language": "python",
   "name": "python3"
  },
  "language_info": {
   "codemirror_mode": {
    "name": "ipython",
    "version": 3
   },
   "file_extension": ".py",
   "mimetype": "text/x-python",
   "name": "python",
   "nbconvert_exporter": "python",
   "pygments_lexer": "ipython3",
   "version": "3.10.13"
  }
 },
 "nbformat": 4,
 "nbformat_minor": 2
}
