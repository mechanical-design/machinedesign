{
 "cells": [
  {
   "cell_type": "markdown",
   "metadata": {},
   "source": [
    "# Tutor Q2\n",
    "\n",
    "A riveted joint, consisting of four rivets is subjected to an eccentric force, P of 5 kN act at the angle of 30 degree to the horizontal axis. Determine:\n",
    "\n",
    "(i) The centroid of the rivets assembly from rivet 4\n",
    "\n",
    "(ii) The forces at rivet 2 and 3\n",
    "\n",
    "(iii) The maximum shear stress if A is 510 mm2\n",
    "\n",
    "Given:\n",
    "- Area of rivet 1= A\n",
    "- Area of rivet 2= 2A\n",
    "- Area of rivet 3= A\n",
    "- Area of rivet 4= 4A"
   ]
  },
  {
   "cell_type": "code",
   "execution_count": 30,
   "metadata": {},
   "outputs": [],
   "source": [
    "# Required\n",
    "import matplotlib.pyplot as plt\n",
    "import numpy as np\n",
    "from math import pi, radians, degrees, dist, atan, sqrt, cos, sin"
   ]
  },
  {
   "cell_type": "code",
   "execution_count": 31,
   "metadata": {},
   "outputs": [],
   "source": [
    "# Info from question\n",
    "coorA = [100,100]\n",
    "coorB = [200,0]\n",
    "coorC = [100,-100]\n",
    "coorD = [0,0]\n",
    "PLoad = 5000\n",
    "loadAngle = 30\n",
    "CentroidToLoad = 200\n",
    "\n",
    "# Different area\n",
    "areaA = 1\n",
    "areaB = 2*areaA\n",
    "areaC = areaA\n",
    "areaD = 4*areaA"
   ]
  },
  {
   "cell_type": "code",
   "execution_count": 32,
   "metadata": {},
   "outputs": [
    {
     "name": "stdout",
     "output_type": "stream",
     "text": [
      "1. Centroid \n",
      "x bar = 75.0\n",
      "y bar = 0.0\n",
      "Centroid is (75.0,0.0) from Bolt D\n"
     ]
    }
   ],
   "source": [
    "print('1. Centroid ')\n",
    "\n",
    "# Different area\n",
    "xBar = ((coorA[0]*areaA)+(coorB[0]*areaB)+(coorC[0]*areaC)+(coorD[0]*areaD))/(areaA+areaB+areaC+areaD)\n",
    "yBar = ((coorA[1]*areaA)+(coorB[1]*areaB)+(coorC[1]*areaC)+(coorD[1]*areaD))/(areaA+areaB+areaC+areaD)\n",
    "print(f'x bar = {xBar}')\n",
    "print(f'y bar = {yBar}')\n",
    "print(f'Centroid is ({xBar},{yBar}) from Bolt D')\n"
   ]
  },
  {
   "cell_type": "code",
   "execution_count": 33,
   "metadata": {},
   "outputs": [
    {
     "data": {
      "image/png": "[encoded data removed]",
      "text/plain": [
       "<Figure size 640x480 with 1 Axes>"
      ]
     },
     "metadata": {},
     "output_type": "display_data"
    }
   ],
   "source": [
    "centroid = [75,0]\n",
    "loadLocation = [300,0]\n",
    "PLoad = 5000\n",
    "\n",
    "data = np.array([coorA,coorB,coorC,coorD,centroid])\n",
    "x, y = data.T\n",
    "fig, ax = plt.subplots()\n",
    "ax.grid()\n",
    "ax.scatter(x,y, color='k')\n",
    "ax.arrow(loadLocation[0],loadLocation[1]+60, 0,-50,width=3,color='r')\n",
    "# ax.hlines(Fproof,0,10000)\n",
    "# ax.hlines(Fi,0,10000)\n",
    "\n",
    "ax.set(xlabel='x', ylabel='y',\n",
    "       title='Location of bolts and load')\n",
    "\n",
    "ax.text(coorA[0],coorA[1],f'  A{coorA}')\n",
    "ax.text(coorB[0],coorB[1],f'  B{coorB}')\n",
    "ax.text(coorC[0],coorC[1],f'  C{coorC}')\n",
    "ax.text(coorD[0],coorD[1],f'  D{coorD}               Centroid{centroid}')\n",
    "\n",
    "ax.text(coorB[0],coorB[1]+20,f'e=300mm')\n",
    "\n",
    "ax.annotate(\"\",\n",
    "            xy=(300, 15),  # End point of the arrow\n",
    "            xytext=(75, 15),  # Start point of the arrow\n",
    "            arrowprops=dict(arrowstyle=\"<->\",  # Double-headed arrow style\n",
    "                            color=\"blue\",\n",
    "                            linewidth=0.5))\n",
    "\n",
    "plt.axis('equal')\n",
    "plt.show()"
   ]
  },
  {
   "cell_type": "code",
   "execution_count": 38,
   "metadata": {},
   "outputs": [
    {
     "name": "stdout",
     "output_type": "stream",
     "text": [
      "2. Find distance between bolts and centroid\n",
      "rA = 103.07764064044152\n",
      "rB = 125.0\n",
      "rC = 103.07764064044152\n",
      "rD = 75.0\n"
     ]
    }
   ],
   "source": [
    "print('2. Find distance between bolts and centroid')\n",
    "Centroid = [xBar, yBar]\n",
    "rA = dist(coorA, Centroid)\n",
    "rB = dist(coorB, Centroid)\n",
    "rC = dist(coorC, Centroid)\n",
    "rD = dist(coorD, Centroid)\n",
    "print(f'rA = {rA}')\n",
    "print(f'rB = {rB}')\n",
    "print(f'rC = {rC}')\n",
    "print(f'rD = {rD}')"
   ]
  },
  {
   "cell_type": "code",
   "execution_count": 35,
   "metadata": {},
   "outputs": [
    {
     "name": "stdout",
     "output_type": "stream",
     "text": [
      "3. Find Tangential Force\n",
      "Direct shear at A, P/3 = 1666.6666666666667\n",
      "Tangential Force at A, Fta = 3389.830508474576\n"
     ]
    }
   ],
   "source": [
    "print('3. Find Tangential Force')\n",
    "directShear = PLoad/3\n",
    "Ftb = (PLoad*CentroidToLoad*rB)/(sum(i*i for i in [rA,rB,rC]))\n",
    "# directShear = 1/3\n",
    "# Fta = (CentroidToLoad*rA)/(sum(i*i for i in [rA,rB,rC]))\n",
    "# print(f'Tangential Force at A, Fta = {Fta:.1f}N')\n",
    "print(f'Direct shear at A, P/3 = {directShear}')\n",
    "print(f'Tangential Force at A, Fta = {Ftb}')"
   ]
  },
  {
   "cell_type": "code",
   "execution_count": 36,
   "metadata": {},
   "outputs": [
    {
     "name": "stdout",
     "output_type": "stream",
     "text": [
      "4. Analyze bolt 2\n",
      "Angle for Tangential force, theta = 28.072486935852957\n",
      "Fby = 1.6800000000000002P\n",
      "Fbx = 0.72P\n",
      "Fb = 1.8277855454073382P\n"
     ]
    }
   ],
   "source": [
    "print('4. Analyze bolt 2')\n",
    "theta = degrees(atan(40/75))\n",
    "print(f'Angle for Tangential force, theta = {theta}')\n",
    "\n",
    "Fby = (0.33)+1.53*cos(radians(theta))\n",
    "Fbx = 1.53*sin(radians(theta))\n",
    "Fb = np.hypot(Fbx,Fby)\n",
    "print(f'Fby = {Fby}P')\n",
    "print(f'Fbx = {Fbx}P')\n",
    "print(f'Fb = {Fb}P')"
   ]
  },
  {
   "cell_type": "code",
   "execution_count": 37,
   "metadata": {},
   "outputs": [
    {
     "name": "stdout",
     "output_type": "stream",
     "text": [
      "5. Find P from Shear equation\n"
     ]
    },
    {
     "ename": "NameError",
     "evalue": "name 'shearStress' is not defined",
     "output_type": "error",
     "traceback": [
      "\u001b[31m---------------------------------------------------------------------------\u001b[39m",
      "\u001b[31mNameError\u001b[39m                                 Traceback (most recent call last)",
      "\u001b[36mCell\u001b[39m\u001b[36m \u001b[39m\u001b[32mIn[37]\u001b[39m\u001b[32m, line 3\u001b[39m\n\u001b[32m      1\u001b[39m \u001b[38;5;28mprint\u001b[39m(\u001b[33m'\u001b[39m\u001b[33m5. Find P from Shear equation\u001b[39m\u001b[33m'\u001b[39m)\n\u001b[32m----> \u001b[39m\u001b[32m3\u001b[39m PLoad = \u001b[43mshearStress\u001b[49m*(pi*\u001b[38;5;28mpow\u001b[39m(boltDiameter,\u001b[32m2\u001b[39m)/\u001b[32m4\u001b[39m)/Fb\n\u001b[32m      5\u001b[39m \u001b[38;5;28mprint\u001b[39m(\u001b[33mf\u001b[39m\u001b[33m'\u001b[39m\u001b[33mLoad, P = \u001b[39m\u001b[38;5;132;01m{\u001b[39;00mPLoad\u001b[38;5;132;01m:\u001b[39;00m\u001b[33m.1f\u001b[39m\u001b[38;5;132;01m}\u001b[39;00m\u001b[33mN\u001b[39m\u001b[33m'\u001b[39m)\n",
      "\u001b[31mNameError\u001b[39m: name 'shearStress' is not defined"
     ]
    }
   ],
   "source": [
    "print('5. Find P from Shear equation')\n",
    "\n",
    "PLoad = shearStress*(pi*pow(boltDiameter,2)/4)/Fb\n",
    "\n",
    "print(f'Load, P = {PLoad:.1f}N')"
   ]
  }
 ],
 "metadata": {
  "kernelspec": {
   "display_name": "p12",
   "language": "python",
   "name": "python3"
  },
  "language_info": {
   "codemirror_mode": {
    "name": "ipython",
    "version": 3
   },
   "file_extension": ".py",
   "mimetype": "text/x-python",
   "name": "python",
   "nbconvert_exporter": "python",
   "pygments_lexer": "ipython3",
   "version": "3.12.9"
  }
 },
 "nbformat": 4,
 "nbformat_minor": 2
}
