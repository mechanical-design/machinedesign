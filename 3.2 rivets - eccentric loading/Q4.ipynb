{
 "cells": [
  {
   "cell_type": "markdown",
   "metadata": {},
   "source": [
    "# Tutor Q2\n",
    "\n",
    "A riveted joint, consisting of four rivets is subjected to an eccentric force, P of 5 kN act at the angle of 30 degree to the horizontal axis. Determine:\n",
    "\n",
    "(i) The centroid of the rivets assembly from rivet 4\n",
    "\n",
    "(ii) The forces at rivet 2 and 3\n",
    "\n",
    "(iii) The maximum shear stress if A is 510 mm2\n",
    "\n",
    "Given:\n",
    "- Area of rivet 1= A\n",
    "- Area of rivet 2= 2A\n",
    "- Area of rivet 3= A\n",
    "- Area of rivet 4= 4A"
   ]
  },
  {
   "cell_type": "code",
   "execution_count": 1,
   "metadata": {},
   "outputs": [],
   "source": [
    "# Required\n",
    "import matplotlib.pyplot as plt\n",
    "import numpy as np\n",
    "from math import pi, radians, degrees, dist, atan, sqrt, cos, sin"
   ]
  },
  {
   "cell_type": "code",
   "execution_count": 2,
   "metadata": {},
   "outputs": [],
   "source": [
    "# Info from question\n",
    "coorA = [100,100]\n",
    "coorB = [200,0]\n",
    "coorC = [100,-100]\n",
    "coorD = [0,0]\n",
    "PLoad = 5000\n",
    "loadAngle = 30\n",
    "CentroidToLoad = 200\n",
    "\n",
    "# Different area\n",
    "areaA = 1\n",
    "areaB = 2*areaA\n",
    "areaC = areaA\n",
    "areaD = 4*areaA"
   ]
  },
  {
   "cell_type": "code",
   "execution_count": 5,
   "metadata": {},
   "outputs": [
    {
     "name": "stdout",
     "output_type": "stream",
     "text": [
      "1. Centroid \n",
      "x bar = 75.0\n",
      "y bar = 0.0\n",
      "Centroid is (75.0,0.0) from Bolt D\n"
     ]
    }
   ],
   "source": [
    "print('1. Centroid ')\n",
    "\n",
    "# Different area\n",
    "xBar = ((coorA[0]*areaA)+(coorB[0]*areaB)+(coorC[0]*areaC)+(coorD[0]*areaD))/(areaA+areaB+areaC+areaD)\n",
    "yBar = ((coorA[1]*areaA)+(coorB[1]*areaB)+(coorC[1]*areaC)+(coorD[1]*areaD))/(areaA+areaB+areaC+areaD)\n",
    "print(f'x bar = {xBar}')\n",
    "print(f'y bar = {yBar}')\n",
    "print(f'Centroid is ({xBar},{yBar}) from Bolt D')\n"
   ]
  },
  {
   "cell_type": "code",
   "execution_count": 6,
   "metadata": {},
   "outputs": [
    {
     "name": "stdout",
     "output_type": "stream",
     "text": [
      "2. Find distance between bolts and centroid\n",
      "rA = 103.07764064044152\n",
      "rB = 125.0\n",
      "rC = 103.07764064044152\n"
     ]
    }
   ],
   "source": [
    "print('2. Find distance between bolts and centroid')\n",
    "Centroid = [xBar, yBar]\n",
    "rA = dist(coorA, Centroid)\n",
    "rB = dist(coorB, Centroid)\n",
    "rC = dist(coorC, Centroid)\n",
    "print(f'rA = {rA}')\n",
    "print(f'rB = {rB}')\n",
    "print(f'rC = {rC}')"
   ]
  },
  {
   "cell_type": "code",
   "execution_count": 7,
   "metadata": {},
   "outputs": [
    {
     "name": "stdout",
     "output_type": "stream",
     "text": [
      "3. Find Tangential Force\n",
      "Direct shear at A, P/3 = 1666.6666666666667\n",
      "Tangential Force at A, Fta = 3389.830508474576\n"
     ]
    }
   ],
   "source": [
    "print('3. Find Tangential Force')\n",
    "directShear = PLoad/3\n",
    "Ftb = (PLoad*CentroidToLoad*rB)/(sum(i*i for i in [rA,rB,rC]))\n",
    "# directShear = 1/3\n",
    "# Fta = (CentroidToLoad*rA)/(sum(i*i for i in [rA,rB,rC]))\n",
    "# print(f'Tangential Force at A, Fta = {Fta:.1f}N')\n",
    "print(f'Direct shear at A, P/3 = {directShear}')\n",
    "print(f'Tangential Force at A, Fta = {Ftb}')"
   ]
  },
  {
   "cell_type": "code",
   "execution_count": 46,
   "metadata": {},
   "outputs": [
    {
     "name": "stdout",
     "output_type": "stream",
     "text": [
      "4. Analyze bolt 2\n",
      "Angle for Tangential force, theta = 28.072486935852957\n",
      "Fby = 1.6800000000000002P\n",
      "Fbx = 0.72P\n",
      "Fb = 1.8277855454073382P\n"
     ]
    }
   ],
   "source": [
    "print('4. Analyze bolt 2')\n",
    "theta = degrees(atan(40/75))\n",
    "print(f'Angle for Tangential force, theta = {theta}')\n",
    "\n",
    "Fby = (0.33)+1.53*cos(radians(theta))\n",
    "Fbx = 1.53*sin(radians(theta))\n",
    "Fb = np.hypot(Fbx,Fby)\n",
    "print(f'Fby = {Fby}P')\n",
    "print(f'Fbx = {Fbx}P')\n",
    "print(f'Fb = {Fb}P')"
   ]
  },
  {
   "cell_type": "code",
   "execution_count": 47,
   "metadata": {},
   "outputs": [
    {
     "name": "stdout",
     "output_type": "stream",
     "text": [
      "5. Find P from Shear equation\n",
      "Load, P = 12043.6N\n"
     ]
    }
   ],
   "source": [
    "print('5. Find P from Shear equation')\n",
    "\n",
    "PLoad = shearStress*(pi*pow(boltDiameter,2)/4)/Fb\n",
    "\n",
    "print(f'Load, P = {PLoad:.1f}N')"
   ]
  }
 ],
 "metadata": {
  "kernelspec": {
   "display_name": "g01",
   "language": "python",
   "name": "python3"
  },
  "language_info": {
   "codemirror_mode": {
    "name": "ipython",
    "version": 3
   },
   "file_extension": ".py",
   "mimetype": "text/x-python",
   "name": "python",
   "nbconvert_exporter": "python",
   "pygments_lexer": "ipython3",
   "version": "3.10.13"
  }
 },
 "nbformat": 4,
 "nbformat_minor": 2
}
