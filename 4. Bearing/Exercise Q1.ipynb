{
 "cells": [
  {
   "cell_type": "markdown",
   "metadata": {},
   "source": [
    "# Q1\n",
    "\n",
    "Two 50 mm bore deep groove ball bearings are used as support at A and B as shown in Figure\n",
    "Q1. The bearing operates at a speed of 1500 rpm, with inner ring rotates and light shock\n",
    "loading. Find:\n",
    "(i) the radial and axial loads on both bearings\n",
    "\n",
    "(ii) the equivalent radial load on both bearings\n",
    "\n",
    "(ii) rating life of the bearings\n",
    "\n",
    "(iii) median life of the bearings\n",
    "\n",
    "(iv) rating life of the bearings taking 97% reliability\n",
    "\n",
    "(vi) rating life of the bearings for 4% failure\n",
    "\n",
    "(v) the new rating life in hours if the load is reduced by 10%"
   ]
  },
  {
   "cell_type": "code",
   "execution_count": 23,
   "metadata": {},
   "outputs": [],
   "source": [
    "# Required\n",
    "import matplotlib.pyplot as plt\n",
    "import numpy as np\n",
    "from math import pow"
   ]
  },
  {
   "cell_type": "code",
   "execution_count": 24,
   "metadata": {},
   "outputs": [
    {
     "name": "stdout",
     "output_type": "stream",
     "text": [
      "D = 50mm\n",
      "Bearing Type: Deep-groove ball bearing\n",
      "Inner ring rotate, V=1.0\n",
      "Light shock for ball bearing, Ks=1.5\n"
     ]
    }
   ],
   "source": [
    "DBore = 50\n",
    "print(f'D = {DBore}mm')\n",
    "print('Bearing Type: Deep-groove ball bearing')\n",
    "a_bearingType = 3\n",
    "# Fr = 9000\n",
    "# Fa = 0\n",
    "n_rpm = 1500\n",
    "print('Inner ring rotate, V=1.0')\n",
    "V_rotationFactor = 1.0\n",
    "print('Light shock for ball bearing, Ks=1.5')\n",
    "Ks = 1.5\n",
    "# print('Rating life, L10 = 30000 hours')\n",
    "# L10 = 30000"
   ]
  },
  {
   "cell_type": "markdown",
   "metadata": {},
   "source": [
    "(i) The radial load, Fr"
   ]
  },
  {
   "cell_type": "code",
   "execution_count": 25,
   "metadata": {},
   "outputs": [
    {
     "data": {
      "image/png": "[encoded data removed]",
      "text/plain": [
       "<Figure size 640x480 with 1 Axes>"
      ]
     },
     "metadata": {},
     "output_type": "display_data"
    }
   ],
   "source": [
    "coorA = [0,0]\n",
    "coorB = [400,0]\n",
    "loadLocation = [100,0]\n",
    "\n",
    "data = np.array([coorA,coorB])\n",
    "x, y = data.T\n",
    "fig, ax = plt.subplots()\n",
    "ax.grid()\n",
    "ax.scatter(x,y, color='k')\n",
    "ax.arrow(loadLocation[0],loadLocation[1]+50, 0,-40,width=3,color='r')\n",
    "ax.hlines(0,0,400)\n",
    "\n",
    "ax.set(xlabel='x', ylabel='y',\n",
    "       title='Horizontal loading')\n",
    "\n",
    "ax.text(loadLocation[0],loadLocation[1]+50,f'8kN+4kN')\n",
    "ax.text(coorA[0],coorA[1],f'  A    100mm')\n",
    "ax.text(coorB[0]-150,coorB[1],f'300mm                      B')\n",
    "\n",
    "plt.axis('equal')\n",
    "plt.show()"
   ]
  },
  {
   "cell_type": "markdown",
   "metadata": {},
   "source": [
    "$$+\\uparrow \\sum F_x=0$$\n",
    "$$A_x+B_x-12000=0$$\n",
    "\n",
    "$$+\\circlearrowleft \\sum M_c=0$$\n",
    "$$-A_x(400)+12000(300)=0$$\n",
    "$$A_x=12000(300)/400$$"
   ]
  },
  {
   "cell_type": "code",
   "execution_count": 26,
   "metadata": {},
   "outputs": [
    {
     "name": "stdout",
     "output_type": "stream",
     "text": [
      "Ax=9000.0N\n"
     ]
    }
   ],
   "source": [
    "A_x = 12000*(300)/400\n",
    "print(f'Ax={A_x}N')"
   ]
  },
  {
   "cell_type": "markdown",
   "metadata": {},
   "source": [
    "$$9000+B_x-12000=0$$"
   ]
  },
  {
   "cell_type": "code",
   "execution_count": 27,
   "metadata": {},
   "outputs": [
    {
     "name": "stdout",
     "output_type": "stream",
     "text": [
      "Cx=3000N\n"
     ]
    }
   ],
   "source": [
    "B_x=12000-9000\n",
    "print(f'Cx={B_x}N')\n"
   ]
  },
  {
   "cell_type": "code",
   "execution_count": 28,
   "metadata": {},
   "outputs": [
    {
     "name": "stdout",
     "output_type": "stream",
     "text": [
      "Radial load at Bearing A and B\n",
      "A=9000.0N\n",
      "C=3000N\n",
      "Axial load at A and B is 0 because there is no axial force, Fa=0\n"
     ]
    }
   ],
   "source": [
    "print('Radial load at Bearing A and B')\n",
    "A_load = A_x\n",
    "B_load = B_x\n",
    "print(f'A={A_load}N')\n",
    "print(f'C={B_load}N')\n",
    "\n",
    "# print(f'Considered Radial load is at C, Fr={A_total:.2f}')\n",
    "# Fr=A_total\n",
    "\n",
    "print(f'Axial load at A and B is 0 because there is no axial force, Fa=0')\n",
    "Fa=0"
   ]
  },
  {
   "cell_type": "markdown",
   "metadata": {},
   "source": [
    "(ii) The equivalent radial load, P"
   ]
  },
  {
   "cell_type": "markdown",
   "metadata": {},
   "source": [
    "$$P=K_s(XVF_r+YF_a)$$\n",
    "\n",
    "No Axial Force, thus the equation becomes.\n",
    "$$\n",
    "P=K_sXVF_r\n",
    "$$\n",
    "$$P=(1.5)(1)(1.2)(777)$$"
   ]
  },
  {
   "cell_type": "code",
   "execution_count": 29,
   "metadata": {},
   "outputs": [
    {
     "name": "stdout",
     "output_type": "stream",
     "text": [
      "Equivalent Radial Load at A, Pa=13500.0N\n",
      "Equivalent Radial Load at B, Pb=4500.0N\n"
     ]
    }
   ],
   "source": [
    "Pa=Ks*(1*V_rotationFactor*A_load)\n",
    "print(f'Equivalent Radial Load at A, Pa={Pa}N')\n",
    "\n",
    "Pb=Ks*(1*V_rotationFactor*B_load)\n",
    "print(f'Equivalent Radial Load at B, Pb={Pb}N')"
   ]
  },
  {
   "cell_type": "markdown",
   "metadata": {},
   "source": [
    "iii) Rating Life, $L_{10}$\n",
    "\n",
    "$$L_{10} = \\frac{10^6}{60*n_{rpm}} \\left( \\frac{C}{P} \\right)^a$$"
   ]
  },
  {
   "cell_type": "markdown",
   "metadata": {},
   "source": [
    "From Table 3.1\n",
    "\n",
    "Table 3.1\n",
    "\n",
    "| D | C (kN) | Cs(kN) |\n",
    "|:--------:|:--------:|:--------:|\n",
    "|  50   |  35.1   |  19.6   |"
   ]
  },
  {
   "cell_type": "code",
   "execution_count": 30,
   "metadata": {},
   "outputs": [
    {
     "name": "stdout",
     "output_type": "stream",
     "text": [
      "Value of C from Table is, C=35100N\n"
     ]
    }
   ],
   "source": [
    "C=35100\n",
    "print(f'Value of C from Table is, C={C}N')"
   ]
  },
  {
   "cell_type": "code",
   "execution_count": 31,
   "metadata": {},
   "outputs": [
    {
     "name": "stdout",
     "output_type": "stream",
     "text": [
      "Equivalent radial load at A is taken because it is larger than B\n"
     ]
    }
   ],
   "source": [
    "print(f'Equivalent radial load at A is taken because it is larger than B')\n",
    "P = Pa"
   ]
  },
  {
   "cell_type": "code",
   "execution_count": 32,
   "metadata": {},
   "outputs": [
    {
     "name": "stdout",
     "output_type": "stream",
     "text": [
      "Rating Life, L10 = 195 hours\n"
     ]
    }
   ],
   "source": [
    "rating_life_L10 = (1E+6/(60*n_rpm))*pow((C/P),3)\n",
    "print(f'Rating Life, L10 = {rating_life_L10:.0f} hours')"
   ]
  },
  {
   "cell_type": "markdown",
   "metadata": {},
   "source": [
    "(iv) median life of the bearing\n",
    "\n",
    "$$Median Life: 5L_{10}$$"
   ]
  },
  {
   "cell_type": "code",
   "execution_count": 33,
   "metadata": {},
   "outputs": [
    {
     "name": "stdout",
     "output_type": "stream",
     "text": [
      "Median Life, 5L10 = 976 hours\n"
     ]
    }
   ],
   "source": [
    "print(f'Median Life, 5L10 = {5*rating_life_L10:.0f} hours')"
   ]
  },
  {
   "cell_type": "markdown",
   "metadata": {},
   "source": [
    "V) rating life of the bearings taking 97% reliability\n",
    "\n",
    "From Figure 1, When 97% reliability, $K_r$ is 0.44"
   ]
  },
  {
   "cell_type": "code",
   "execution_count": 34,
   "metadata": {},
   "outputs": [
    {
     "name": "stdout",
     "output_type": "stream",
     "text": [
      "Rating Life for 97% reliability, L5=86 hours\n"
     ]
    }
   ],
   "source": [
    "Kr=0.44\n",
    "L5=Kr*rating_life_L10\n",
    "print(f'Rating Life for 97% reliability, L5={L5:.0f} hours')"
   ]
  },
  {
   "cell_type": "markdown",
   "metadata": {},
   "source": [
    "Vi) rating life of the bearings for 4% failure\n",
    "\n",
    "From Figure 1, when 4% failure, we take 96% reliability, $K_r$ is 0.53"
   ]
  },
  {
   "cell_type": "code",
   "execution_count": 35,
   "metadata": {},
   "outputs": [
    {
     "name": "stdout",
     "output_type": "stream",
     "text": [
      "Rating Life for 4% failure, L5=104 hours\n"
     ]
    }
   ],
   "source": [
    "Kr=0.53\n",
    "L5=Kr*rating_life_L10\n",
    "print(f'Rating Life for 4% failure, L5={L5:.0f} hours')"
   ]
  },
  {
   "cell_type": "markdown",
   "metadata": {},
   "source": [
    "vii) the new rating life in hours if the load is reduced by 10%\n",
    "\n",
    "$$\\frac{L'_{10}}{L''_{10}} = \\left( \\frac{P_2}{P_1} \\right)^a$$\n",
    "\n",
    "$$\\frac{195}{L''_{10}} = \\left( \\frac{90}{100} \\right)^3$$"
   ]
  },
  {
   "cell_type": "code",
   "execution_count": 36,
   "metadata": {},
   "outputs": [
    {
     "name": "stdout",
     "output_type": "stream",
     "text": [
      "Rating Life, L10 = 267 hours\n"
     ]
    }
   ],
   "source": [
    "new_rating_life = 195/pow(90/100,3)\n",
    "print(f'Rating Life, L10 = {new_rating_life:.0f} hours')"
   ]
  },
  {
   "cell_type": "markdown",
   "metadata": {},
   "source": [
    "## Well defined problem: \n",
    "\n",
    "1) A ball bearing carries pure radial load of 4500 N at a speed of 400 rpm. The bearing is used in moderate shock condition with inner ring rotates. Find the dynamic load capacity required for the bearing if the expected life of bearing is 10000 operating hours"
   ]
  },
  {
   "cell_type": "code",
   "execution_count": 37,
   "metadata": {},
   "outputs": [
    {
     "name": "stdout",
     "output_type": "stream",
     "text": [
      "Bearing Type: Deep-groove ball bearing\n",
      "Inner ring rotate, V=1.0\n",
      "Moderate shock for ball bearing, Ks=2.0\n"
     ]
    }
   ],
   "source": [
    "print('Bearing Type: Deep-groove ball bearing')\n",
    "a_bearingType = 3\n",
    "Fr = 4500\n",
    "# Fa = 0\n",
    "n_rpm = 400\n",
    "print('Inner ring rotate, V=1.0')\n",
    "V_rotationFactor = 1.0\n",
    "print('Moderate shock for ball bearing, Ks=2.0')\n",
    "Ks = 2\n",
    "L10=10000"
   ]
  },
  {
   "cell_type": "code",
   "execution_count": 38,
   "metadata": {},
   "outputs": [
    {
     "name": "stdout",
     "output_type": "stream",
     "text": [
      "Equivalent Radial Load, P=9000.0\n"
     ]
    }
   ],
   "source": [
    "P=Ks*(1*V_rotationFactor*Fr)\n",
    "print(f'Equivalent Radial Load, P={P}')"
   ]
  },
  {
   "cell_type": "code",
   "execution_count": 39,
   "metadata": {},
   "outputs": [
    {
     "name": "stdout",
     "output_type": "stream",
     "text": [
      "C=55930.19N\n",
      "Find minimum C value above the value of C\n"
     ]
    }
   ],
   "source": [
    "C_toFind = pow(L10*60*n_rpm/(1E+6),1/3)*P\n",
    "print(f'C={C_toFind:.2f}N')\n",
    "print('Find minimum C value above the value of C')"
   ]
  },
  {
   "cell_type": "markdown",
   "metadata": {},
   "source": [
    "Table 3.1\n",
    "\n",
    "| D | C (kN) | \n",
    "|:--------:|:--------:|\n",
    "|  65   |  55.5   |\n",
    "|  **70**   |  61.8   |"
   ]
  },
  {
   "cell_type": "code",
   "execution_count": 40,
   "metadata": {},
   "outputs": [
    {
     "name": "stdout",
     "output_type": "stream",
     "text": [
      "The suitable bearing size is 70mm\n"
     ]
    }
   ],
   "source": [
    "print('The suitable bearing size is 70mm')"
   ]
  },
  {
   "cell_type": "markdown",
   "metadata": {},
   "source": [
    "2. A bearing is subjected to radial load of 6Kn with heavy shock and the outer rings rotate. Determine the equivalent radial load of 40 mm bore 02 series straight cylindrical bearings."
   ]
  },
  {
   "cell_type": "code",
   "execution_count": 41,
   "metadata": {},
   "outputs": [
    {
     "name": "stdout",
     "output_type": "stream",
     "text": [
      "Bearing Type: 02-series straight cylindrical\n",
      "Outer ring rotate, V=1.2\n",
      "Heavy shock for roller bearing, Ks=1.7\n"
     ]
    }
   ],
   "source": [
    "DBore = 40\n",
    "print('Bearing Type: 02-series straight cylindrical')\n",
    "a_bearingType = 10/3\n",
    "Fr = 6000\n",
    "# Fa = 0\n",
    "n_rpm = 400\n",
    "print('Outer ring rotate, V=1.2')\n",
    "V_rotationFactor = 1.2\n",
    "print('Heavy shock for roller bearing, Ks=1.7')\n",
    "Ks = 1.7\n",
    "L10=10000"
   ]
  },
  {
   "cell_type": "markdown",
   "metadata": {},
   "source": [
    "$$P=K_s(XVF_r+YF_a)$$\n",
    "\n",
    "No Axial Force, thus the equation becomes.\n",
    "$$\n",
    "P=K_sVF_r\n",
    "$$\n",
    "$$P=(1.7)(1.2)(6000)$$"
   ]
  },
  {
   "cell_type": "code",
   "execution_count": 42,
   "metadata": {},
   "outputs": [
    {
     "name": "stdout",
     "output_type": "stream",
     "text": [
      "Equivalent Radial Load, Pa=18360.0N\n"
     ]
    }
   ],
   "source": [
    "P=Ks*(1*V_rotationFactor*A_load)\n",
    "print(f'Equivalent Radial Load, Pa={P}N')"
   ]
  },
  {
   "cell_type": "markdown",
   "metadata": {},
   "source": [
    "3. State the bore for 03 series straight cylindrical bearing if the basis dynamic load rating is 46.7 kN.\n",
    "\n",
    "Table 3.2\n",
    "\n",
    "| D | C (kN) | \n",
    "|:--------:|:--------:|\n",
    "|  35   |  44.6   |\n",
    "|  **40**   |  56.1   |"
   ]
  },
  {
   "cell_type": "code",
   "execution_count": 43,
   "metadata": {},
   "outputs": [
    {
     "name": "stdout",
     "output_type": "stream",
     "text": [
      "The suitable bearing size is 40mm\n"
     ]
    }
   ],
   "source": [
    "print('The suitable bearing size is 40mm')"
   ]
  }
 ],
 "metadata": {
  "kernelspec": {
   "display_name": "base",
   "language": "python",
   "name": "python3"
  },
  "language_info": {
   "codemirror_mode": {
    "name": "ipython",
    "version": 3
   },
   "file_extension": ".py",
   "mimetype": "text/x-python",
   "name": "python",
   "nbconvert_exporter": "python",
   "pygments_lexer": "ipython3",
   "version": "3.12.2"
  }
 },
 "nbformat": 4,
 "nbformat_minor": 2
}
