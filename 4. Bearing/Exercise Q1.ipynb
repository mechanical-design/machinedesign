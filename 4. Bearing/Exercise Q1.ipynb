{
 "cells": [
  {
   "cell_type": "markdown",
   "metadata": {},
   "source": [
    "# Q1\n",
    "\n",
    "Two 50 mm bore deep groove ball bearings are used as support at A and B as shown in Figure\n",
    "Q1. The bearing operates at a speed of 1500 rpm, with inner ring rotates and light shock\n",
    "loading. Find:\n",
    "(i) the radial and axial loads on both bearings\n",
    "\n",
    "(ii) the equivalent radial load on both bearings\n",
    "\n",
    "(ii) rating life of the bearings\n",
    "\n",
    "(iii) median life of the bearings\n",
    "\n",
    "(iv) rating life of the bearings taking 97% reliability\n",
    "\n",
    "(vi) rating life of the bearings for 4% failure\n",
    "\n",
    "(v) the new rating life in hours if the load is reduced by 10%"
   ]
  },
  {
   "cell_type": "code",
   "execution_count": 1,
   "metadata": {},
   "outputs": [],
   "source": [
    "# Required\n",
    "import matplotlib.pyplot as plt\n",
    "import numpy as np\n",
    "from math import pow"
   ]
  },
  {
   "cell_type": "code",
   "execution_count": 16,
   "metadata": {},
   "outputs": [
    {
     "name": "stdout",
     "output_type": "stream",
     "text": [
      "D = 50mm\n",
      "Bearing Type: Deep-groove ball bearing\n",
      "Inner ring rotate, V=1.0\n",
      "Light shock for ball bearing, Ks=1.5\n"
     ]
    }
   ],
   "source": [
    "DBore = 50\n",
    "print(f'D = {DBore}mm')\n",
    "print('Bearing Type: Deep-groove ball bearing')\n",
    "a_bearingType = 3\n",
    "# Fr = 9000\n",
    "# Fa = 0\n",
    "n_rpm = 1500\n",
    "print('Inner ring rotate, V=1.0')\n",
    "V_rotationFactor = 1.0\n",
    "print('Light shock for ball bearing, Ks=1.5')\n",
    "Ks = 1.5\n",
    "# print('Rating life, L10 = 30000 hours')\n",
    "# L10 = 30000"
   ]
  },
  {
   "cell_type": "markdown",
   "metadata": {},
   "source": [
    "(i) The radial load, Fr"
   ]
  },
  {
   "cell_type": "code",
   "execution_count": 6,
   "metadata": {},
   "outputs": [
    {
     "data": {
      "image/png": "[encoded data removed]",
      "text/plain": [
       "<Figure size 640x480 with 1 Axes>"
      ]
     },
     "metadata": {},
     "output_type": "display_data"
    }
   ],
   "source": [
    "coorA = [0,0]\n",
    "coorB = [400,0]\n",
    "loadLocation = [100,0]\n",
    "\n",
    "data = np.array([coorA,coorB])\n",
    "x, y = data.T\n",
    "fig, ax = plt.subplots()\n",
    "ax.grid()\n",
    "ax.scatter(x,y, color='k')\n",
    "ax.arrow(loadLocation[0],loadLocation[1]+50, 0,-40,width=3,color='r')\n",
    "ax.hlines(0,0,400)\n",
    "\n",
    "ax.set(xlabel='x', ylabel='y',\n",
    "       title='Horizontal loading')\n",
    "\n",
    "ax.text(loadLocation[0],loadLocation[1]+50,f'8kN+4kN')\n",
    "ax.text(coorA[0],coorA[1],f'  A    100mm')\n",
    "ax.text(coorB[0]-150,coorB[1],f'300mm                      B')\n",
    "\n",
    "plt.axis('equal')\n",
    "plt.show()"
   ]
  },
  {
   "cell_type": "markdown",
   "metadata": {},
   "source": [
    "$$+\\uparrow \\sum F_x=0$$\n",
    "$$A_x+B_x-12000=0$$\n",
    "\n",
    "$$+\\circlearrowleft \\sum M_c=0$$\n",
    "$$-A_x(400)+12000(300)=0$$\n",
    "$$A_x=12000(300)/400$$"
   ]
  },
  {
   "cell_type": "code",
   "execution_count": 7,
   "metadata": {},
   "outputs": [
    {
     "name": "stdout",
     "output_type": "stream",
     "text": [
      "Ax=9000.0N\n"
     ]
    }
   ],
   "source": [
    "A_x = 12000*(300)/400\n",
    "print(f'Ax={A_x}N')"
   ]
  },
  {
   "cell_type": "markdown",
   "metadata": {},
   "source": [
    "$$9000+B_x-12000=0$$"
   ]
  },
  {
   "cell_type": "code",
   "execution_count": 8,
   "metadata": {},
   "outputs": [
    {
     "name": "stdout",
     "output_type": "stream",
     "text": [
      "Cx=3000N\n"
     ]
    }
   ],
   "source": [
    "B_x=12000-9000\n",
    "print(f'Cx={B_x}N')\n"
   ]
  },
  {
   "cell_type": "code",
   "execution_count": 14,
   "metadata": {},
   "outputs": [
    {
     "name": "stdout",
     "output_type": "stream",
     "text": [
      "Radial load at Bearing A and B\n",
      "A=9000.0N\n",
      "C=3000N\n",
      "Axial load at A and B is 0 because there is no axial force, Fa=0\n"
     ]
    }
   ],
   "source": [
    "print('Radial load at Bearing A and B')\n",
    "A_load = A_x\n",
    "B_load = B_x\n",
    "print(f'A={A_load}N')\n",
    "print(f'C={B_load}N')\n",
    "\n",
    "# print(f'Considered Radial load is at C, Fr={A_total:.2f}')\n",
    "# Fr=A_total\n",
    "\n",
    "print(f'Axial load at A and B is 0 because there is no axial force, Fa=0')\n",
    "Fa=0"
   ]
  },
  {
   "cell_type": "markdown",
   "metadata": {},
   "source": [
    "(ii) The equivalent radial load, P"
   ]
  },
  {
   "cell_type": "markdown",
   "metadata": {},
   "source": [
    "$$P=K_s(XVF_r+YF_a)$$\n",
    "\n",
    "No Axial Force, thus the equation becomes.\n",
    "$$\n",
    "P=K_sXVF_r\n",
    "$$\n",
    "$$P=(1.5)(1)(1.2)(777)$$"
   ]
  },
  {
   "cell_type": "code",
   "execution_count": 19,
   "metadata": {},
   "outputs": [
    {
     "name": "stdout",
     "output_type": "stream",
     "text": [
      "Equivalent Radial Load at A, P=13500.0N\n",
      "Equivalent Radial Load at B, P=4500.0N\n"
     ]
    }
   ],
   "source": [
    "Pa=Ks*(1*V_rotationFactor*A_load)\n",
    "print(f'Equivalent Radial Load at A, P={Pa}N')\n",
    "\n",
    "Pb=Ks*(1*V_rotationFactor*B_load)\n",
    "print(f'Equivalent Radial Load at B, P={Pb}N')"
   ]
  },
  {
   "cell_type": "markdown",
   "metadata": {},
   "source": [
    "(iii) the size of bearing in mm"
   ]
  },
  {
   "cell_type": "markdown",
   "metadata": {},
   "source": [
    "Substitute into rating life equation to find C\n",
    "\n",
    "C is used to find bearing size\n",
    "\n",
    "$$30000 = \\frac{10^6}{60*1725} \\left( \\frac{C}{1166.07} \\right)^3$$"
   ]
  },
  {
   "cell_type": "code",
   "execution_count": 83,
   "metadata": {},
   "outputs": [
    {
     "name": "stdout",
     "output_type": "stream",
     "text": [
      "C=17011.65N\n",
      "Find minimum C value above the value of C\n"
     ]
    }
   ],
   "source": [
    "C_toFind = pow(L10*60*n_rpm/(1E+6),1/3)*P\n",
    "print(f'C={C_toFind:.2f}N')\n",
    "print('Find minimum C value above the value of C')"
   ]
  },
  {
   "cell_type": "markdown",
   "metadata": {},
   "source": [
    "Table 3.1\n",
    "\n",
    "| D | C (kN) | \n",
    "|:--------:|:--------:|\n",
    "|  25   |  14   |\n",
    "|  **30**   |  19.5   |"
   ]
  },
  {
   "cell_type": "code",
   "execution_count": 84,
   "metadata": {},
   "outputs": [
    {
     "name": "stdout",
     "output_type": "stream",
     "text": [
      "The suitable bearing size is 30mm\n"
     ]
    }
   ],
   "source": [
    "print('The suitable bearing size is 30mm')"
   ]
  }
 ],
 "metadata": {
  "kernelspec": {
   "display_name": "g01",
   "language": "python",
   "name": "python3"
  },
  "language_info": {
   "codemirror_mode": {
    "name": "ipython",
    "version": 3
   },
   "file_extension": ".py",
   "mimetype": "text/x-python",
   "name": "python",
   "nbconvert_exporter": "python",
   "pygments_lexer": "ipython3",
   "version": "3.10.13"
  }
 },
 "nbformat": 4,
 "nbformat_minor": 2
}
