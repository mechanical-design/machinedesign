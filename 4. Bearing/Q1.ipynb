{
 "cells": [
  {
   "cell_type": "markdown",
   "metadata": {},
   "source": [
    "# Q1\n",
    "\n",
    "A 25mm (02 series) deep groove ball bearing carries a combined load of 2kN radially and 3kN axially at 1500rpm. The outer ring rotates, and the load is steady. Determine the rating life in hours."
   ]
  },
  {
   "cell_type": "code",
   "execution_count": 49,
   "metadata": {},
   "outputs": [],
   "source": [
    "# Required\n",
    "from math import pow"
   ]
  },
  {
   "cell_type": "code",
   "execution_count": 50,
   "metadata": {},
   "outputs": [
    {
     "name": "stdout",
     "output_type": "stream",
     "text": [
      "D = 25mm\n",
      "Bearing Type: Deep-groove ball bearing\n"
     ]
    }
   ],
   "source": [
    "DBore = 25\n",
    "print(f'D = {DBore}mm')\n",
    "print('Bearing Type: Deep-groove ball bearing')\n",
    "a_bearingType = 3\n",
    "Fr = 2000\n",
    "Fa = 3000\n",
    "n_rpm = 1500\n",
    "V_rotationFactor = 1.2\n",
    "Ks = 1"
   ]
  },
  {
   "cell_type": "markdown",
   "metadata": {},
   "source": [
    "**Rating Life, $L_{10}$**\n",
    "\n",
    "$$\n",
    "L_{10} = \\frac{10^6}{60*n_{rpm}} \\left( \\frac{C}{P} \\right)^a\n",
    "\n",
    "$$"
   ]
  },
  {
   "cell_type": "code",
   "execution_count": 51,
   "metadata": {},
   "outputs": [
    {
     "name": "stdout",
     "output_type": "stream",
     "text": [
      "Find C from Table 3.1\n"
     ]
    }
   ],
   "source": [
    "print('Find C from Table 3.1')"
   ]
  },
  {
   "cell_type": "markdown",
   "metadata": {},
   "source": [
    "Table 3.1\n",
    "\n",
    "| D | C (kN) | Cs(kN) |\n",
    "|:--------:|:--------:|:--------:|\n",
    "|  25   |  14.0   |  6.95   |"
   ]
  },
  {
   "cell_type": "code",
   "execution_count": 52,
   "metadata": {},
   "outputs": [
    {
     "name": "stdout",
     "output_type": "stream",
     "text": [
      "C=14000N\n"
     ]
    }
   ],
   "source": [
    "C = 14000\n",
    "print(f'C={C}N')"
   ]
  },
  {
   "cell_type": "markdown",
   "metadata": {},
   "source": [
    "Find X and Y using Table 3.3\n",
    "\n",
    "Table 3.3\n",
    "\n",
    "| Fa/Cs | e | \n",
    "|:--------:|:--------:|\n",
    "|  0.42   |  0.42   |\n",
    "|  **0.432**   |  e  |\n",
    "|  0.56   |  0.44   |"
   ]
  },
  {
   "cell_type": "code",
   "execution_count": 53,
   "metadata": {},
   "outputs": [
    {
     "name": "stdout",
     "output_type": "stream",
     "text": [
      "From Table 3.1, when d=25mm, Cs=6950.0N\n",
      "Find Fa/Cs\n",
      "Fa/Cs = 0.4316546762589928\n"
     ]
    }
   ],
   "source": [
    "Cs = 6.95E+3\n",
    "print(f'From Table 3.1, when d=25mm, Cs={Cs}N')\n",
    "print('Find Fa/Cs')\n",
    "print(f'Fa/Cs = {Fa/Cs}')"
   ]
  },
  {
   "cell_type": "code",
   "execution_count": 54,
   "metadata": {},
   "outputs": [
    {
     "name": "stdout",
     "output_type": "stream",
     "text": [
      "Interpolate to find e\n",
      "e = 0.4217142857142857\n"
     ]
    }
   ],
   "source": [
    "print('Interpolate to find e')\n",
    "\n",
    "e_fromTable = 0.42 + ((0.432-0.42)*(0.44-0.42)/(0.56-0.42))\n",
    "\n",
    "print(f'e = {e_fromTable}')"
   ]
  },
  {
   "cell_type": "code",
   "execution_count": 55,
   "metadata": {},
   "outputs": [
    {
     "name": "stdout",
     "output_type": "stream",
     "text": [
      "Find Fa/VFr\n",
      "Fa/VFr=1.25\n"
     ]
    }
   ],
   "source": [
    "print('Find Fa/VFr')\n",
    "print(f'Fa/VFr={Fa/(V_rotationFactor*Fr)}')"
   ]
  },
  {
   "cell_type": "code",
   "execution_count": 56,
   "metadata": {},
   "outputs": [
    {
     "name": "stdout",
     "output_type": "stream",
     "text": [
      "We know Fa/VFr > e (1.25>0.4217)\n",
      "Therefore X=0.56 (From Table 3.3)\n",
      "Interpolate to find Y\n"
     ]
    }
   ],
   "source": [
    "print('We know Fa/VFr > e (1.25>0.4217)')\n",
    "print('Therefore X=0.56 (From Table 3.3)')\n",
    "X_fromTable=0.56\n",
    "print('Interpolate to find Y')"
   ]
  },
  {
   "cell_type": "markdown",
   "metadata": {},
   "source": [
    "Table 3.3\n",
    "\n",
    "| Fa/Cs | Y | \n",
    "|:--------:|:--------:|\n",
    "|  0.42   |  1.04   |\n",
    "|  **0.432**   |  Y  |\n",
    "|  0.56   |  1.00   |"
   ]
  },
  {
   "cell_type": "code",
   "execution_count": 57,
   "metadata": {},
   "outputs": [
    {
     "name": "stdout",
     "output_type": "stream",
     "text": [
      "Y = 1.0365714285714287\n"
     ]
    }
   ],
   "source": [
    "Y_fromTable = 1.04 + ((0.432-0.42)*(1.00-1.04)/(0.56-0.42))\n",
    "\n",
    "print(f'Y = {Y_fromTable}')"
   ]
  },
  {
   "cell_type": "code",
   "execution_count": 58,
   "metadata": {},
   "outputs": [
    {
     "name": "stdout",
     "output_type": "stream",
     "text": [
      "Substitute into P\n"
     ]
    }
   ],
   "source": [
    "print('Substitute into P')"
   ]
  },
  {
   "cell_type": "markdown",
   "metadata": {},
   "source": [
    "$$\n",
    "P=Ks(XVFr+YFa)\n",
    "$$"
   ]
  },
  {
   "cell_type": "code",
   "execution_count": 59,
   "metadata": {},
   "outputs": [
    {
     "name": "stdout",
     "output_type": "stream",
     "text": [
      "P=4453.714285714286\n"
     ]
    }
   ],
   "source": [
    "P=Ks*((X_fromTable*V_rotationFactor*Fr)+(Y_fromTable*Fa))\n",
    "print(f'P={P}')"
   ]
  },
  {
   "cell_type": "code",
   "execution_count": 60,
   "metadata": {},
   "outputs": [
    {
     "name": "stdout",
     "output_type": "stream",
     "text": [
      "Rating Life, L10 = 345 hours\n"
     ]
    }
   ],
   "source": [
    "rating_life_L10 = (1E+6/(60*n_rpm))*pow((C/P),3)\n",
    "print(f'Rating Life, L10 = {rating_life_L10:.0f} hours')"
   ]
  }
 ],
 "metadata": {
  "kernelspec": {
   "display_name": "tf",
   "language": "python",
   "name": "python3"
  },
  "language_info": {
   "codemirror_mode": {
    "name": "ipython",
    "version": 3
   },
   "file_extension": ".py",
   "mimetype": "text/x-python",
   "name": "python",
   "nbconvert_exporter": "python",
   "pygments_lexer": "ipython3",
   "version": "3.9.7"
  }
 },
 "nbformat": 4,
 "nbformat_minor": 2
}
