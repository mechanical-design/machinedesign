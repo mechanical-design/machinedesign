{
 "cells": [
  {
   "cell_type": "markdown",
   "metadata": {},
   "source": [
    "# Q2\n",
    "\n",
    "A 50 mm bore (02 series) deep groove ball bearing carries a combined load of 9kN radially and 6 kN axially at 1200 rpm. Calculate:\n",
    "\n",
    "a) The equivalent radial load\n",
    "\n",
    "b) The median life in hours\n",
    "\n",
    "c) The loading of a ball bearing if the expected life is increased by 25%\n",
    "\n",
    "Assumptions: The outer ring rotates and loads in moderate shock"
   ]
  },
  {
   "cell_type": "code",
   "execution_count": 54,
   "metadata": {},
   "outputs": [],
   "source": [
    "# Required\n",
    "from math import pow"
   ]
  },
  {
   "cell_type": "code",
   "execution_count": 55,
   "metadata": {},
   "outputs": [
    {
     "name": "stdout",
     "output_type": "stream",
     "text": [
      "D = 50mm\n",
      "Bearing Type: Deep-groove ball bearing\n",
      "Outer ring rotate, V=1.2\n",
      "Moderate shock for ball bearing, Ks=2\n"
     ]
    }
   ],
   "source": [
    "DBore = 50\n",
    "print(f'D = {DBore}mm')\n",
    "print('Bearing Type: Deep-groove ball bearing')\n",
    "a_bearingType = 3\n",
    "Fr = 9000\n",
    "Fa = 6000\n",
    "n_rpm = 1200\n",
    "print('Outer ring rotate, V=1.2')\n",
    "V_rotationFactor = 1.2\n",
    "print('Moderate shock for ball bearing, Ks=2')\n",
    "Ks = 2"
   ]
  },
  {
   "cell_type": "markdown",
   "metadata": {},
   "source": [
    "**Rating Life, $L_{10}$**\n",
    "\n",
    "$$\n",
    "L_{10} = \\frac{10^6}{60*n_{rpm}} \\left( \\frac{C}{P} \\right)^a$$"
   ]
  },
  {
   "cell_type": "code",
   "execution_count": 56,
   "metadata": {},
   "outputs": [
    {
     "name": "stdout",
     "output_type": "stream",
     "text": [
      "Find C from Table 3.1\n"
     ]
    }
   ],
   "source": [
    "print('Find C from Table 3.1')"
   ]
  },
  {
   "cell_type": "markdown",
   "metadata": {},
   "source": [
    "Table 3.1\n",
    "\n",
    "| D | C (kN) | Cs(kN) |\n",
    "|:--------:|:--------:|:--------:|\n",
    "|  50   |  35.1   |  19.6   |"
   ]
  },
  {
   "cell_type": "code",
   "execution_count": 57,
   "metadata": {},
   "outputs": [
    {
     "name": "stdout",
     "output_type": "stream",
     "text": [
      "C=35100N\n"
     ]
    }
   ],
   "source": [
    "C = 35100\n",
    "print(f'C={C}N')"
   ]
  },
  {
   "cell_type": "code",
   "execution_count": 58,
   "metadata": {},
   "outputs": [
    {
     "name": "stdout",
     "output_type": "stream",
     "text": [
      "From Table 3.1, when d=50mm, Cs=19600N\n",
      "Find Fa/Cs\n",
      "Fa/Cs = 0.30612244897959184\n"
     ]
    }
   ],
   "source": [
    "Cs = 19600\n",
    "print(f'From Table 3.1, when d=50mm, Cs={Cs}N')\n",
    "print('Find Fa/Cs')\n",
    "print(f'Fa/Cs = {Fa/Cs}')"
   ]
  },
  {
   "cell_type": "markdown",
   "metadata": {},
   "source": [
    "Find X and Y using Table 3.3\n",
    "\n",
    "Table 3.3\n",
    "\n",
    "| Fa/Cs | e | \n",
    "|:--------:|:--------:|\n",
    "|  0.28   |  0.38   |\n",
    "|  **0.306**   |  e  |\n",
    "|  0.42   |  0.42   |"
   ]
  },
  {
   "cell_type": "code",
   "execution_count": 59,
   "metadata": {},
   "outputs": [
    {
     "name": "stdout",
     "output_type": "stream",
     "text": [
      "Interpolate to find e\n",
      "e = 0.3874285714285714\n"
     ]
    }
   ],
   "source": [
    "print('Interpolate to find e')\n",
    "\n",
    "e_fromTable = 0.38 + ((0.306-0.28)*(0.42-0.38)/(0.42-0.28))\n",
    "\n",
    "print(f'e = {e_fromTable}')"
   ]
  },
  {
   "cell_type": "code",
   "execution_count": 60,
   "metadata": {},
   "outputs": [
    {
     "name": "stdout",
     "output_type": "stream",
     "text": [
      "Find Fa/VFr\n",
      "Fa/VFr=0.5555555555555556\n"
     ]
    }
   ],
   "source": [
    "print('Find Fa/VFr')\n",
    "print(f'Fa/VFr={Fa/(V_rotationFactor*Fr)}')"
   ]
  },
  {
   "cell_type": "code",
   "execution_count": 61,
   "metadata": {},
   "outputs": [
    {
     "name": "stdout",
     "output_type": "stream",
     "text": [
      "We know Fa/VFr > e (0.556>0.3874)\n",
      "Therefore X=0.56 (From Table 3.3)\n",
      "Interpolate to find Y\n"
     ]
    }
   ],
   "source": [
    "print('We know Fa/VFr > e (0.556>0.3874)')\n",
    "print('Therefore X=0.56 (From Table 3.3)')\n",
    "X_fromTable=0.56\n",
    "print('Interpolate to find Y')"
   ]
  },
  {
   "cell_type": "markdown",
   "metadata": {},
   "source": [
    "Table 3.3\n",
    "\n",
    "| Fa/Cs | Y | \n",
    "|:--------:|:--------:|\n",
    "|  0.28   |  1.15   |\n",
    "|  **0.306**   |  Y  |\n",
    "|  0.42   |  1.04   |"
   ]
  },
  {
   "cell_type": "code",
   "execution_count": 62,
   "metadata": {},
   "outputs": [
    {
     "name": "stdout",
     "output_type": "stream",
     "text": [
      "Y = 1.1295714285714284\n"
     ]
    }
   ],
   "source": [
    "Y_fromTable = 1.15 + ((0.306-0.28)*(1.04-1.15)/(0.42-0.28))\n",
    "\n",
    "print(f'Y = {Y_fromTable}')"
   ]
  },
  {
   "cell_type": "code",
   "execution_count": 63,
   "metadata": {},
   "outputs": [
    {
     "name": "stdout",
     "output_type": "stream",
     "text": [
      "Substitute into P\n"
     ]
    }
   ],
   "source": [
    "print('Substitute into P')"
   ]
  },
  {
   "cell_type": "markdown",
   "metadata": {},
   "source": [
    "$$\n",
    "P=K_s(XVF_r+YF_a)\n",
    "$$"
   ]
  },
  {
   "cell_type": "code",
   "execution_count": 64,
   "metadata": {},
   "outputs": [
    {
     "name": "stdout",
     "output_type": "stream",
     "text": [
      "a) Equivalent Radial Load, P=25650.85714285714\n"
     ]
    }
   ],
   "source": [
    "P=Ks*((X_fromTable*V_rotationFactor*Fr)+(Y_fromTable*Fa))\n",
    "print(f'a) Equivalent Radial Load, P={P}')"
   ]
  },
  {
   "cell_type": "code",
   "execution_count": 65,
   "metadata": {},
   "outputs": [
    {
     "name": "stdout",
     "output_type": "stream",
     "text": [
      "Rating Life, L10 = 36 hours\n"
     ]
    }
   ],
   "source": [
    "rating_life_L10 = (1E+6/(60*n_rpm))*pow((C/P),3)\n",
    "print(f'Rating Life, L10 = {rating_life_L10:.0f} hours')"
   ]
  },
  {
   "cell_type": "markdown",
   "metadata": {},
   "source": [
    "$$\n",
    "Median Life, 5L_{10}\n",
    "$$"
   ]
  },
  {
   "cell_type": "code",
   "execution_count": 66,
   "metadata": {},
   "outputs": [
    {
     "name": "stdout",
     "output_type": "stream",
     "text": [
      "b) Median Life = 178 hours\n"
     ]
    }
   ],
   "source": [
    "print(f'b) Median Life = {5*rating_life_L10:.0f} hours')"
   ]
  },
  {
   "cell_type": "markdown",
   "metadata": {},
   "source": [
    "$$\n",
    "\\frac{L'_{10}}{L''_{10}} = \\left( \\frac{P_2}{P_1} \\right)^a\n",
    "$$"
   ]
  },
  {
   "cell_type": "markdown",
   "metadata": {},
   "source": [
    "$$\n",
    "\\frac{100}{125} = \\left( \\frac{P_2}{25650} \\right)^3\n",
    "$$"
   ]
  },
  {
   "cell_type": "code",
   "execution_count": null,
   "metadata": {},
   "outputs": [
    {
     "name": "stdout",
     "output_type": "stream",
     "text": [
      "New loading if 25% increased, P2=23812N\n"
     ]
    }
   ],
   "source": [
    "P2 = pow((100/125),1/3)*P\n",
    "print(f'c)New loading if 25% increased, P2={P2:.0f}N')"
   ]
  }
 ],
 "metadata": {
  "kernelspec": {
   "display_name": "tf",
   "language": "python",
   "name": "python3"
  },
  "language_info": {
   "codemirror_mode": {
    "name": "ipython",
    "version": 3
   },
   "file_extension": ".py",
   "mimetype": "text/x-python",
   "name": "python",
   "nbconvert_exporter": "python",
   "pygments_lexer": "ipython3",
   "version": "3.9.7"
  }
 },
 "nbformat": 4,
 "nbformat_minor": 2
}
