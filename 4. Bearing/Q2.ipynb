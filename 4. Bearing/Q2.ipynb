{
 "cells": [
  {
   "cell_type": "markdown",
   "metadata": {},
   "source": [
    "# Q3\n",
    "\n",
    "Determine the expected rating lives in hours of a 40mm bore (03 series) straight cylindrical bearings operated at 2400rpm. Radial load is 5kN, with heavy shock and the outer rings rotate. \n",
    "\n",
    "Next, during assembly, the width of the bearing have limitations to be below than 20mm. Identify the new bearing type and estimate decrease of the rating life."
   ]
  },
  {
   "cell_type": "code",
   "execution_count": 1,
   "metadata": {},
   "outputs": [
    {
     "name": "stdout",
     "output_type": "stream",
     "text": [
      "D = 40mm\n",
      "Bearing Type: Straight Cylindrical bearing\n",
      "Outer ring rotate, V=1.2\n",
      "Heavy shock for Roller bearing, Ks=1.7\n"
     ]
    }
   ],
   "source": [
    "DBore = 40\n",
    "print(f'D = {DBore}mm')\n",
    "print('Bearing Type: Straight Cylindrical bearing')\n",
    "a_bearingType = 10/3\n",
    "Fr = 5000\n",
    "# Fa = 0\n",
    "n_rpm = 2400\n",
    "print('Outer ring rotate, V=1.2')\n",
    "V_rotationFactor = 1.2\n",
    "print('Heavy shock for Roller bearing, Ks=1.7')\n",
    "Ks = 1.7"
   ]
  },
  {
   "cell_type": "code",
   "execution_count": 2,
   "metadata": {},
   "outputs": [
    {
     "name": "stdout",
     "output_type": "stream",
     "text": [
      "Equivalent radial load, P=10200.0N\n"
     ]
    }
   ],
   "source": [
    "P = 1.7*1.2*5000\n",
    "print(f'Equivalent radial load, P={P}N')"
   ]
  },
  {
   "cell_type": "code",
   "execution_count": 3,
   "metadata": {},
   "outputs": [
    {
     "name": "stdout",
     "output_type": "stream",
     "text": [
      "Rating Life, L10 = 2039 hours\n"
     ]
    }
   ],
   "source": [
    "C=56100\n",
    "rating_life_L10 = (1E+6/(60*n_rpm))*pow((C/P),10/3)\n",
    "print(f'Rating Life, L10 = {rating_life_L10:.0f} hours')"
   ]
  },
  {
   "cell_type": "code",
   "execution_count": 4,
   "metadata": {},
   "outputs": [
    {
     "name": "stdout",
     "output_type": "stream",
     "text": [
      "New Rating Life, L10\" = 765 hours\n"
     ]
    }
   ],
   "source": [
    "C_new=41800\n",
    "new_rating_life_L10 = (1E+6/(60*n_rpm))*pow((C_new/P),10/3)\n",
    "print(f'New Rating Life, L10\" = {new_rating_life_L10:.0f} hours')"
   ]
  },
  {
   "cell_type": "code",
   "execution_count": 5,
   "metadata": {},
   "outputs": [
    {
     "name": "stdout",
     "output_type": "stream",
     "text": [
      "Decrease rating life, L10\"-L10 = 1275 hours\n"
     ]
    }
   ],
   "source": [
    "decreaseL10 = rating_life_L10-new_rating_life_L10\n",
    "print(f'Decrease rating life, L10\"-L10 = {decreaseL10:.0f} hours')"
   ]
  }
 ],
 "metadata": {
  "kernelspec": {
   "display_name": "p12",
   "language": "python",
   "name": "python3"
  },
  "language_info": {
   "codemirror_mode": {
    "name": "ipython",
    "version": 3
   },
   "file_extension": ".py",
   "mimetype": "text/x-python",
   "name": "python",
   "nbconvert_exporter": "python",
   "pygments_lexer": "ipython3",
   "version": "3.12.9"
  }
 },
 "nbformat": 4,
 "nbformat_minor": 2
}
