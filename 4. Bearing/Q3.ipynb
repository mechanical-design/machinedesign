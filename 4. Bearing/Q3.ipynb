{
 "cells": [
  {
   "cell_type": "markdown",
   "metadata": {},
   "source": [
    "# Q3\n",
    "\n",
    "Determine the expected rating lives in hours of a 40mm bore (03 series) straight cylindrical bearings operated at 2400rpm. Radial load is 5kN, with heavy shock and the outer rings rotate. \n",
    "\n",
    "Next, during assembly, the width of the bearing have limitations to be below than 20mm. Identify the new bearing type and estimate decrease of the rating life."
   ]
  }
 ],
 "metadata": {
  "kernelspec": {
   "display_name": "g01",
   "language": "python",
   "name": "python3"
  },
  "language_info": {
   "name": "python",
   "version": "3.10.13"
  }
 },
 "nbformat": 4,
 "nbformat_minor": 2
}
