{
 "cells": [
  {
   "cell_type": "markdown",
   "metadata": {},
   "source": [
    "# CO1 Q2\n",
    "\n",
    "Determine the suitable size of 03-series straight cylindrical bearings for an industrial machine intended for a rating life of 48 hours operation at 2000 rpm. The radial load is 12.5 kN with extreme shock condition and the inner rings rotate."
   ]
  },
  {
   "cell_type": "code",
   "execution_count": 2,
   "metadata": {},
   "outputs": [],
   "source": [
    "# Required\n",
    "from math import pow"
   ]
  },
  {
   "cell_type": "code",
   "execution_count": 3,
   "metadata": {},
   "outputs": [
    {
     "name": "stdout",
     "output_type": "stream",
     "text": [
      "Bearing Type: 03-series straight cylindrical bearing\n",
      "Inner ring rotate, V=1.0\n",
      "Moderate shock for ball bearing, Ks=3\n",
      "Rating Life, L10 = 48 hours\n"
     ]
    }
   ],
   "source": [
    "# Need to find bearing size\n",
    "print('Bearing Type: 03-series straight cylindrical bearing')\n",
    "a_bearingType = 10/3\n",
    "Fr = 12500\n",
    "# Fa = 0\n",
    "n_rpm = 2000\n",
    "print('Inner ring rotate, V=1.0')\n",
    "V_rotationFactor = 1.0\n",
    "print('Moderate shock for ball bearing, Ks=3')\n",
    "Ks = 3\n",
    "print('Rating Life, L10 = 48 hours')\n",
    "L10=48"
   ]
  },
  {
   "cell_type": "markdown",
   "metadata": {},
   "source": [
    "Based on rating life equation\n",
    "$$L_{10} = \\frac{106}{60*n_{rpm}} \\left( \\frac{C}{P} \\right)^a$$"
   ]
  },
  {
   "cell_type": "markdown",
   "metadata": {},
   "source": [
    "\n",
    "$$48 = \\frac{106}{60*2000} \\left( \\frac{C}{P} \\right)^a$$"
   ]
  },
  {
   "cell_type": "code",
   "execution_count": 4,
   "metadata": {},
   "outputs": [
    {
     "name": "stdout",
     "output_type": "stream",
     "text": [
      "Find equivalent radial load when we know Fr\n"
     ]
    }
   ],
   "source": [
    "print('Find equivalent radial load when we know Fr')"
   ]
  },
  {
   "cell_type": "markdown",
   "metadata": {},
   "source": [
    "No Axial Force, thus the equation becomes.\n",
    "$$\n",
    "P=K_sXVF_r\n",
    "$$\n",
    "$$P=(3)(1)(1.0)(12500)$$"
   ]
  },
  {
   "cell_type": "code",
   "execution_count": null,
   "metadata": {},
   "outputs": [
    {
     "name": "stdout",
     "output_type": "stream",
     "text": [
      "P=37500.0\n"
     ]
    }
   ],
   "source": [
    "PEquivalent = Ks*V_rotationFactor*Fr\n",
    "print(f'P={PEquivalent}N')"
   ]
  },
  {
   "cell_type": "markdown",
   "metadata": {},
   "source": [
    "$$48 = \\frac{106}{60*2000} \\left( \\frac{C}{37500} \\right)^a$$"
   ]
  },
  {
   "cell_type": "code",
   "execution_count": 6,
   "metadata": {},
   "outputs": [
    {
     "name": "stdout",
     "output_type": "stream",
     "text": [
      "C=67221.07N\n"
     ]
    }
   ],
   "source": [
    "C_toFind = pow(L10*60*n_rpm/(1E+6),1/3)*PEquivalent\n",
    "print(f'C={C_toFind:.2f}N')"
   ]
  },
  {
   "cell_type": "markdown",
   "metadata": {},
   "source": [
    "Table 3.2\n",
    "\n",
    "| D | C (kN) | \n",
    "|:--------:|:--------:|\n",
    "|  40   |  56.1   |\n",
    "|  **45**   |  72.1   |"
   ]
  },
  {
   "cell_type": "code",
   "execution_count": 7,
   "metadata": {},
   "outputs": [
    {
     "name": "stdout",
     "output_type": "stream",
     "text": [
      "The suitable bearing size is 45mm\n"
     ]
    }
   ],
   "source": [
    "print('The suitable bearing size is 45mm')"
   ]
  }
 ],
 "metadata": {
  "kernelspec": {
   "display_name": "g01",
   "language": "python",
   "name": "python3"
  },
  "language_info": {
   "codemirror_mode": {
    "name": "ipython",
    "version": 3
   },
   "file_extension": ".py",
   "mimetype": "text/x-python",
   "name": "python",
   "nbconvert_exporter": "python",
   "pygments_lexer": "ipython3",
   "version": "3.10.13"
  }
 },
 "nbformat": 4,
 "nbformat_minor": 2
}
