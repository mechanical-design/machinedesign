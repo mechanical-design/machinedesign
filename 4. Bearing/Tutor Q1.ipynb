{
 "cells": [
  {
   "cell_type": "markdown",
   "metadata": {},
   "source": [
    "# Tutor Q1\n",
    "\n",
    "Figure 1 shows the force acting on steel shaft carrying two pulleys. The pulleys are keyed at B and D. The shaft is mounted on two bearings A and C. The shaft has 12 mm diameter and operates at 1725 rpm. Bearing at both end of the shaft are taken to be identical 02 series deep groove and subjected to radial load, Fr with light shock loading and the inner ring rotates. Design life specification is 30000 hours. Thrust load is negligible. Determine:\n",
    "\n",
    "(i) The radial load, Fr\n",
    "\n",
    "(ii) The equivalent radial load, P\n",
    "\n",
    "(iii) the size of bearing in mm"
   ]
  },
  {
   "cell_type": "code",
   "execution_count": 1,
   "metadata": {},
   "outputs": [],
   "source": [
    "# Required\n",
    "import matplotlib.pyplot as plt\n",
    "import numpy as np\n",
    "from math import pow"
   ]
  },
  {
   "cell_type": "code",
   "execution_count": 2,
   "metadata": {},
   "outputs": [
    {
     "name": "stdout",
     "output_type": "stream",
     "text": [
      "Bearing Type: Deep-groove ball bearing\n",
      "Inner ring rotate, V=1.0\n",
      "Light shock for ball bearing, Ks=1.5\n",
      "Rating life, L10 = 30000 hours\n"
     ]
    }
   ],
   "source": [
    "# DBore = 12\n",
    "# print(f'D = {DBore}mm')\n",
    "print('Bearing Type: Deep-groove ball bearing')\n",
    "a_bearingType = 3\n",
    "# Fr = 9000\n",
    "# Fa = 0\n",
    "n_rpm = 1725\n",
    "print('Inner ring rotate, V=1.0')\n",
    "V_rotationFactor = 1.0\n",
    "print('Light shock for ball bearing, Ks=1.5')\n",
    "Ks = 1.5\n",
    "print('Rating life, L10 = 30000 hours')\n",
    "L10 = 30000"
   ]
  },
  {
   "cell_type": "markdown",
   "metadata": {},
   "source": [
    "(i) The radial load, Fr"
   ]
  },
  {
   "cell_type": "code",
   "execution_count": 3,
   "metadata": {},
   "outputs": [
    {
     "data": {
      "image/png": "[encoded data removed]",
      "text/plain": [
       "<Figure size 432x288 with 1 Axes>"
      ]
     },
     "metadata": {
      "needs_background": "light"
     },
     "output_type": "display_data"
    }
   ],
   "source": [
    "coorA = [0,0]\n",
    "coorB = [25,0]\n",
    "coorC = [50,0]\n",
    "coorD = [65,-0]\n",
    "loadLocation = [25,0]\n",
    "\n",
    "data = np.array([coorA,coorB,coorC,coorD])\n",
    "x, y = data.T\n",
    "fig, ax = plt.subplots()\n",
    "ax.grid()\n",
    "ax.scatter(x,y, color='k')\n",
    "ax.arrow(loadLocation[0],loadLocation[1]+8, 0,-5,width=0.5,color='r')\n",
    "ax.hlines(0,0,65)\n",
    "\n",
    "ax.set(xlabel='x', ylabel='y',\n",
    "       title='Horizontal loading')\n",
    "\n",
    "ax.text(loadLocation[0],loadLocation[1]+10,f'950N')\n",
    "ax.text(coorA[0],coorA[1],f'  A   250mm')\n",
    "ax.text(coorB[0],coorB[1],f'  B   250mm')\n",
    "ax.text(coorC[0],coorC[1],f'  C   150mm')\n",
    "ax.text(coorD[0],coorD[1],f'  D')\n",
    "\n",
    "plt.axis('equal')\n",
    "plt.show()"
   ]
  },
  {
   "cell_type": "markdown",
   "metadata": {},
   "source": [
    "$$+\\uparrow \\sum F_x=0$$\n",
    "$$A_x+C_x-950=0$$\n",
    "\n",
    "$$+\\circlearrowleft \\sum M_c=0$$\n",
    "$$-A_x(500)+950(250)=0$$\n",
    "$$A_x=950*250/500$$"
   ]
  },
  {
   "cell_type": "code",
   "execution_count": 4,
   "metadata": {},
   "outputs": [
    {
     "name": "stdout",
     "output_type": "stream",
     "text": [
      "Ax=475.0N\n"
     ]
    }
   ],
   "source": [
    "A_x = 950*250/500\n",
    "print(f'Ax={A_x}N')"
   ]
  },
  {
   "cell_type": "markdown",
   "metadata": {},
   "source": [
    "$$475+C_x-950=0$$"
   ]
  },
  {
   "cell_type": "code",
   "execution_count": 5,
   "metadata": {},
   "outputs": [
    {
     "name": "stdout",
     "output_type": "stream",
     "text": [
      "Cx=475N\n"
     ]
    }
   ],
   "source": [
    "C_x=950-475\n",
    "print(f'Cx={C_x}N')\n"
   ]
  },
  {
   "cell_type": "code",
   "execution_count": 6,
   "metadata": {},
   "outputs": [
    {
     "data": {
      "image/png": "[encoded data removed]",
      "text/plain": [
       "<Figure size 432x288 with 1 Axes>"
      ]
     },
     "metadata": {
      "needs_background": "light"
     },
     "output_type": "display_data"
    }
   ],
   "source": [
    "coorA = [0,0]\n",
    "coorB = [25,0]\n",
    "coorC = [50,0]\n",
    "coorD = [65,-0]\n",
    "loadLocation = [65,0]\n",
    "\n",
    "data = np.array([coorA,coorB,coorC,coorD])\n",
    "x, y = data.T\n",
    "fig, ax = plt.subplots()\n",
    "ax.grid()\n",
    "ax.scatter(x,y, color='k')\n",
    "ax.arrow(loadLocation[0],loadLocation[1]-8, 0,5,width=0.5,color='r')\n",
    "ax.hlines(0,0,65)\n",
    "\n",
    "ax.set(xlabel='x', ylabel='y',\n",
    "       title='Vertical loading')\n",
    "\n",
    "ax.text(loadLocation[0],loadLocation[1]-10,f'500N')\n",
    "ax.text(coorA[0],coorA[1],f'  A   250mm')\n",
    "ax.text(coorB[0],coorB[1],f'  B   250mm')\n",
    "ax.text(coorC[0],coorC[1],f'  C   150mm')\n",
    "ax.text(coorD[0],coorD[1],f'  D')\n",
    "\n",
    "plt.axis('equal')\n",
    "plt.show()"
   ]
  },
  {
   "cell_type": "markdown",
   "metadata": {},
   "source": [
    "$$+\\uparrow \\sum F_y=0$$\n",
    "$$A_y+C_y+500=0$$\n",
    "\n",
    "$$+\\circlearrowleft \\sum M_c=0$$\n",
    "$$-A_y(550)+500(150)=0$$\n",
    "$$A_y=500(150)/500$$"
   ]
  },
  {
   "cell_type": "code",
   "execution_count": 20,
   "metadata": {},
   "outputs": [
    {
     "name": "stdout",
     "output_type": "stream",
     "text": [
      "Ay=150.0N\n"
     ]
    }
   ],
   "source": [
    "A_y=500*150/500\n",
    "print(f'Ay={A_y}N')"
   ]
  },
  {
   "cell_type": "markdown",
   "metadata": {},
   "source": [
    "$$A_y+C_y+500=0$$"
   ]
  },
  {
   "cell_type": "code",
   "execution_count": 21,
   "metadata": {},
   "outputs": [
    {
     "name": "stdout",
     "output_type": "stream",
     "text": [
      "Cy=-650.0N\n"
     ]
    }
   ],
   "source": [
    "C_y=-500-A_y\n",
    "print(f'Cy={C_y}N')"
   ]
  },
  {
   "cell_type": "code",
   "execution_count": 26,
   "metadata": {},
   "outputs": [
    {
     "name": "stdout",
     "output_type": "stream",
     "text": [
      "Resultant Force at Bearing A and C\n",
      "A=498.1214711292819N\n",
      "C=805.0621094052309N\n",
      "Considered Radial load is at C, Fr=805.06\n"
     ]
    }
   ],
   "source": [
    "print('Resultant Force at Bearing A and C')\n",
    "A_total = np.hypot(A_x,A_y)\n",
    "C_total = np.hypot(C_x,C_y)\n",
    "print(f'A={A_total}N')\n",
    "print(f'C={C_total}N')\n",
    "\n",
    "print(f'Considered Radial load is at C, Fr={C_total:.2f}')\n",
    "Fr=C_total"
   ]
  },
  {
   "cell_type": "markdown",
   "metadata": {},
   "source": [
    "(ii) The equivalent radial load, P"
   ]
  },
  {
   "cell_type": "markdown",
   "metadata": {},
   "source": [
    "$$\n",
    "P=K_s(XVF_r+YF_a)\n",
    "$$\n",
    "\n",
    "No Axial Force, thus the equation becomes.\n",
    "$$\n",
    "P=K_sXVF_r\n",
    "$$\n",
    "$$P=(1.5)(1)(1.0)(777)$$"
   ]
  },
  {
   "cell_type": "code",
   "execution_count": 30,
   "metadata": {},
   "outputs": [
    {
     "name": "stdout",
     "output_type": "stream",
     "text": [
      "Equivalent Radial Load, P=1207.5931641078464\n"
     ]
    }
   ],
   "source": [
    "P=Ks*(1*V_rotationFactor*Fr)\n",
    "print(f'Equivalent Radial Load, P={P}')"
   ]
  },
  {
   "cell_type": "markdown",
   "metadata": {},
   "source": [
    "(iii) the size of bearing in mm"
   ]
  },
  {
   "cell_type": "markdown",
   "metadata": {},
   "source": [
    "Substitute into rating life equation to find C\n",
    "\n",
    "C is used to find bearing size\n",
    "\n",
    "$$30000 = \\frac{10^6}{60*1725} \\left( \\frac{C}{1166.07} \\right)^3$$"
   ]
  },
  {
   "cell_type": "code",
   "execution_count": 31,
   "metadata": {},
   "outputs": [
    {
     "name": "stdout",
     "output_type": "stream",
     "text": [
      "C=17617.37N\n",
      "Find minimum C value above the value of C\n"
     ]
    }
   ],
   "source": [
    "C_toFind = pow(L10*60*n_rpm/(1E+6),1/3)*P\n",
    "print(f'C={C_toFind:.2f}N')\n",
    "print('Find minimum C value above the value of C')"
   ]
  },
  {
   "cell_type": "markdown",
   "metadata": {},
   "source": [
    "Table 3.1\n",
    "\n",
    "| D | C (kN) | \n",
    "|:--------:|:--------:|\n",
    "|  25   |  14   |\n",
    "|  **30**   |  19.5   |"
   ]
  },
  {
   "cell_type": "code",
   "execution_count": 32,
   "metadata": {},
   "outputs": [
    {
     "name": "stdout",
     "output_type": "stream",
     "text": [
      "The suitable bearing size is 30mm\n"
     ]
    }
   ],
   "source": [
    "print('The suitable bearing size is 30mm')"
   ]
  },
  {
   "cell_type": "code",
   "execution_count": 34,
   "metadata": {},
   "outputs": [
    {
     "name": "stdout",
     "output_type": "stream",
     "text": [
      "10200.0\n"
     ]
    }
   ],
   "source": [
    "q3 = 1.7*1.2*5000\n",
    "print(q3)"
   ]
  },
  {
   "cell_type": "code",
   "execution_count": 35,
   "metadata": {},
   "outputs": [
    {
     "name": "stdout",
     "output_type": "stream",
     "text": [
      "Rating Life, L10 = 2039 hours\n"
     ]
    }
   ],
   "source": [
    "rating_life_L10 = (1E+6/(60*2400))*pow((56100/q3),10/3)\n",
    "print(f'Rating Life, L10 = {rating_life_L10:.0f} hours')"
   ]
  },
  {
   "cell_type": "code",
   "execution_count": 36,
   "metadata": {},
   "outputs": [
    {
     "name": "stdout",
     "output_type": "stream",
     "text": [
      "1561\n"
     ]
    }
   ],
   "source": [
    "decreaseL10 = 2039-478\n",
    "print(decreaseL10)"
   ]
  },
  {
   "cell_type": "code",
   "execution_count": null,
   "metadata": {},
   "outputs": [],
   "source": []
  }
 ],
 "metadata": {
  "kernelspec": {
   "display_name": "tf",
   "language": "python",
   "name": "python3"
  },
  "language_info": {
   "codemirror_mode": {
    "name": "ipython",
    "version": 3
   },
   "file_extension": ".py",
   "mimetype": "text/x-python",
   "name": "python",
   "nbconvert_exporter": "python",
   "pygments_lexer": "ipython3",
   "version": "3.9.7"
  }
 },
 "nbformat": 4,
 "nbformat_minor": 2
}
