{
 "cells": [
  {
   "cell_type": "markdown",
   "metadata": {},
   "source": [
    "# Tutor Q1\n",
    "\n",
    "Figure 1 shows the force acting on steel shaft carrying two pulleys. The pulleys are keyed at B and D. The shaft is mounted on two bearings A and C. The shaft has 12 mm diameter and operates at 1725 rpm. Bearing at both end of the shaft are taken to be identical 02 series deep groove and subjected to radial load, Fr with light shock loading and the inner ring rotates. Design life specification is 30000 hours. Thrust load is negligible. Determine:\n",
    "\n",
    "(i) The radial load, Fr\n",
    "\n",
    "(ii) The equivalent radial load\n",
    "\n",
    "(iii) the size of bearing in mm"
   ]
  },
  {
   "cell_type": "code",
   "execution_count": 36,
   "metadata": {},
   "outputs": [],
   "source": [
    "# Required\n",
    "import matplotlib.pyplot as plt\n",
    "import numpy as np\n",
    "from math import pow"
   ]
  },
  {
   "cell_type": "code",
   "execution_count": 37,
   "metadata": {},
   "outputs": [
    {
     "name": "stdout",
     "output_type": "stream",
     "text": [
      "D = 12mm\n",
      "Bearing Type: Deep-groove ball bearing\n",
      "Inner ring rotate, V=1.0\n",
      "Light shock for ball bearing, Ks=1.5\n",
      "Rating life, L10 = 30000 hours\n"
     ]
    }
   ],
   "source": [
    "DBore = 12\n",
    "print(f'D = {DBore}mm')\n",
    "print('Bearing Type: Deep-groove ball bearing')\n",
    "a_bearingType = 3\n",
    "Fr = 9000\n",
    "Fa = 0\n",
    "n_rpm = 1725\n",
    "print('Inner ring rotate, V=1.0')\n",
    "V_rotationFactor = 1.0\n",
    "print('Light shock for ball bearing, Ks=1.5')\n",
    "Ks = 1.5\n",
    "print('Rating life, L10 = 30000 hours')\n",
    "L10 = 30000"
   ]
  },
  {
   "cell_type": "markdown",
   "metadata": {},
   "source": [
    "**Rating Life, $L_{10}$**\n",
    "\n",
    "$$\n",
    "L_{10} = \\frac{10^6}{60*n_{rpm}} \\left( \\frac{C}{P} \\right)^a\n",
    "\n",
    "$$"
   ]
  },
  {
   "cell_type": "code",
   "execution_count": 38,
   "metadata": {},
   "outputs": [
    {
     "name": "stdout",
     "output_type": "stream",
     "text": [
      "L10 is given, find C to determine the size\n"
     ]
    }
   ],
   "source": [
    "print('L10 is given, find C to determine the size')"
   ]
  },
  {
   "cell_type": "markdown",
   "metadata": {},
   "source": [
    "```math\n",
    "P=K_s(XVF_r+YF_a)\n",
    "```"
   ]
  },
  {
   "cell_type": "markdown",
   "metadata": {},
   "source": [
    "```math\n",
    "P=K_sXVF_r\n",
    "```"
   ]
  },
  {
   "cell_type": "code",
   "execution_count": 47,
   "metadata": {},
   "outputs": [
    {
     "data": {
      "image/png": "[encoded data removed]",
      "text/plain": [
       "<Figure size 432x288 with 1 Axes>"
      ]
     },
     "metadata": {
      "needs_background": "light"
     },
     "output_type": "display_data"
    }
   ],
   "source": [
    "coorA = [0,0]\n",
    "coorB = [25,0]\n",
    "coorC = [50,0]\n",
    "coorD = [65,-0]\n",
    "loadLocation = [25,0]\n",
    "\n",
    "data = np.array([coorA,coorB,coorC,coorD])\n",
    "x, y = data.T\n",
    "fig, ax = plt.subplots()\n",
    "ax.grid()\n",
    "ax.scatter(x,y, color='k')\n",
    "ax.arrow(loadLocation[0],loadLocation[1]+10, 0,-10,width=1,color='r')\n",
    "# ax.hlines(Fproof,0,10000)\n",
    "# ax.hlines(Fi,0,10000)\n",
    "\n",
    "ax.set(xlabel='x', ylabel='y',\n",
    "       title='Horizontal loading')\n",
    "\n",
    "ax.text(coorA[0],coorA[1],f'  A')\n",
    "ax.text(coorB[0],coorB[1],f'  B')\n",
    "ax.text(coorC[0],coorC[1],f'  C')\n",
    "ax.text(coorD[0],coorD[1],f'  D')\n",
    "\n",
    "plt.axis('equal')\n",
    "plt.show()"
   ]
  },
  {
   "cell_type": "code",
   "execution_count": 40,
   "metadata": {},
   "outputs": [
    {
     "name": "stdout",
     "output_type": "stream",
     "text": [
      "a) Equivalent Radial Load, P=13500.0\n"
     ]
    }
   ],
   "source": [
    "P=Ks*(1*V_rotationFactor*Fr)\n",
    "print(f'a) Equivalent Radial Load, P={P}')"
   ]
  },
  {
   "cell_type": "markdown",
   "metadata": {},
   "source": [
    "```math\n",
    "30000 = \\frac{10^6}{60*1725} \\left( \\frac{C}{13500} \\right)^3\n",
    "\n",
    "```"
   ]
  }
 ],
 "metadata": {
  "kernelspec": {
   "display_name": "tf",
   "language": "python",
   "name": "python3"
  },
  "language_info": {
   "codemirror_mode": {
    "name": "ipython",
    "version": 3
   },
   "file_extension": ".py",
   "mimetype": "text/x-python",
   "name": "python",
   "nbconvert_exporter": "python",
   "pygments_lexer": "ipython3",
   "version": "3.9.7"
  }
 },
 "nbformat": 4,
 "nbformat_minor": 2
}
