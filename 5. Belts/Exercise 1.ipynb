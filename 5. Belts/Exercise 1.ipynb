{
 "cells": [
  {
   "cell_type": "markdown",
   "metadata": {},
   "source": [
    "# Q1\n",
    "\n",
    "A motor with 16 kW power is attached to a compressor via a flat belt with a length of 3 m.\n",
    "The belt experienced a maximum stress of 4 MPa in an operation and medium shock with\n",
    "Ks =1.5. If the coefficient of friction between the belt surface and the pulleys are 0.4 and the density of the belt is 950 kg/m3 and the details of the belt drive are tabulated in Table 1. Determine;\n",
    "\n",
    "Table 1\n",
    "\n",
    "|  | Diameter | Speed |\n",
    "|:--------:|:--------:|:--------:|\n",
    "|  Compressor Pulley   |  0.6   |  1200   |\n",
    "|  Motor Pulley   |  dm   |  1800   |\n",
    "\n",
    "i)\tthe diameter of the motor pulley, dm\n",
    "\n",
    "ii)\tthe center distance, c between the pulleys.\n",
    "\n",
    "iii)angle of wrap/ contact angle, φ of both pulleys. Does the angle equal? In what circumstances the angles will be equal?\n",
    "\n",
    "iv)\ttorque on both pulleys. Does the torque on both pulleys equal? Why? In what circumstances the torque will be equal? How about power?\n",
    "\n",
    "v)\tVelocity of the belt, v\n",
    "\n",
    "vi)\tCentrifugal force, Fc\n",
    "\n",
    "vii)\tCross section of belt, A\n",
    "\n",
    "viii)\tTight tension on belt, F1\n",
    "\n",
    "ix)\tSlack tension on belt, F2\n",
    "\n",
    "x)\tThe initial tension on the belt, Fi\n",
    "\n"
   ]
  },
  {
   "cell_type": "code",
   "execution_count": 2,
   "metadata": {},
   "outputs": [],
   "source": [
    "from math import pi, sin, cos, sqrt, pow, radians, degrees, asin, e"
   ]
  },
  {
   "cell_type": "code",
   "execution_count": 3,
   "metadata": {},
   "outputs": [
    {
     "name": "stdout",
     "output_type": "stream",
     "text": [
      "Belt type: Flat Belt\n"
     ]
    }
   ],
   "source": [
    "motorPower = 16000\n",
    "print('Belt type: Flat Belt')\n",
    "beltLength = 3\n",
    "beltStress = 4E+6\n",
    "Ks = 1.5\n",
    "friction = 0.4\n",
    "beltDensity = 950\n",
    "driver_rpm = 1800\n",
    "driven_rpm = 1200"
   ]
  },
  {
   "cell_type": "markdown",
   "metadata": {},
   "source": [
    "i)\tthe diameter of the motor pulley, dm\n",
    "\n",
    "Use speed ratio equation\n",
    "\n",
    "$$n_1r_1=n_2r_2$$\n",
    "or\n",
    "$$n_1d_1=n_2d_2$$\n",
    "$$(1800)d_m=(1200)(0.6)$$\n"
   ]
  },
  {
   "cell_type": "code",
   "execution_count": 4,
   "metadata": {},
   "outputs": [
    {
     "name": "stdout",
     "output_type": "stream",
     "text": [
      "dm=0.4m\n"
     ]
    }
   ],
   "source": [
    "dm=1200*0.6/1800\n",
    "print(f'dm={dm}m')"
   ]
  },
  {
   "cell_type": "markdown",
   "metadata": {},
   "source": [
    "ii)\tthe center distance, c between the pulleys.\n",
    "\n",
    "$$c = \\frac{1}{4}\\left( b+ \\sqrt {b^2-8((r_2+r_1)^2} \\right)$$\n",
    "\n",
    "Where b\n",
    "\n",
    "$$b=L-\\pi (r_2-r_1)^2$$"
   ]
  },
  {
   "cell_type": "code",
   "execution_count": 5,
   "metadata": {},
   "outputs": [
    {
     "name": "stdout",
     "output_type": "stream",
     "text": [
      "1.4292036732051034\n",
      "Center distance, c =0.708m\n"
     ]
    }
   ],
   "source": [
    "r1 = 0.2\n",
    "r2 = 0.3\n",
    "b=beltLength-(pi*(r2+r1))\n",
    "print(b)\n",
    "c=0.25*(b+sqrt(pow(b,2)-(8*pow(r2-r1,2))))\n",
    "print(f'Center distance, c ={c:.3f}m')"
   ]
  },
  {
   "cell_type": "markdown",
   "metadata": {},
   "source": [
    "iii)angle of wrap/ contact angle, φ of both pulleys. Does the angle equal? In what circumstances the angles will be equal?\n",
    "\n",
    "$$sin\\alpha = \\frac{r_2-r_1}{c}$$"
   ]
  },
  {
   "cell_type": "code",
   "execution_count": 6,
   "metadata": {},
   "outputs": [
    {
     "name": "stdout",
     "output_type": "stream",
     "text": [
      "alpha=0.14171682713853\n",
      "alpha in degrees = 8.119776081022817\n",
      "Small pulley, phi=163.76044783795436\n",
      "Large pulley, phi=196.23955216204564\n",
      "Not equal\n",
      "Equal when alpha=0\n"
     ]
    }
   ],
   "source": [
    "c = round(c,3)\n",
    "alpha = asin((r2-r1)/c)\n",
    "print(f'alpha={alpha}')\n",
    "print(f'alpha in degrees = {degrees(alpha)}')\n",
    "smallPulley = pi-(2*alpha)\n",
    "largePulley = pi+(2*alpha)\n",
    "print(f'Small pulley, phi={degrees(smallPulley)}')\n",
    "print(f'Large pulley, phi={degrees(largePulley)}')\n",
    "print('Not equal')\n",
    "print('Equal when alpha=0')"
   ]
  },
  {
   "cell_type": "markdown",
   "metadata": {},
   "source": [
    "iv)\ttorque on both pulleys. Does the torque on both pulleys equal? Why? In what circumstances the torque will be equal? How about power?\n",
    "\n",
    "Use Power equation\n",
    "$$P=\\omega T$$\n",
    "$$P=\\frac {2\\pi n_{rpm}}{60}T$$"
   ]
  },
  {
   "cell_type": "code",
   "execution_count": 7,
   "metadata": {},
   "outputs": [
    {
     "name": "stdout",
     "output_type": "stream",
     "text": [
      "Small Pulley, T=84.88263631567752Nm\n",
      "Large Pulley, T=127.32395447351628Nm\n",
      "Torque not equal. The purpose of transfer the rotation to larger pulley to generate torque\n",
      "Torque is same when radius is same\n",
      "In ideal condition, power is transferred 100%. This ideal condition is efficiency 100%\n"
     ]
    }
   ],
   "source": [
    "T_driver=motorPower*60/(2*pi*driver_rpm)\n",
    "print(f'Small Pulley, T={T_driver}Nm')\n",
    "T_driven=motorPower*60/(2*pi*driven_rpm)\n",
    "print(f'Large Pulley, T={T_driven}Nm')\n",
    "\n",
    "print('Torque not equal. The purpose of transfer the rotation to larger pulley to generate torque')\n",
    "print('Torque is same when radius is same')\n",
    "print('In ideal condition, power is transferred 100%. This ideal condition is efficiency 100%')"
   ]
  },
  {
   "cell_type": "markdown",
   "metadata": {},
   "source": [
    "v)\tVelocity of the belt, v\n",
    "\n",
    "$$V = \\frac {\\pi dn_{rpm}}{60}$$\n"
   ]
  },
  {
   "cell_type": "code",
   "execution_count": 8,
   "metadata": {},
   "outputs": [
    {
     "name": "stdout",
     "output_type": "stream",
     "text": [
      "Velocity, V=37.699m/s\n"
     ]
    }
   ],
   "source": [
    "velocity = pi*dm*driver_rpm/60\n",
    "print(f'Velocity, V={velocity:.3f}m/s')"
   ]
  },
  {
   "cell_type": "markdown",
   "metadata": {},
   "source": [
    "vi)\tCentrifugal force, Fc\n",
    "\n",
    "$$F_c = \\rho A V^2$$"
   ]
  },
  {
   "cell_type": "code",
   "execution_count": 9,
   "metadata": {},
   "outputs": [
    {
     "name": "stdout",
     "output_type": "stream",
     "text": [
      "Fc =1350225.5A\n",
      "Left Fc with unknown A\n"
     ]
    }
   ],
   "source": [
    "velocity = round(velocity,2)\n",
    "fc = beltDensity*pow(velocity,2)\n",
    "print(f'Fc ={fc:.1f}A')\n",
    "print('Left Fc with unknown A')"
   ]
  },
  {
   "cell_type": "markdown",
   "metadata": {},
   "source": [
    "vii)\tCross section of belt, A\n",
    "\n",
    "Related equations\n",
    "$$\\sigma = \\frac{F_{max}}{A}$$\n",
    "$$\\sigma = \\frac{K_s F_1}{A}$$\n",
    "$$4MPa = \\frac{1.5\\times F_1}{A}$$"
   ]
  },
  {
   "cell_type": "code",
   "execution_count": 10,
   "metadata": {},
   "outputs": [
    {
     "name": "stdout",
     "output_type": "stream",
     "text": [
      "F1=2666666.6666666665A\n"
     ]
    }
   ],
   "source": [
    "print(f'F1={4E+6/1.5}A')"
   ]
  },
  {
   "cell_type": "markdown",
   "metadata": {},
   "source": [
    "Use\n",
    "$$F_1=\\frac{4\\times10^6}{1.5}A$$\n",
    "as equation 1"
   ]
  },
  {
   "cell_type": "markdown",
   "metadata": {},
   "source": [
    "Use $F_1$ equation\n",
    "$$F_1=F_c+\\left[ \\frac{\\gamma}{\\gamma-1} \\right]\\frac{T_1}{r_1}$$\n",
    "where\n",
    "$$\\gamma =e^\\frac{f \\phi}{sin \\beta}$$\n",
    "For flat belt, $\\beta=\\frac{180}{2}=90$"
   ]
  },
  {
   "cell_type": "markdown",
   "metadata": {},
   "source": [
    "$\\phi$ in degree"
   ]
  },
  {
   "cell_type": "code",
   "execution_count": 11,
   "metadata": {},
   "outputs": [
    {
     "name": "stdout",
     "output_type": "stream",
     "text": [
      "phi = 2.858\n",
      "gamma=3.1367900500987753\n"
     ]
    }
   ],
   "source": [
    "smallPulley = round(smallPulley,3)\n",
    "print(f'phi = {smallPulley}')\n",
    "gamma = pow(e,friction*smallPulley/sin(radians(90)))\n",
    "print(f'gamma={gamma}')"
   ]
  },
  {
   "cell_type": "markdown",
   "metadata": {},
   "source": [
    "Substitute $\\gamma$ to F1\n",
    "$$F_1=1350225.5A+\\left[ \\frac{3.14}{3.14-1} \\right]\\frac{84.88}{0.2}$$"
   ]
  },
  {
   "cell_type": "code",
   "execution_count": 12,
   "metadata": {},
   "outputs": [
    {
     "name": "stdout",
     "output_type": "stream",
     "text": [
      "F1 = 1350225.5A+622.72\n"
     ]
    }
   ],
   "source": [
    "T_driver=84.88\n",
    "rightSide = (3.14/(3.14-1))*T_driver/r1\n",
    "print(f'F1 = {fc:.1f}A+{round(rightSide,2)}')"
   ]
  },
  {
   "cell_type": "markdown",
   "metadata": {},
   "source": [
    "Use\n",
    "$$F_1=1350225.5A+622.72$$\n",
    " as equation 2"
   ]
  },
  {
   "cell_type": "markdown",
   "metadata": {},
   "source": [
    "Make equation 1 and 2 equal\n",
    "$$\\frac{4\\times10^6}{1.5}A=1350225.5A+622.72$$\n",
    "$$\\frac{4\\times10^6}{1.5}A-1350225.5A=622.72$$"
   ]
  },
  {
   "cell_type": "code",
   "execution_count": 13,
   "metadata": {},
   "outputs": [
    {
     "name": "stdout",
     "output_type": "stream",
     "text": [
      "A=4.73e-04m^2\n"
     ]
    }
   ],
   "source": [
    "Area = round(rightSide,2)/((beltStress/Ks)-fc)\n",
    "print(f'A={Area:.2e}m^2')"
   ]
  },
  {
   "cell_type": "markdown",
   "metadata": {},
   "source": [
    "viii)\tTight tension on belt, F1\n",
    "\n",
    "Use\n",
    "$$F_1=1350225.5A+622.72$$"
   ]
  },
  {
   "cell_type": "code",
   "execution_count": 14,
   "metadata": {},
   "outputs": [
    {
     "name": "stdout",
     "output_type": "stream",
     "text": [
      "F1=1261.42N\n"
     ]
    }
   ],
   "source": [
    "F1 = round(fc*Area+rightSide,2)\n",
    "print(f'F1={F1}N')"
   ]
  },
  {
   "cell_type": "markdown",
   "metadata": {},
   "source": [
    "ix)\tSlack tension on belt, F2\n",
    "\n",
    "Use equation for flat belt\n",
    "\n",
    "$$\\frac{F_1-F_c}{F_2-F_c}=e^{f \\phi}$$\n",
    "$$\\frac{1261.42-F_c}{F_2-F_c}=e^{0.4(2.858)}$$"
   ]
  },
  {
   "cell_type": "markdown",
   "metadata": {},
   "source": [
    "From previous equation\n",
    "$$F_c=\\rho A V^2$$\n",
    "$$F_c=1350225.5A$$"
   ]
  },
  {
   "cell_type": "code",
   "execution_count": 15,
   "metadata": {},
   "outputs": [
    {
     "name": "stdout",
     "output_type": "stream",
     "text": [
      "Fc=638.66N\n"
     ]
    }
   ],
   "source": [
    "Area = 4.73E-4\n",
    "fc = round(1350225.5*Area,2)\n",
    "print(f'Fc={fc}N')"
   ]
  },
  {
   "cell_type": "markdown",
   "metadata": {},
   "source": [
    "Therefore\n",
    "$$\\frac{1261.42-638.66}{F_2-638.66}=e^{0.4(2.858)}$$"
   ]
  },
  {
   "cell_type": "code",
   "execution_count": 16,
   "metadata": {},
   "outputs": [
    {
     "name": "stdout",
     "output_type": "stream",
     "text": [
      "F2=837.19N\n"
     ]
    }
   ],
   "source": [
    "F2 = round(((F1-fc)/pow(e,friction*smallPulley))+fc,2)\n",
    "print(f'F2={F2}N')"
   ]
  },
  {
   "cell_type": "markdown",
   "metadata": {},
   "source": [
    "x)\tThe initial tension on the belt, Fi\n",
    "\n",
    "$$F_i=\\frac{F_1+F_2}{2}"
   ]
  },
  {
   "cell_type": "code",
   "execution_count": 17,
   "metadata": {},
   "outputs": [
    {
     "name": "stdout",
     "output_type": "stream",
     "text": [
      "Initial tension, Fi =1049.305N\n"
     ]
    }
   ],
   "source": [
    "Fi = (F1+F2)/2\n",
    "print(f'Initial tension, Fi ={Fi}N')"
   ]
  },
  {
   "cell_type": "markdown",
   "metadata": {},
   "source": [
    "Well-defined questions\n",
    "\n",
    "1.\tIf the area of the belt is reduced to A=0.0001m2, suggest the number of belts required using the same tensions in Question 1.\n",
    "\n",
    "2.\tCompare the power capacity of the belt drive if the flat belt is replaced by another belt as detailed below: \n",
    "\n",
    "Table 1\n",
    "\n",
    "| Belt Types | Specific Weight (kg/m^3) | Allowable Tensile Strength (MPa) | CoF | Dimension|Included angle|\n",
    "|:--------:|:--------:|:--------:|:--------:|:--------:|:--------:|\n",
    "|  V-belt   |  950   |  4   | 0.4 |A=2000mm^3 |38|\n",
    "|  Round belt   |  950   |  4   | 0.4 |d=2mm |-|\n",
    "\n",
    "3.\t  Compare the value of the belt area in Question 1 if the speed of the motor is reduced to 20%. How about the belt numbers? "
   ]
  },
  {
   "cell_type": "code",
   "execution_count": 18,
   "metadata": {},
   "outputs": [
    {
     "name": "stdout",
     "output_type": "stream",
     "text": [
      "F1=1261.42\n",
      "New A = 0.0001 m^2\n"
     ]
    }
   ],
   "source": [
    "print(f'F1={F1}')\n",
    "print('New A = 0.0001 m^2')\n",
    "Area = 0.0001"
   ]
  },
  {
   "cell_type": "markdown",
   "metadata": {},
   "source": [
    "$$\\sigma=\\frac{F_{max}}{A_{new}}$$\n",
    "$$4MPa=\\frac{F_{max}}{0.0001}$$"
   ]
  },
  {
   "cell_type": "code",
   "execution_count": 19,
   "metadata": {},
   "outputs": [
    {
     "name": "stdout",
     "output_type": "stream",
     "text": [
      "Fmax = 400.0N\n"
     ]
    }
   ],
   "source": [
    "Fmax=beltStress*Area\n",
    "print(f'Fmax = {Fmax}N')"
   ]
  },
  {
   "cell_type": "markdown",
   "metadata": {},
   "source": [
    "Fmax for 1 belt only support 400N. Current F1 must able to sustain load of 1261.42N.\n",
    "\n",
    "number of belt X 400 =1261.42\n",
    "\n",
    "or the equation will be\n",
    "\n",
    "$$n_{belt}\\times F_{max}=F_1$$"
   ]
  },
  {
   "cell_type": "code",
   "execution_count": 20,
   "metadata": {},
   "outputs": [
    {
     "name": "stdout",
     "output_type": "stream",
     "text": [
      "n=3.15355\n"
     ]
    }
   ],
   "source": [
    "nBelt = F1/Fmax\n",
    "print(f'n={nBelt}')\n",
    "print('Number of belt is 4')"
   ]
  },
  {
   "cell_type": "markdown",
   "metadata": {},
   "source": [
    "2. Compare the power capacity of the belt drive if the flat belt is replaced by another belt\n",
    "\n",
    "Equation that can be used\n",
    "\n",
    "\n",
    "$$\\frac{F_1-F_c}{F_2-F_c}=e^{\\frac{f \\phi}{\\sin \\beta}}$$\n",
    "$$\\sigma = \\frac{F_{max}}{A}$$\n",
    "\n",
    "$$F_c=\\rho AV^2$$\n",
    "\n",
    "Get $F_1$ and $F_2$\n",
    "\n",
    "then substitute into\n",
    "$$P=(F_1-F_2)V$$\n"
   ]
  },
  {
   "cell_type": "code",
   "execution_count": 26,
   "metadata": {},
   "outputs": [
    {
     "name": "stdout",
     "output_type": "stream",
     "text": [
      "V-belt\n",
      "phi=2.858\n",
      "beta = 19\n",
      "F1=8000.0\n",
      "Velocity=37.7\n",
      "Fc=2700.4510000000005\n"
     ]
    }
   ],
   "source": [
    "print('V-belt')\n",
    "print(f'phi=2.858')\n",
    "print(f'beta = 19')\n"
   ]
  },
  {
   "cell_type": "markdown",
   "metadata": {},
   "source": [
    "$$\\sigma = \\frac{F_{max}}{A}$$\n",
    "$$4\\times10^6 = \\frac{F_{max}}{A}$$"
   ]
  },
  {
   "cell_type": "code",
   "execution_count": 28,
   "metadata": {},
   "outputs": [
    {
     "name": "stdout",
     "output_type": "stream",
     "text": [
      "F1=8000.0\n",
      "Velocity=37.7\n"
     ]
    }
   ],
   "source": [
    "beltDensity=950\n",
    "Area = 2000E-6\n",
    "F1=beltStress*Area\n",
    "print(f'F1={F1}')"
   ]
  },
  {
   "cell_type": "markdown",
   "metadata": {},
   "source": [
    "$$F_c=\\rho AV^2$$\n",
    "$$F_c=(950)(2000\\times10^{-6})(37.7)^2$$"
   ]
  },
  {
   "cell_type": "code",
   "execution_count": 27,
   "metadata": {},
   "outputs": [
    {
     "name": "stdout",
     "output_type": "stream",
     "text": [
      "Fc=2700.4510000000005\n"
     ]
    }
   ],
   "source": [
    "Fc=beltDensity*Area*pow(velocity,2)\n",
    "print(f'Fc={Fc}')"
   ]
  }
 ],
 "metadata": {
  "kernelspec": {
   "display_name": "g01",
   "language": "python",
   "name": "python3"
  },
  "language_info": {
   "codemirror_mode": {
    "name": "ipython",
    "version": 3
   },
   "file_extension": ".py",
   "mimetype": "text/x-python",
   "name": "python",
   "nbconvert_exporter": "python",
   "pygments_lexer": "ipython3",
   "version": "3.10.13"
  }
 },
 "nbformat": 4,
 "nbformat_minor": 2
}
