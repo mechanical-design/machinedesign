{
 "cells": [
  {
   "cell_type": "markdown",
   "metadata": {},
   "source": [
    "# Q1\n",
    "\n",
    "A motor with 16 kW power is attached to a compressor via a flat belt with a length of 3 m.\n",
    "The belt experienced a maximum stress of 4 MPa in an operation and medium shock with\n",
    "Ks =1.5. If the coefficient of friction between the belt surface and the pulleys are 0.4 and the density of the belt is 950 kg/m3 and the details of the belt drive are tabulated in Table 1. Determine;\n",
    "\n",
    "Table 1\n",
    "\n",
    "|  | Diameter | Speed |\n",
    "|:--------:|:--------:|:--------:|\n",
    "|  Compressor Pulley   |  0.6   |  1200   |\n",
    "|  Motor Pulley   |  dm   |  1800   |\n",
    "\n",
    "i)\tthe diameter of the motor pulley, dm\n",
    "\n",
    "ii)\tthe center distance, c between the pulleys.\n",
    "\n",
    "iii)angle of wrap/ contact angle, φ of both pulleys. Does the angle equal? In what circumstances the angles will be equal?\n",
    "\n",
    "iv)\ttorque on both pulleys. Does the torque on both pulleys equal? Why? In what circumstances the torque will be equal? How about power?\n",
    "\n",
    "v)\tVelocity of the belt, v\n",
    "\n",
    "vi)\tCentrifugal force, Fc\n",
    "\n",
    "vii)\tCross section of belt, A\n",
    "\n",
    "viii)\tTight tension on belt, F1\n",
    "\n",
    "ix)\tSlack tension on belt, F2\n",
    "\n",
    "x)\tThe initial tension on the belt, Fi\n",
    "\n"
   ]
  },
  {
   "cell_type": "code",
   "execution_count": 14,
   "metadata": {},
   "outputs": [],
   "source": [
    "from math import pi, sin, cos, sqrt, pow, radians, degrees, asin"
   ]
  },
  {
   "cell_type": "code",
   "execution_count": 21,
   "metadata": {},
   "outputs": [
    {
     "name": "stdout",
     "output_type": "stream",
     "text": [
      "Belt type: Flat Belt\n"
     ]
    }
   ],
   "source": [
    "motorPower = 16000\n",
    "print('Belt type: Flat Belt')\n",
    "beltLength = 3\n",
    "beltStress = 4E+6\n",
    "friction = 0.4\n",
    "beltDensity = 950\n",
    "driver_rpm = 1800\n",
    "driven_rpm = 1200"
   ]
  },
  {
   "cell_type": "markdown",
   "metadata": {},
   "source": [
    "i)\tthe diameter of the motor pulley, dm\n",
    "\n",
    "Use speed ratio equation\n",
    "\n",
    "$$n_1r_1=n_2r_2$$\n",
    "or\n",
    "$$n_1d_1=n_2d_2$$\n",
    "$$(1800)d_m=(1200)(0.6)$$\n"
   ]
  },
  {
   "cell_type": "code",
   "execution_count": 2,
   "metadata": {},
   "outputs": [
    {
     "name": "stdout",
     "output_type": "stream",
     "text": [
      "dm=0.45m\n"
     ]
    }
   ],
   "source": [
    "dm=1200*0.6/1600\n",
    "print(f'dm={dm}m')"
   ]
  },
  {
   "cell_type": "markdown",
   "metadata": {},
   "source": [
    "ii)\tthe center distance, c between the pulleys.\n",
    "\n",
    "$$c = \\frac{1}{4}\\left( b+ \\sqrt {b^2-8((r_2-r_1)^2} \\right)$$\n",
    "\n",
    "Where b\n",
    "\n",
    "$$b=L-\\pi (r_2-r_1)^2$$"
   ]
  },
  {
   "cell_type": "code",
   "execution_count": 12,
   "metadata": {},
   "outputs": [
    {
     "name": "stdout",
     "output_type": "stream",
     "text": [
      "2.7643805509807655\n",
      "Center distance, c =2.208m\n"
     ]
    }
   ],
   "source": [
    "r1 = 0.225\n",
    "r2 = 0.3\n",
    "b=beltLength-(pi*(r2-r1))\n",
    "print(b)\n",
    "c=0.4*(b+sqrt(pow(b,2)-(8*pow(r2-r1,2))))\n",
    "print(f'Center distance, c ={c:.3f}m')"
   ]
  },
  {
   "cell_type": "markdown",
   "metadata": {},
   "source": [
    "iii)angle of wrap/ contact angle, φ of both pulleys. Does the angle equal? In what circumstances the angles will be equal?\n",
    "\n",
    "$$sin\\alpha = \\frac{r_2-r_1}{c}$$"
   ]
  },
  {
   "cell_type": "code",
   "execution_count": 20,
   "metadata": {},
   "outputs": [
    {
     "name": "stdout",
     "output_type": "stream",
     "text": [
      "alpha in degrees = 1.946562603939416\n",
      "Small pulley, theta=176.10687479212115\n",
      "Large pulley, theta=183.89312520787885\n",
      "Not equal\n",
      "Equal when alpha=0\n"
     ]
    }
   ],
   "source": [
    "c = 2.208\n",
    "alpha = asin((r2-r1)/c)\n",
    "print(f'alpha in degrees = {degrees(alpha)}')\n",
    "smallPulley = pi-(2*alpha)\n",
    "largePulley = pi+(2*alpha)\n",
    "print(f'Small pulley, theta={degrees(smallPulley)}')\n",
    "print(f'Large pulley, theta={degrees(largePulley)}')\n",
    "print('Not equal')\n",
    "print('Equal when alpha=0')"
   ]
  },
  {
   "cell_type": "markdown",
   "metadata": {},
   "source": [
    "iv)\ttorque on both pulleys. Does the torque on both pulleys equal? Why? In what circumstances the torque will be equal? How about power?\n",
    "\n",
    "Use Power equation\n",
    "$$P=\\omega T$$\n",
    "$$P=\\frac {2\\pi n_{rpm}}{60}T$$"
   ]
  },
  {
   "cell_type": "code",
   "execution_count": 24,
   "metadata": {},
   "outputs": [
    {
     "name": "stdout",
     "output_type": "stream",
     "text": [
      "Small Pulley, T=84.88263631567752Nm\n",
      "Large Pulley, T=127.32395447351628Nm\n",
      "Torque not equal. The purpose of transfer the rotation to larger pulley to generate torque\n",
      "Torque is same when radius is same\n",
      "In ideal condition, power is transferred 100%. This ideal condition is efficiency 100%\n"
     ]
    }
   ],
   "source": [
    "T_driver=motorPower*60/(2*pi*driver_rpm)\n",
    "print(f'Small Pulley, T={T_driver}Nm')\n",
    "T_driven=motorPower*60/(2*pi*driven_rpm)\n",
    "print(f'Large Pulley, T={T_driven}Nm')\n",
    "\n",
    "print('Torque not equal. The purpose of transfer the rotation to larger pulley to generate torque')\n",
    "print('Torque is same when radius is same')\n",
    "print('In ideal condition, power is transferred 100%. This ideal condition is efficiency 100%')"
   ]
  },
  {
   "cell_type": "markdown",
   "metadata": {},
   "source": [
    "v)\tVelocity of the belt, v\n",
    "\n",
    "$$V = \\frac {\\pi dn_{rpm}}{60}$$\n"
   ]
  },
  {
   "cell_type": "code",
   "execution_count": 25,
   "metadata": {},
   "outputs": [
    {
     "name": "stdout",
     "output_type": "stream",
     "text": [
      "Velocity, V=42.411500823462205m/s\n"
     ]
    }
   ],
   "source": [
    "velocity = pi*dm*driver_rpm/60\n",
    "print(f'Velocity, V={velocity}m/s')"
   ]
  },
  {
   "cell_type": "markdown",
   "metadata": {},
   "source": [
    "vi)\tCentrifugal force, Fc\n",
    "\n",
    "$$F_c = \\rho A V^2$$"
   ]
  },
  {
   "cell_type": "code",
   "execution_count": 27,
   "metadata": {},
   "outputs": [
    {
     "name": "stdout",
     "output_type": "stream",
     "text": [
      "Fc =1708798.6319936085A\n"
     ]
    }
   ],
   "source": [
    "fc = beltDensity*pow(velocity,2)\n",
    "print(f'Fc ={fc}A')"
   ]
  },
  {
   "cell_type": "code",
   "execution_count": null,
   "metadata": {},
   "outputs": [],
   "source": []
  }
 ],
 "metadata": {
  "kernelspec": {
   "display_name": "g01",
   "language": "python",
   "name": "python3"
  },
  "language_info": {
   "codemirror_mode": {
    "name": "ipython",
    "version": 3
   },
   "file_extension": ".py",
   "mimetype": "text/x-python",
   "name": "python",
   "nbconvert_exporter": "python",
   "pygments_lexer": "ipython3",
   "version": "3.10.13"
  }
 },
 "nbformat": 4,
 "nbformat_minor": 2
}
