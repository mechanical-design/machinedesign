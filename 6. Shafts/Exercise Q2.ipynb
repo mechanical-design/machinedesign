{
 "cells": [
  {
   "cell_type": "markdown",
   "metadata": {},
   "source": [
    "Fig1u.re Q3(b) shows a shaft loaded with pulleys C and D, supported by bearings A and\n",
    "B. The shaft transmits 70 kW of power at 1500 rpm to both pulleys. The diameters of\n",
    "pulleys C and Dare 150 mm and 100 mm, respectively. Meanwhile, the belt tension\n",
    "ratfos for pulley C and D are 2:1 and 3:2, respectively. The high-strength steel with a\n",
    "yield stress of Sy::; 345 MPa is used for the shafl, with a safety factor of 2.5\n",
    "\n",
    "i) Determ ine the belt tension on pulley C and D.\n",
    "\n",
    "ii) Determ ine the diameter of using maximum shear stress theory of failure.\n",
    "\n",
    "iii) If the material of the shaft changes to 600 MPa of the yield stress, suggest the\n",
    "new diameter of the shaft."
   ]
  },
  {
   "cell_type": "code",
   "execution_count": 28,
   "metadata": {},
   "outputs": [],
   "source": [
    "from math import pi, sin, cos, sqrt, pow, radians, degrees, hypot\n",
    "import matplotlib.pyplot as plt\n",
    "import numpy as np"
   ]
  },
  {
   "cell_type": "code",
   "execution_count": 29,
   "metadata": {},
   "outputs": [],
   "source": [
    "Power = 70000\n",
    "nA = 1500\n",
    "rC=0.075\n",
    "rD = 0.05\n",
    "Sy=345E+6\n",
    "fos=2.5"
   ]
  },
  {
   "cell_type": "markdown",
   "metadata": {},
   "source": [
    "$$P=\\frac{2\\pi n}{60} T$$"
   ]
  },
  {
   "cell_type": "code",
   "execution_count": 30,
   "metadata": {},
   "outputs": [
    {
     "name": "stdout",
     "output_type": "stream",
     "text": [
      "Torque = 445.63 Nm\n"
     ]
    }
   ],
   "source": [
    "TorqueC = round(Power*60/(2*pi*nA),2)\n",
    "print(f'Torque = {TorqueC} Nm')"
   ]
  },
  {
   "cell_type": "markdown",
   "metadata": {},
   "source": [
    "$$T=(F_1-F_2)r$$\n",
    "$$F_1=2F_2$$\n",
    "$$T=(2F_2-F_2)r$$\n",
    "$$T=(F_2)r$$"
   ]
  },
  {
   "cell_type": "code",
   "execution_count": 31,
   "metadata": {},
   "outputs": [
    {
     "name": "stdout",
     "output_type": "stream",
     "text": [
      "F2 = 5941.73 N\n",
      "F1 = 11883.46 N\n"
     ]
    }
   ],
   "source": [
    "F2=round(TorqueC/rC,2)\n",
    "print(f'F2 = {F2} N')\n",
    "F1=2*F2\n",
    "print(f'F1 = {F1} N')"
   ]
  },
  {
   "cell_type": "markdown",
   "metadata": {},
   "source": [
    "$$T=(F_3-F_4)r$$\n",
    "$$F_3=\\frac{3}{2}F_4$$\n",
    "$$T=(1.5F4-F_4)r$$\n",
    "$$T=(0.5F4)r$$"
   ]
  },
  {
   "cell_type": "code",
   "execution_count": 32,
   "metadata": {},
   "outputs": [
    {
     "name": "stdout",
     "output_type": "stream",
     "text": [
      "F4 = 17825.2 N\n",
      "F3 = 26737.8 N\n"
     ]
    }
   ],
   "source": [
    "F4=round(TorqueC/(rD*0.5),2)\n",
    "print(f'F4 = {F4} N')\n",
    "F3=round(1.5*F4,2)\n",
    "print(f'F3 = {F3} N')"
   ]
  },
  {
   "cell_type": "code",
   "execution_count": 33,
   "metadata": {},
   "outputs": [
    {
     "name": "stdout",
     "output_type": "stream",
     "text": [
      "Fc = 17825.19 N\n",
      "Fd = 44563.0 N\n"
     ]
    }
   ],
   "source": [
    "Fc=F1+F2\n",
    "Fd=F3+F4\n",
    "print(f'Fc = {Fc} N')\n",
    "print(f'Fd = {Fd} N')"
   ]
  },
  {
   "cell_type": "code",
   "execution_count": 34,
   "metadata": {},
   "outputs": [
    {
     "data": {
      "image/png": "[encoded data removed]",
      "text/plain": [
       "<Figure size 432x288 with 1 Axes>"
      ]
     },
     "metadata": {
      "needs_background": "light"
     },
     "output_type": "display_data"
    }
   ],
   "source": [
    "# Vertical Loading\n",
    "\n",
    "coorA = [0,0]\n",
    "coorB = [330,0]\n",
    "coorC = [100,0]\n",
    "coorD = [250,0]\n",
    "loadLocation = [250,0]\n",
    "\n",
    "data = np.array([coorA,coorB,coorC,coorD])\n",
    "x, y = data.T\n",
    "\n",
    "fig, ax = plt.subplots()\n",
    "ax.grid()\n",
    "ax.scatter(x,y, color='k')\n",
    "ax.arrow(loadLocation[0],loadLocation[1]+50, 0,-40,width=2,color='r')\n",
    "ax.hlines(0,0,330)\n",
    "\n",
    "ax.set(xlabel='l', ylabel='y',\n",
    "       title='Vertical loading')\n",
    "\n",
    "ax.text(loadLocation[0],loadLocation[1]+50,f'{Fd}N')\n",
    "ax.text(coorA[0],coorA[1],f'  A     100mm')\n",
    "ax.text(coorB[0],coorB[1],f'  B')\n",
    "ax.text(coorC[0],coorC[1],f'  C     150mm')\n",
    "ax.text(coorD[0],coorD[1],f'  D    80mm')\n",
    "\n",
    "plt.axis('equal')\n",
    "plt.show()"
   ]
  },
  {
   "cell_type": "markdown",
   "metadata": {},
   "source": [
    "Calculate reaction force at A and B"
   ]
  },
  {
   "cell_type": "markdown",
   "metadata": {},
   "source": [
    "$$+\\uparrow \\sum F_x=0$$\n",
    "$$A_x+B_x-22281.5=0$$\n",
    "\n",
    "$$+\\circlearrowleft \\sum M_b=0$$\n",
    "$$-A_x(330)+22281.5(80)=0$$\n",
    "$$A_x=22281.5(80)/330$$"
   ]
  },
  {
   "cell_type": "code",
   "execution_count": 35,
   "metadata": {},
   "outputs": [
    {
     "name": "stdout",
     "output_type": "stream",
     "text": [
      "Ay = 10803.15 N\n"
     ]
    }
   ],
   "source": [
    "ab = 330\n",
    "db = 80\n",
    "Ay=round(Fd*db/ab,2)\n",
    "print(f'Ay = {Ay} N')"
   ]
  },
  {
   "cell_type": "code",
   "execution_count": 36,
   "metadata": {},
   "outputs": [
    {
     "name": "stdout",
     "output_type": "stream",
     "text": [
      "By = 33759.85 N\n"
     ]
    }
   ],
   "source": [
    "By = Fd-Ay\n",
    "print(f'By = {By} N')"
   ]
  },
  {
   "cell_type": "code",
   "execution_count": 37,
   "metadata": {},
   "outputs": [
    {
     "data": {
      "image/png": "[encoded data removed]",
      "text/plain": [
       "<Figure size 432x288 with 1 Axes>"
      ]
     },
     "metadata": {
      "needs_background": "light"
     },
     "output_type": "display_data"
    }
   ],
   "source": [
    "# Vertical Loading\n",
    "\n",
    "coorA = [0,0]\n",
    "coorB = [330,0]\n",
    "coorC = [100,0]\n",
    "coorD = [250,0]\n",
    "loadLocation = [250,0]\n",
    "\n",
    "data = np.array([coorA,coorB,coorC,coorD])\n",
    "x, y = data.T\n",
    "\n",
    "fig, ax = plt.subplots()\n",
    "ax.grid()\n",
    "ax.scatter(x,y, color='k')\n",
    "ax.arrow(loadLocation[0],loadLocation[1]+50, 0,-40,width=2,color='r')\n",
    "ax.arrow(coorA[0],coorA[1]-50,0,40,width=2,color='r')\n",
    "ax.arrow(coorB[0],coorB[1]-50, 0,40 ,width=2,color='r')\n",
    "ax.hlines(0,0,330)\n",
    "\n",
    "ax.set(xlabel='l', ylabel='y',\n",
    "       title='Vertical loading')\n",
    "\n",
    "ax.text(loadLocation[0],loadLocation[1]+50,f'{Fd}N')\n",
    "ax.text(coorA[0],coorA[1]-50,f'{Ay}N')\n",
    "ax.text(coorB[0],coorB[1]-50,f'{By}N')\n",
    "ax.text(coorA[0],coorA[1],f'  A     100mm')\n",
    "ax.text(coorB[0],coorB[1],f'  B')\n",
    "ax.text(coorC[0],coorC[1],f'  C     150mm')\n",
    "ax.text(coorD[0],coorD[1],f'  D    80mm')\n",
    "\n",
    "plt.axis('equal')\n",
    "plt.show()"
   ]
  },
  {
   "cell_type": "markdown",
   "metadata": {},
   "source": [
    "Horizontal loading"
   ]
  },
  {
   "cell_type": "code",
   "execution_count": 38,
   "metadata": {},
   "outputs": [
    {
     "data": {
      "image/png": "[encoded data removed]",
      "text/plain": [
       "<Figure size 432x288 with 1 Axes>"
      ]
     },
     "metadata": {
      "needs_background": "light"
     },
     "output_type": "display_data"
    }
   ],
   "source": [
    "# Horizontal Loading\n",
    "\n",
    "coorA = [0,0]\n",
    "coorB = [330,0]\n",
    "coorC = [100,0]\n",
    "coorD = [250,0]\n",
    "loadLocation = [100,0]\n",
    "\n",
    "data = np.array([coorA,coorB,coorC,coorD])\n",
    "x, y = data.T\n",
    "fig, ax = plt.subplots()\n",
    "ax.grid()\n",
    "ax.scatter(x,y, color='k')\n",
    "ax.arrow(loadLocation[0],loadLocation[1]+50, 0,-40,width=2,color='r')\n",
    "ax.hlines(0,0,330)\n",
    "\n",
    "ax.set(xlabel='l', ylabel='x',\n",
    "       title='Horizontal loading')\n",
    "\n",
    "ax.text(loadLocation[0],loadLocation[1]+50,f'{Fc}N')\n",
    "ax.text(coorA[0],coorA[1],f'  A     100mm')\n",
    "ax.text(coorB[0],coorB[1],f'  B')\n",
    "ax.text(coorC[0],coorC[1],f'  C     150mm')\n",
    "ax.text(coorD[0],coorD[1],f'  D    80mm')\n",
    "\n",
    "plt.axis('equal')\n",
    "plt.show()"
   ]
  },
  {
   "cell_type": "markdown",
   "metadata": {},
   "source": [
    "$$+\\uparrow \\sum F_y=0$$\n",
    "$$A_y+B_y-17825.19=0$$\n",
    "\n",
    "$$+\\circlearrowleft \\sum M_b=0$$\n",
    "$$-A_y(330)+17825.19(230)=0$$\n",
    "$$A_y=17825.19(230)/330$$"
   ]
  },
  {
   "cell_type": "code",
   "execution_count": 39,
   "metadata": {},
   "outputs": [
    {
     "name": "stdout",
     "output_type": "stream",
     "text": [
      "Ax = 12423.62 N\n"
     ]
    }
   ],
   "source": [
    "ab = 330\n",
    "cb = 230\n",
    "Ax=round(Fc*cb/ab,2)\n",
    "print(f'Ax = {Ax} N')"
   ]
  },
  {
   "cell_type": "code",
   "execution_count": 40,
   "metadata": {},
   "outputs": [
    {
     "name": "stdout",
     "output_type": "stream",
     "text": [
      "Bx = 5401.57 N\n"
     ]
    }
   ],
   "source": [
    "Bx = round(Fc-Ax,2)\n",
    "print(f'Bx = {Bx} N')"
   ]
  },
  {
   "cell_type": "code",
   "execution_count": 41,
   "metadata": {},
   "outputs": [
    {
     "data": {
      "image/png": "[encoded data removed]",
      "text/plain": [
       "<Figure size 432x288 with 1 Axes>"
      ]
     },
     "metadata": {
      "needs_background": "light"
     },
     "output_type": "display_data"
    }
   ],
   "source": [
    "# Horizontal Loading\n",
    "\n",
    "coorA = [0,0]\n",
    "coorB = [330,0]\n",
    "coorC = [100,0]\n",
    "coorD = [250,0]\n",
    "loadLocation = [100,0]\n",
    "\n",
    "data = np.array([coorA,coorB,coorC,coorD])\n",
    "x, y = data.T\n",
    "fig, ax = plt.subplots()\n",
    "ax.grid()\n",
    "ax.scatter(x,y, color='k')\n",
    "ax.arrow(loadLocation[0],loadLocation[1]+50, 0,-40,width=2,color='r')\n",
    "ax.arrow(coorA[0],coorA[1]-50,0,40,width=2,color='r')\n",
    "ax.arrow(coorB[0],coorB[1]-50, 0,40 ,width=2,color='r')\n",
    "ax.hlines(0,0,330)\n",
    "\n",
    "ax.set(xlabel='l', ylabel='x',\n",
    "       title='Horizontal loading')\n",
    "\n",
    "ax.text(loadLocation[0],loadLocation[1]+50,f'{Fc}N')\n",
    "ax.text(coorA[0],coorA[1]-50,f'{Ax}N')\n",
    "ax.text(coorB[0],coorB[1]-50,f'{Bx}N')\n",
    "ax.text(coorA[0],coorA[1],f'  A     100mm')\n",
    "ax.text(coorB[0],coorB[1],f'  B')\n",
    "ax.text(coorC[0],coorC[1],f'  C     150mm')\n",
    "ax.text(coorD[0],coorD[1],f'  D    80mm')\n",
    "\n",
    "plt.axis('equal')\n",
    "plt.show()"
   ]
  },
  {
   "cell_type": "code",
   "execution_count": 42,
   "metadata": {},
   "outputs": [
    {
     "name": "stdout",
     "output_type": "stream",
     "text": [
      "A = 16463.73 N\n",
      "B = 34189.24 N\n",
      "This resultant for A and B for bearing. Not for shaft\n"
     ]
    }
   ],
   "source": [
    "Atotal = round(hypot(Ax,Ay),2)\n",
    "Btotal = round(hypot(Bx,By),2)\n",
    "print(f'A = {Atotal} N')\n",
    "print(f'B = {Btotal} N')\n",
    "print('This resultant for A and B for bearing. Not for shaft')"
   ]
  },
  {
   "cell_type": "markdown",
   "metadata": {},
   "source": [
    "From Bending Moment Diagram"
   ]
  },
  {
   "cell_type": "code",
   "execution_count": 43,
   "metadata": {},
   "outputs": [
    {
     "name": "stdout",
     "output_type": "stream",
     "text": [
      "Mcy=1080.32 Nm\n"
     ]
    }
   ],
   "source": [
    "ac=0.1\n",
    "Mcy = round(Ay*ac,2)\n",
    "print(f'Mcy={Mcy} Nm')"
   ]
  },
  {
   "cell_type": "code",
   "execution_count": 44,
   "metadata": {},
   "outputs": [
    {
     "name": "stdout",
     "output_type": "stream",
     "text": [
      "Mdy=2700.79 Nm\n"
     ]
    }
   ],
   "source": [
    "ad=0.25\n",
    "Mdy = round(Ay*ad,2)\n",
    "print(f'Mdy={Mdy} Nm')"
   ]
  },
  {
   "cell_type": "code",
   "execution_count": 45,
   "metadata": {},
   "outputs": [
    {
     "name": "stdout",
     "output_type": "stream",
     "text": [
      "Mcx=1242.36 Nm\n"
     ]
    }
   ],
   "source": [
    "ac=0.1\n",
    "Mcx = round(Ax*ac,2)\n",
    "print(f'Mcx={Mcx} Nm')"
   ]
  },
  {
   "cell_type": "code",
   "execution_count": 46,
   "metadata": {},
   "outputs": [
    {
     "name": "stdout",
     "output_type": "stream",
     "text": [
      "Mdx=432.12 Nm\n"
     ]
    }
   ],
   "source": [
    "cd=0.15\n",
    "Mdx = round(Mcx-Bx*cd,2)\n",
    "print(f'Mdx={Mdx} Nm')"
   ]
  },
  {
   "cell_type": "code",
   "execution_count": 47,
   "metadata": {},
   "outputs": [
    {
     "name": "stdout",
     "output_type": "stream",
     "text": [
      "Ma=0 Nm\n",
      "Mb=0 Nm\n",
      "Mc=1646.37 Nm\n",
      "Md=2735.14 Nm\n"
     ]
    }
   ],
   "source": [
    "Mc = round(hypot(Mcx,Mcy),2)\n",
    "Md = round(hypot(Mdx,Mdy),2)\n",
    "print(f'Ma=0 Nm')\n",
    "print(f'Mb=0 Nm')\n",
    "print(f'Mc={Mc} Nm')\n",
    "print(f'Md={Md} Nm')"
   ]
  },
  {
   "cell_type": "code",
   "execution_count": 48,
   "metadata": {},
   "outputs": [
    {
     "name": "stdout",
     "output_type": "stream",
     "text": [
      "Critical point at D\n"
     ]
    }
   ],
   "source": [
    "print('Critical point at D')\n",
    "Mmax = Md"
   ]
  },
  {
   "cell_type": "code",
   "execution_count": 49,
   "metadata": {},
   "outputs": [
    {
     "name": "stdout",
     "output_type": "stream",
     "text": [
      "Diameter = 0.05892m\n",
      "Diameter = 58.92mm\n"
     ]
    }
   ],
   "source": [
    "Dmss = round(pow(32*fos*hypot(Mmax,TorqueC)/(Sy*pi),1/3),5)\n",
    "print(f'Diameter = {Dmss}m')\n",
    "print(f'Diameter = {Dmss*1000}mm')"
   ]
  },
  {
   "cell_type": "code",
   "execution_count": 50,
   "metadata": {},
   "outputs": [
    {
     "name": "stdout",
     "output_type": "stream",
     "text": [
      "Diameter = 0.049m\n",
      "Diameter = 49.0mm\n"
     ]
    }
   ],
   "source": [
    "Sy_new = 600E+6\n",
    "Dmss = round(pow(32*fos*hypot(Mmax,TorqueC)/(Sy_new*pi),1/3),5)\n",
    "print(f'Diameter = {Dmss}m')\n",
    "print(f'Diameter = {Dmss*1000}mm')"
   ]
  }
 ],
 "metadata": {
  "kernelspec": {
   "display_name": "g01",
   "language": "python",
   "name": "python3"
  },
  "language_info": {
   "codemirror_mode": {
    "name": "ipython",
    "version": 3
   },
   "file_extension": ".py",
   "mimetype": "text/x-python",
   "name": "python",
   "nbconvert_exporter": "python",
   "pygments_lexer": "ipython3",
   "version": "3.10.13"
  }
 },
 "nbformat": 4,
 "nbformat_minor": 2
}
