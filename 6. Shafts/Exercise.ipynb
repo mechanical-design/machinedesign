{
 "cells": [
  {
   "cell_type": "code",
   "execution_count": 38,
   "metadata": {},
   "outputs": [],
   "source": [
    "# Required\n",
    "from math import pi, sin, cos, sqrt, pow, radians, degrees, hypot"
   ]
  },
  {
   "cell_type": "code",
   "execution_count": 68,
   "metadata": {},
   "outputs": [],
   "source": [
    "nA = 360\n",
    "F1 = 2500\n",
    "F2 = 850\n",
    "rA = 0.1\n",
    "rC = 0.15\n",
    "Sy= 280E+6\n",
    "fos=2"
   ]
  },
  {
   "cell_type": "code",
   "execution_count": 13,
   "metadata": {},
   "outputs": [
    {
     "name": "stdout",
     "output_type": "stream",
     "text": [
      "Torque = 165.0\n"
     ]
    }
   ],
   "source": [
    "TorqueA = (F1-F2)*rA\n",
    "print(f'Torque = {TorqueA}')"
   ]
  },
  {
   "cell_type": "code",
   "execution_count": 16,
   "metadata": {},
   "outputs": [
    {
     "name": "stdout",
     "output_type": "stream",
     "text": [
      "Power = 6220.35 Nm\n"
     ]
    }
   ],
   "source": [
    "Power = round((2*pi*nA/60)*TorqueA,2)\n",
    "print(f'Power = {Power} Nm')"
   ]
  },
  {
   "cell_type": "code",
   "execution_count": 20,
   "metadata": {},
   "outputs": [
    {
     "name": "stdout",
     "output_type": "stream",
     "text": [
      "Torque = 165.0 Nm\n",
      "Torque is same for Pulley A and C\n"
     ]
    }
   ],
   "source": [
    "TorqueB=round(Power*60/(2*pi*nA),2)\n",
    "print(f'Torque = {TorqueB} Nm')\n",
    "print('Torque is same for Pulley A and C')"
   ]
  },
  {
   "cell_type": "code",
   "execution_count": 26,
   "metadata": {},
   "outputs": [
    {
     "name": "stdout",
     "output_type": "stream",
     "text": [
      "T2 = 733.33 N\n",
      "T1 = 1833 N\n"
     ]
    }
   ],
   "source": [
    "T2=round(TorqueB/(rC*1.5),2)\n",
    "print(f'T2 = {T2} N')\n",
    "T1 = round(2.5*T2)\n",
    "print(f'T1 = {T1} N')"
   ]
  },
  {
   "cell_type": "markdown",
   "metadata": {},
   "source": [
    "Step 2: Calculate Forces on the shaft\n",
    "\n",
    "i) Calculate net forces acting at pulley A and pulley C due to belt tensions.\n",
    "\n",
    "ii) What are the horizontal and vertical components/planes of the belt tensions acting on\n",
    "both pulleys? Draw the FBD separately for both components/planes."
   ]
  },
  {
   "cell_type": "code",
   "execution_count": 30,
   "metadata": {},
   "outputs": [
    {
     "name": "stdout",
     "output_type": "stream",
     "text": [
      "Fa = 3350 N\n",
      "Fc = 2566.33 N\n"
     ]
    }
   ],
   "source": [
    "Fa=F1+F2\n",
    "Fc=T1+T2\n",
    "print(f'Fa = {Fa} N')\n",
    "print(f'Fc = {Fc} N')"
   ]
  },
  {
   "cell_type": "markdown",
   "metadata": {},
   "source": [
    "Step 3: Calculate reaction forces at bearings using static equilibrium\n",
    "\n",
    "i) Calculate the reaction forces at bearings B and D. Input the forces on the FBD in step 2\n",
    "following correct direction."
   ]
  },
  {
   "cell_type": "code",
   "execution_count": 33,
   "metadata": {},
   "outputs": [
    {
     "name": "stdout",
     "output_type": "stream",
     "text": [
      "Bx = 513.27 N\n"
     ]
    }
   ],
   "source": [
    "cd = 100\n",
    "bd = 500\n",
    "Bx=round(Fc*cd/bd,2)\n",
    "print(f'Bx = {Bx} N')"
   ]
  },
  {
   "cell_type": "code",
   "execution_count": 34,
   "metadata": {},
   "outputs": [
    {
     "name": "stdout",
     "output_type": "stream",
     "text": [
      "Dx = 2053.06 N\n"
     ]
    }
   ],
   "source": [
    "Dx = Fc-Bx\n",
    "print(f'Dx = {Dx} N')"
   ]
  },
  {
   "cell_type": "code",
   "execution_count": 36,
   "metadata": {},
   "outputs": [
    {
     "name": "stdout",
     "output_type": "stream",
     "text": [
      "By = 5360.0 N\n"
     ]
    }
   ],
   "source": [
    "ad = 800\n",
    "By = Fa*ad/bd\n",
    "print(f'By = {By} N')"
   ]
  },
  {
   "cell_type": "code",
   "execution_count": 37,
   "metadata": {},
   "outputs": [
    {
     "name": "stdout",
     "output_type": "stream",
     "text": [
      "Dy = -2010.0 N\n"
     ]
    }
   ],
   "source": [
    "Dy = Fa-By\n",
    "print(f'Dy = {Dy} N')"
   ]
  },
  {
   "cell_type": "code",
   "execution_count": 42,
   "metadata": {},
   "outputs": [
    {
     "name": "stdout",
     "output_type": "stream",
     "text": [
      "B = 5384.52 N\n",
      "D = 2873.18 N\n"
     ]
    }
   ],
   "source": [
    "Btotal = round(hypot(Bx,By),2)\n",
    "Dtotal = round(hypot(Dx,Dy),2)\n",
    "print(f'B = {Btotal} N')\n",
    "print(f'D = {Dtotal} N')"
   ]
  },
  {
   "cell_type": "markdown",
   "metadata": {},
   "source": [
    "SFD BMD"
   ]
  },
  {
   "cell_type": "code",
   "execution_count": 70,
   "metadata": {},
   "outputs": [],
   "source": [
    "Mbx=0"
   ]
  },
  {
   "cell_type": "code",
   "execution_count": 62,
   "metadata": {},
   "outputs": [
    {
     "name": "stdout",
     "output_type": "stream",
     "text": [
      "Mcx=205.31 Nm\n"
     ]
    }
   ],
   "source": [
    "bc=0.4\n",
    "Mcx = round(Bx*bc,2)\n",
    "print(f'Mcx={Mcx} Nm')"
   ]
  },
  {
   "cell_type": "code",
   "execution_count": 63,
   "metadata": {},
   "outputs": [
    {
     "name": "stdout",
     "output_type": "stream",
     "text": [
      "Mdx=0.0 Nm\n"
     ]
    }
   ],
   "source": [
    "cd=0.1\n",
    "Mdx = Mcx-round(Bx*bc,2)\n",
    "print(f'Mdx={Mdx} Nm')"
   ]
  },
  {
   "cell_type": "code",
   "execution_count": 64,
   "metadata": {},
   "outputs": [
    {
     "name": "stdout",
     "output_type": "stream",
     "text": [
      "Mby=-1005.0 Nm\n"
     ]
    }
   ],
   "source": [
    "ab=0.3\n",
    "Mby = round(-Fa*ab,2)\n",
    "print(f'Mby={Mby} Nm')"
   ]
  },
  {
   "cell_type": "code",
   "execution_count": 65,
   "metadata": {},
   "outputs": [
    {
     "name": "stdout",
     "output_type": "stream",
     "text": [
      "Mcy=-201.0 Nm\n"
     ]
    }
   ],
   "source": [
    "bc=0.4\n",
    "Mcy = Mby+round(-Dy*bc,2)\n",
    "print(f'Mcy={Mcy} Nm')"
   ]
  },
  {
   "cell_type": "code",
   "execution_count": 66,
   "metadata": {},
   "outputs": [
    {
     "name": "stdout",
     "output_type": "stream",
     "text": [
      "Mdy=0.0 Nm\n"
     ]
    }
   ],
   "source": [
    "bd=0.5\n",
    "Mdy = Mby+round(-Dy*bd,2)\n",
    "print(f'Mdy={Mdy} Nm')"
   ]
  },
  {
   "cell_type": "code",
   "execution_count": 71,
   "metadata": {},
   "outputs": [
    {
     "name": "stdout",
     "output_type": "stream",
     "text": [
      "Mb=1005 Nm\n",
      "Mc=287 Nm\n"
     ]
    }
   ],
   "source": [
    "Mb = round(hypot(Mbx,Mby))\n",
    "Mc = round(hypot(Mcx,Mcy))\n",
    "print(f'Mb={Mb} Nm')\n",
    "print(f'Mc={Mc} Nm')"
   ]
  },
  {
   "cell_type": "code",
   "execution_count": 72,
   "metadata": {},
   "outputs": [],
   "source": [
    "Mmax = Mb"
   ]
  },
  {
   "cell_type": "markdown",
   "metadata": {},
   "source": [
    "Step 5: Determine the diameter of the shaft using the failure theories\n",
    "\n",
    "i) Determine the diameter of the shaft using shear stress theory of failure\n",
    "\n",
    "ii) Determine the diameter of the shaft using energy distortion theory of failure"
   ]
  },
  {
   "cell_type": "code",
   "execution_count": 76,
   "metadata": {},
   "outputs": [
    {
     "name": "stdout",
     "output_type": "stream",
     "text": [
      "Diameter = 0.06152m\n"
     ]
    }
   ],
   "source": [
    "Dmss = round(pow(32*fos*hypot(Mmax,TorqueA)/Sy,1/3),5)\n",
    "print(f'Diameter = {Dmss}m')"
   ]
  },
  {
   "cell_type": "code",
   "execution_count": 78,
   "metadata": {},
   "outputs": [
    {
     "name": "stdout",
     "output_type": "stream",
     "text": [
      "Diameter = 0.06125m\n"
     ]
    }
   ],
   "source": [
    "Dmed = round(pow(32*fos*sqrt(pow(Mmax,2)+0.75*TorqueA)/Sy,1/3),5)\n",
    "print(f'Diameter = {Dmed}m')"
   ]
  },
  {
   "cell_type": "code",
   "execution_count": null,
   "metadata": {},
   "outputs": [],
   "source": []
  }
 ],
 "metadata": {
  "kernelspec": {
   "display_name": "g01",
   "language": "python",
   "name": "python3"
  },
  "language_info": {
   "codemirror_mode": {
    "name": "ipython",
    "version": 3
   },
   "file_extension": ".py",
   "mimetype": "text/x-python",
   "name": "python",
   "nbconvert_exporter": "python",
   "pygments_lexer": "ipython3",
   "version": "3.10.13"
  }
 },
 "nbformat": 4,
 "nbformat_minor": 2
}
