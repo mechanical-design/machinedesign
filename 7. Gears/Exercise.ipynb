{
 "cells": [
  {
   "cell_type": "markdown",
   "metadata": {},
   "source": [
    "The gear train in Figure Q1 is required to transmit the power of 40 kW at 1500 rpm from pinion 1. The ratio of speed between gear 1 and 2 is 5:2. Due to limited space, the ratio number of teeth on gear 3 to gear 4 is 1:3 with module of 4 mm and a pressure angle of 20. \n",
    "\n",
    "I) What does the 350 mm distance represent in the relationship between gear 1 and gear 2? \n",
    "\n",
    "II) What does the 200 mm distance represent in the relationship between gear 3 and gear 4? \n",
    "\n",
    "III) Find the number of teeth on gears 1, 2,3 and 4\n",
    "\n",
    "IV) Find the radii of gears 1, 2,3 and 4\n",
    "\n",
    "V)  Calculate the speed on gears 2, 3 and 4\n"
   ]
  },
  {
   "cell_type": "code",
   "execution_count": null,
   "metadata": {},
   "outputs": [],
   "source": [
    "from math import radians\n",
    "\n",
    "Power = 40000\n",
    "n1=1500\n",
    "module=4\n",
    "pressureAngle=radians(20)"
   ]
  },
  {
   "cell_type": "markdown",
   "metadata": {},
   "source": [
    "$$\\frac{n_1}{n_2}=\\frac{5}{2}$$\n",
    "$$\\frac{N_3}{N_4}=\\frac{1}{3}$$"
   ]
  },
  {
   "cell_type": "markdown",
   "metadata": {},
   "source": [
    "I) What does the 350 mm distance represent in the relationship between gear 1 and gear 2? \n",
    "\n",
    "Center distance, c between Gear 1 and Gear 2\n",
    "\n",
    "$$c=\\frac{m}{2}(N_1+N_2)=350$$"
   ]
  },
  {
   "cell_type": "markdown",
   "metadata": {},
   "source": [
    "II) What does the 200 mm distance represent in the relationship between gear 3 and gear 4? \n",
    "\n",
    "Center distance, c between Gear 3 and Gear 4\n",
    "\n",
    "$$c=\\frac{m}{2}(N_3+N_4)=200$$"
   ]
  },
  {
   "cell_type": "markdown",
   "metadata": {},
   "source": [
    "III) Find the number of teeth on gears 1, 2,3 and 4\n",
    "\n",
    "$$\\frac{n_1}{n_2}=\\frac{5}{2}=\\frac{N_2}{N_1}$$\n",
    "$$N_2=\\frac{5}{2}N_1$$\n",
    "$$\\frac{m}{2}(N_1+N_2)=350$$\n",
    "\n",
    "Substitute 1 to 2\n",
    "\n",
    "$$\\frac{m}{2}(N_1+\\frac{5}{2}N_1)=350$$\n",
    "$$\\frac{4}{2}(N_1+\\frac{5}{2}N_1)=350$$"
   ]
  },
  {
   "cell_type": "code",
   "execution_count": 2,
   "metadata": {},
   "outputs": [
    {
     "name": "stdout",
     "output_type": "stream",
     "text": [
      "N1=50.0\n",
      "N2=125.0\n"
     ]
    }
   ],
   "source": [
    "N1=350/2*2/7\n",
    "print(f'N1={N1}')\n",
    "N2=5*N1/2\n",
    "print(f'N2={N2}')"
   ]
  },
  {
   "cell_type": "markdown",
   "metadata": {},
   "source": [
    "$$\\frac{N_3}{N_4}=\\frac{1}{3}$$\n",
    "$$N_4=3N_3$$\n",
    "$$\\frac{m}{2}(N_3+N_4)=200$$\n",
    "\n",
    "Substitute 3 to 4\n",
    "\n",
    "$$\\frac{m}{2}(N_3+N_4)=200$$\n",
    "$$\\frac{m}{2}(N_3+3N_3)=200$$"
   ]
  },
  {
   "cell_type": "code",
   "execution_count": 4,
   "metadata": {},
   "outputs": [
    {
     "name": "stdout",
     "output_type": "stream",
     "text": [
      "N3=25.0\n",
      "N4=75.0\n"
     ]
    }
   ],
   "source": [
    "N3=200/2/4\n",
    "print(f'N3={N3}')\n",
    "N4=3*N3\n",
    "print(f'N4={N4}')"
   ]
  },
  {
   "cell_type": "markdown",
   "metadata": {},
   "source": [
    "IV) Find the radii of gears 1, 2, 3 and 4"
   ]
  },
  {
   "cell_type": "markdown",
   "metadata": {},
   "source": [
    "V)  Calculate the speed on gears 2, 3 and 4\n"
   ]
  }
 ],
 "metadata": {
  "kernelspec": {
   "display_name": "g01",
   "language": "python",
   "name": "python3"
  },
  "language_info": {
   "codemirror_mode": {
    "name": "ipython",
    "version": 3
   },
   "file_extension": ".py",
   "mimetype": "text/x-python",
   "name": "python",
   "nbconvert_exporter": "python",
   "pygments_lexer": "ipython3",
   "version": "3.10.13"
  }
 },
 "nbformat": 4,
 "nbformat_minor": 2
}
