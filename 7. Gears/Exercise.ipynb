{
 "cells": [
  {
   "cell_type": "markdown",
   "metadata": {},
   "source": [
    "The gear train in Figure Q1 is required to transmit the power of 40 kW at 1500 rpm from pinion 1. The ratio of speed between gear 1 and 2 is 5:2. Due to limited space, the ratio number of teeth on gear 3 to gear 4 is 1:3 with module of 4 mm and a pressure angle of 20. \n",
    "\n",
    "I) What does the 350 mm distance represent in the relationship between gear 1 and gear 2? \n",
    "\n",
    "II) What does the 200 mm distance represent in the relationship between gear 3 and gear 4? \n",
    "\n",
    "III) Find the number of teeth on gears 1, 2,3 and 4\n",
    "\n",
    "IV) Find the radii of gears 1, 2,3 and 4\n",
    "\n",
    "V)  Calculate the speed on gears 2, 3 and 4\n"
   ]
  },
  {
   "cell_type": "code",
   "execution_count": 6,
   "metadata": {},
   "outputs": [],
   "source": [
    "from math import radians, pi, tan\n",
    "\n",
    "Power = 40000\n",
    "n1=1500\n",
    "module=4\n",
    "pressureAngle=radians(20)"
   ]
  },
  {
   "cell_type": "markdown",
   "metadata": {},
   "source": [
    "$$\\frac{n_1}{n_2}=\\frac{5}{2}$$\n",
    "$$\\frac{N_3}{N_4}=\\frac{1}{3}$$"
   ]
  },
  {
   "cell_type": "markdown",
   "metadata": {},
   "source": [
    "I) What does the 350 mm distance represent in the relationship between gear 1 and gear 2? \n",
    "\n",
    "Center distance, c between Gear 1 and Gear 2\n",
    "\n",
    "$$c=\\frac{m}{2}(N_1+N_2)=350$$"
   ]
  },
  {
   "cell_type": "markdown",
   "metadata": {},
   "source": [
    "II) What does the 200 mm distance represent in the relationship between gear 3 and gear 4? \n",
    "\n",
    "Center distance, c between Gear 3 and Gear 4\n",
    "\n",
    "$$c=\\frac{m}{2}(N_3+N_4)=200$$"
   ]
  },
  {
   "cell_type": "markdown",
   "metadata": {},
   "source": [
    "III) Find the number of teeth on gears 1, 2,3 and 4\n",
    "\n",
    "$$\\frac{n_1}{n_2}=\\frac{5}{2}=\\frac{N_2}{N_1}$$\n",
    "$$N_2=\\frac{5}{2}N_1$$\n",
    "$$\\frac{m}{2}(N_1+N_2)=350$$\n",
    "\n",
    "Substitute 1 to 2\n",
    "\n",
    "$$\\frac{m}{2}(N_1+\\frac{5}{2}N_1)=350$$\n",
    "$$\\frac{4}{2}(N_1+\\frac{5}{2}N_1)=350$$"
   ]
  },
  {
   "cell_type": "code",
   "execution_count": 2,
   "metadata": {},
   "outputs": [
    {
     "name": "stdout",
     "output_type": "stream",
     "text": [
      "N1=50.0\n",
      "N2=125.0\n"
     ]
    }
   ],
   "source": [
    "N1=350/2*2/7\n",
    "print(f'N1={N1}')\n",
    "N2=5*N1/2\n",
    "print(f'N2={N2}')"
   ]
  },
  {
   "cell_type": "markdown",
   "metadata": {},
   "source": [
    "$$\\frac{N_3}{N_4}=\\frac{1}{3}$$\n",
    "$$N_4=3N_3$$\n",
    "$$\\frac{m}{2}(N_3+N_4)=200$$\n",
    "\n",
    "Substitute 3 to 4\n",
    "\n",
    "$$\\frac{m}{2}(N_3+N_4)=200$$\n",
    "$$\\frac{m}{2}(N_3+3N_3)=200$$"
   ]
  },
  {
   "cell_type": "code",
   "execution_count": 4,
   "metadata": {},
   "outputs": [
    {
     "name": "stdout",
     "output_type": "stream",
     "text": [
      "N3=25.0\n",
      "N4=75.0\n"
     ]
    }
   ],
   "source": [
    "N3=200/2/4\n",
    "print(f'N3={N3}')\n",
    "N4=3*N3\n",
    "print(f'N4={N4}')"
   ]
  },
  {
   "cell_type": "markdown",
   "metadata": {},
   "source": [
    "IV) Find the radii of gears 1, 2, 3 and 4\n",
    "\n",
    "Use module equation $m=\\frac{d_1}{N_1}$\n",
    "\n",
    "Gear 1\n",
    "\n",
    "$$m=\\frac{d_1}{N_1}$$\n",
    "$$4=\\frac{d_1}{50}$$\n",
    "$$d_1=200mm$$\n",
    "$$r_1=100mm$$\n",
    "\n",
    "Gear 2\n",
    "\n",
    "$$4=\\frac{d_2}{125}$$\n",
    "$$d_2=500mm$$\n",
    "$$r_2=250mm$$\n",
    "\n",
    "Gear 3\n",
    "\n",
    "$$4=\\frac{d_3}{25}$$\n",
    "$$d_3=100mm$$\n",
    "$$r_3=50mm$$\n",
    "\n",
    "Gear 4\n",
    "\n",
    "$$4=\\frac{d_4}{75}$$\n",
    "$$d_4=300mm$$\n",
    "$$r_4=150mm$$"
   ]
  },
  {
   "cell_type": "markdown",
   "metadata": {},
   "source": [
    "V)  Calculate the speed on gears 2, 3 and 4\n",
    "\n",
    "From\n",
    "\n",
    "$$\\frac{n_1}{n_2}=\\frac{5}{2}$$\n",
    "$$\\frac{1500}{n_2}=\\frac{5}{2}$$\n",
    "$$n_2=600rpm$$\n",
    "\n",
    "Gear 2 and 3 mounted at the same shaft\n",
    "\n",
    "$$n_3=n_2+600rpm$$\n",
    "\n",
    "From\n",
    "\n",
    "$$\\frac{N_3}{N_4}=\\frac{1}{3}$$\n",
    "$$\\frac{N_3}{N_4}=\\frac{n_4}{n_3}$$\n",
    "$$\\frac{25}{75}=\\frac{n_4}{600}$$\n",
    "$$n_4=200rpm$$"
   ]
  },
  {
   "cell_type": "markdown",
   "metadata": {},
   "source": [
    "6) FBD for Gear 1 and 2"
   ]
  },
  {
   "cell_type": "markdown",
   "metadata": {},
   "source": [
    "7) Torque\n",
    "\n",
    "$$P=\\omega T$$\n",
    "$$P=\\frac{2\\pi n_1}{60} T$$\n",
    "$$40000=\\frac{2\\pi 1500}{60} T$$"
   ]
  },
  {
   "cell_type": "code",
   "execution_count": 4,
   "metadata": {},
   "outputs": [
    {
     "name": "stdout",
     "output_type": "stream",
     "text": [
      "Torque=254.65 Nm\n"
     ]
    }
   ],
   "source": [
    "Torque=round(Power*60/(2*pi*n1),2)\n",
    "print(f'Torque={Torque} Nm')"
   ]
  },
  {
   "cell_type": "markdown",
   "metadata": {},
   "source": [
    "8) Tangential and radial force\n",
    "\n",
    "Use torque equation\n",
    "\n",
    "$$T=F_{t1}\\times r_1$$\n",
    "$$254.65=F_{t1}(0.1)$$"
   ]
  },
  {
   "cell_type": "code",
   "execution_count": 5,
   "metadata": {},
   "outputs": [
    {
     "name": "stdout",
     "output_type": "stream",
     "text": [
      "Ft1=2546.5N\n"
     ]
    }
   ],
   "source": [
    "Ft1 = Torque/0.1\n",
    "print(f'Ft1={Ft1}N')"
   ]
  },
  {
   "cell_type": "markdown",
   "metadata": {},
   "source": [
    "Radial force\n",
    "\n",
    "$$F_{r1}=F_{t1} \\tan(20)$$\n",
    "$$=(2546.5)\\tan(20)$$"
   ]
  },
  {
   "cell_type": "code",
   "execution_count": 9,
   "metadata": {},
   "outputs": [
    {
     "name": "stdout",
     "output_type": "stream",
     "text": [
      "Fr1=926.85N\n"
     ]
    }
   ],
   "source": [
    "Fr1=round(Ft1*tan(pressureAngle),2)\n",
    "print(f'Fr1={Fr1}N')"
   ]
  },
  {
   "cell_type": "markdown",
   "metadata": {},
   "source": [
    "$$F_{t1}=F_{t2}$$\n",
    "$$F_{r1}=F_{r2}$$"
   ]
  },
  {
   "cell_type": "markdown",
   "metadata": {},
   "source": [
    "9) Power transmitted across gears are ideally same if no losses"
   ]
  },
  {
   "cell_type": "markdown",
   "metadata": {},
   "source": [
    "10) Torque are different if diameter is different"
   ]
  },
  {
   "cell_type": "markdown",
   "metadata": {},
   "source": [
    "11) FBD between Gear 3 and 4"
   ]
  },
  {
   "cell_type": "markdown",
   "metadata": {},
   "source": [
    "12) Torque for Gear 3\n",
    "\n",
    "From\n",
    "\n",
    "$$P_3=\\frac{2\\pi n_3}{60}T_3$$\n",
    "$$40000=\\frac{2\\pi 600}{60}T_3$$"
   ]
  },
  {
   "cell_type": "code",
   "execution_count": 11,
   "metadata": {},
   "outputs": [
    {
     "name": "stdout",
     "output_type": "stream",
     "text": [
      "Torque at Gear 3, T3=636.62Nm\n"
     ]
    }
   ],
   "source": [
    "Torque3=round(Power*60/(2*pi*600),2)\n",
    "print(f'Torque at Gear 3, T3={Torque3}Nm')"
   ]
  },
  {
   "cell_type": "markdown",
   "metadata": {},
   "source": [
    "13) Use torque equation\n",
    "\n",
    "$$T=F_{t3}(0.05)$$"
   ]
  },
  {
   "cell_type": "code",
   "execution_count": 12,
   "metadata": {},
   "outputs": [
    {
     "name": "stdout",
     "output_type": "stream",
     "text": [
      "Ft3=12732.4Nm\n"
     ]
    }
   ],
   "source": [
    "Ft3=Torque3/0.05\n",
    "print(f'Ft3={Ft3}Nm')"
   ]
  },
  {
   "cell_type": "markdown",
   "metadata": {},
   "source": [
    "$$F_{r3}=F_{t3} \\tan(20)$$"
   ]
  },
  {
   "cell_type": "code",
   "execution_count": 14,
   "metadata": {},
   "outputs": [
    {
     "name": "stdout",
     "output_type": "stream",
     "text": [
      "Fr3=4634.21N\n"
     ]
    }
   ],
   "source": [
    "Fr3=round(Ft3*tan(pressureAngle),2)\n",
    "print(f'Fr3={Fr3}N')"
   ]
  },
  {
   "cell_type": "markdown",
   "metadata": {},
   "source": [
    "$$F_{t3}=F_{t4}$$\n",
    "$$F_{r3}=F_{r4}$$"
   ]
  },
  {
   "cell_type": "code",
   "execution_count": null,
   "metadata": {},
   "outputs": [],
   "source": []
  }
 ],
 "metadata": {
  "kernelspec": {
   "display_name": "g01",
   "language": "python",
   "name": "python3"
  },
  "language_info": {
   "codemirror_mode": {
    "name": "ipython",
    "version": 3
   },
   "file_extension": ".py",
   "mimetype": "text/x-python",
   "name": "python",
   "nbconvert_exporter": "python",
   "pygments_lexer": "ipython3",
   "version": "3.10.13"
  }
 },
 "nbformat": 4,
 "nbformat_minor": 2
}
