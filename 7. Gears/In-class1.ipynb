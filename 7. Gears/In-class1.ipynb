{
 "cells": [
  {
   "cell_type": "markdown",
   "metadata": {},
   "source": [
    "A pair of gears consist of a 20 teeth pinion meching with a 120 teeth gear. The module is 4 mm. Calculate\n",
    "\n",
    "i) The pitch circle diameter\n",
    "\n",
    "ii) The center distance"
   ]
  },
  {
   "cell_type": "code",
   "execution_count": 1,
   "metadata": {},
   "outputs": [
    {
     "name": "stdout",
     "output_type": "stream",
     "text": [
      "d1=80mm\n",
      "d2=480mm\n"
     ]
    }
   ],
   "source": [
    "N1=20\n",
    "N2=120\n",
    "module=4\n",
    "\n",
    "d1=module*N1\n",
    "d2=module*N2\n",
    "print(f'd1={d1}mm')\n",
    "print(f'd2={d2}mm')"
   ]
  },
  {
   "cell_type": "code",
   "execution_count": 2,
   "metadata": {},
   "outputs": [
    {
     "name": "stdout",
     "output_type": "stream",
     "text": [
      "Center Distance, c= 280.0mm\n"
     ]
    }
   ],
   "source": [
    "centerDistance = (d1/2)+(d2/2)\n",
    "print(f'Center Distance, c= {centerDistance}mm')"
   ]
  },
  {
   "cell_type": "code",
   "execution_count": null,
   "metadata": {},
   "outputs": [],
   "source": []
  }
 ],
 "metadata": {
  "kernelspec": {
   "display_name": "tf",
   "language": "python",
   "name": "python3"
  },
  "language_info": {
   "codemirror_mode": {
    "name": "ipython",
    "version": 3
   },
   "file_extension": ".py",
   "mimetype": "text/x-python",
   "name": "python",
   "nbconvert_exporter": "python",
   "pygments_lexer": "ipython3",
   "version": "3.9.7"
  }
 },
 "nbformat": 4,
 "nbformat_minor": 2
}
