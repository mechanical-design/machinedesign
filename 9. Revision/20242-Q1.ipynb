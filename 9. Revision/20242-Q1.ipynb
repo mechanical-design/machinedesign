{
 "cells": [
  {
   "cell_type": "markdown",
   "metadata": {},
   "source": [
    "# Q1(b)"
   ]
  },
  {
   "cell_type": "code",
   "execution_count": 1,
   "metadata": {},
   "outputs": [],
   "source": [
    "# Required\n",
    "import matplotlib.pyplot as plt\n",
    "import numpy as np\n",
    "from math import sin, cos, tan, pi, atan, asin, degrees, radians"
   ]
  },
  {
   "cell_type": "code",
   "execution_count": 2,
   "metadata": {},
   "outputs": [
    {
     "name": "stdout",
     "output_type": "stream",
     "text": [
      "Double Acme thread, alpha=14.5\n"
     ]
    }
   ],
   "source": [
    "d_outer = 24\n",
    "lead = 6\n",
    "v_linear = 30\n",
    "f_screw = 0.2\n",
    "f_collar = 0\n",
    "power = 3\n",
    "print(f'Double Acme thread, alpha=14.5')\n",
    "alpha = 14.5"
   ]
  },
  {
   "cell_type": "markdown",
   "metadata": {},
   "source": [
    "i) Perpendicular force applied at lever C"
   ]
  },
  {
   "cell_type": "markdown",
   "metadata": {},
   "source": [
    "Power is given, we can find the torque using\n",
    "\n",
    "$$P=\\omega T$$\n",
    "$$P=\\frac {2\\pi n_{rpm}}{60} T$$\n",
    "\n",
    "Find $n_{rpm}$ using screw Linear Velocity\n",
    "\n",
    "$$v_{screw}=Lead\\times \\frac{n_{rpm}}{60}$$"
   ]
  },
  {
   "cell_type": "markdown",
   "metadata": {},
   "source": [
    "$$30=6\\times \\frac{n_{rpm}}{60}$$\n"
   ]
  },
  {
   "cell_type": "code",
   "execution_count": 3,
   "metadata": {},
   "outputs": [
    {
     "name": "stdout",
     "output_type": "stream",
     "text": [
      "n_rpm=300.0rpm\n"
     ]
    }
   ],
   "source": [
    "n_rpm = v_linear*60/lead\n",
    "print(f'n_rpm={n_rpm}rpm')"
   ]
  },
  {
   "cell_type": "code",
   "execution_count": 4,
   "metadata": {},
   "outputs": [
    {
     "name": "stdout",
     "output_type": "stream",
     "text": [
      "Torque, T = 0.100Nm\n"
     ]
    }
   ],
   "source": [
    "Torque = round(power*60/(2*pi*n_rpm),2)\n",
    "print(f'Torque, T = {Torque:.3f}Nm')"
   ]
  },
  {
   "cell_type": "markdown",
   "metadata": {},
   "source": [
    "$$T=F \\times d$$\n",
    "where d is distance of lever C, d=0.15m\n",
    "$$0.1=F \\times 0.15$$"
   ]
  },
  {
   "cell_type": "code",
   "execution_count": 5,
   "metadata": {},
   "outputs": [
    {
     "name": "stdout",
     "output_type": "stream",
     "text": [
      "Perpendicular force at C = 0.67 N\n"
     ]
    }
   ],
   "source": [
    "distance = 0.15\n",
    "Fc = round(Torque/distance,2)\n",
    "print(f'Perpendicular force at C = {Fc} N')"
   ]
  },
  {
   "cell_type": "markdown",
   "metadata": {},
   "source": [
    "From torque required to tighten the screw.\n",
    "\n",
    "$$T_u = \\frac{Wd_m}{2} \\frac{f+\\cos\\alpha_n \\tan\\lambda}{\\cos\\alpha_n + f\\tan\\lambda} + \\frac{Wf_c d_c}{2}$$"
   ]
  },
  {
   "cell_type": "code",
   "execution_count": 6,
   "metadata": {},
   "outputs": [
    {
     "name": "stdout",
     "output_type": "stream",
     "text": [
      "Torque to lift the load, Tu = 0.100Nm\n"
     ]
    }
   ],
   "source": [
    "print(f'Torque to lift the load, Tu = {Torque:.3f}Nm')"
   ]
  },
  {
   "cell_type": "markdown",
   "metadata": {},
   "source": [
    "Clamping force developed, W\n",
    "$$0.100 = \\frac{Wd_m}{2} \\frac{f+\\cos\\alpha_n \\tan\\lambda}{\\cos\\alpha_n + f\\tan\\lambda} + \\frac{Wf_c d_c}{2}$$\n",
    "\n",
    "where $f_c=0$ \n",
    "\n",
    "Need to find $d_m$ and $\\alpha_n$"
   ]
  },
  {
   "cell_type": "markdown",
   "metadata": {},
   "source": [
    "$$d_m = \\frac {D+(D-p)}{2}$$\n",
    "\n",
    "pitch is unknown, need to find from lead equation.\n",
    "\n",
    "\n",
    "$$Lead, L=np$$\n",
    "\n",
    "Lead = 6mm per turn\n",
    "\n",
    "$$6=2 \\times p$$\n",
    "\n",
    "$$pitch, p = 3mm$$\n",
    "\n",
    "$$d_m = \\frac {24+(24-3)}{2}$$"
   ]
  },
  {
   "cell_type": "code",
   "execution_count": 7,
   "metadata": {},
   "outputs": [
    {
     "name": "stdout",
     "output_type": "stream",
     "text": [
      "Mean diameter, dm= 22.5 mm\n"
     ]
    }
   ],
   "source": [
    "pitch = lead/2\n",
    "d_inner = d_outer-pitch\n",
    "d_mean = (d_outer+d_inner)/2\n",
    "print(f'Mean diameter, dm= {d_mean} mm')"
   ]
  },
  {
   "cell_type": "markdown",
   "metadata": {},
   "source": [
    "From equation\n",
    "$$ \\tan\\lambda = \\frac{L}{\\pi d_m} $$"
   ]
  },
  {
   "cell_type": "code",
   "execution_count": 8,
   "metadata": {},
   "outputs": [
    {
     "name": "stdout",
     "output_type": "stream",
     "text": [
      "tan(lambda)=0.08488263631567751\n",
      "Lambda = 4.851786644764603\n"
     ]
    }
   ],
   "source": [
    "tan_lambda = lead/(pi*d_mean)\n",
    "print(f'tan(lambda)={tan_lambda}')\n",
    "lambda_helix = degrees(atan(tan_lambda))\n",
    "print(f'Lambda = {lambda_helix}')"
   ]
  },
  {
   "cell_type": "markdown",
   "metadata": {},
   "source": [
    "From equation\n",
    "$$\\tan\\alpha_n=\\cos\\lambda \\tan \\alpha$$"
   ]
  },
  {
   "cell_type": "code",
   "execution_count": 9,
   "metadata": {},
   "outputs": [
    {
     "name": "stdout",
     "output_type": "stream",
     "text": [
      "alpha_n = 14.45022286204183\n"
     ]
    }
   ],
   "source": [
    "alpha_n = degrees(atan(cos(radians(lambda_helix))*tan(radians(alpha))))\n",
    "print(f'alpha_n = {alpha_n}')"
   ]
  },
  {
   "cell_type": "markdown",
   "metadata": {},
   "source": [
    "$$0.100 = \\frac{W(0.0225)}{2} \\frac{0.2+\\cos(14.45) \\tan\\lambda}{\\cos(14.45) + 0.2 \\tan\\lambda} + 0$$"
   ]
  },
  {
   "cell_type": "code",
   "execution_count": 33,
   "metadata": {},
   "outputs": [
    {
     "name": "stdout",
     "output_type": "stream",
     "text": [
      "W=0.030N\n"
     ]
    }
   ],
   "source": [
    "F_d = 2*(cos(radians(alpha_n))-(f_screw*tan(radians(lambda_helix))))*Torque/(d_mean*(f_screw+(cos(radians(alpha_n))*tan(radians(lambda_helix)))))\n",
    "print(f'W={F_d:.3f}N')"
   ]
  },
  {
   "cell_type": "code",
   "execution_count": 31,
   "metadata": {},
   "outputs": [
    {
     "data": {
      "image/png": "[encoded data removed]",
      "text/plain": [
       "<Figure size 640x480 with 1 Axes>"
      ]
     },
     "metadata": {},
     "output_type": "display_data"
    }
   ],
   "source": [
    "# FBD for Link DA\n",
    "coorA = [200,0]\n",
    "coorD = [0,0]\n",
    "coorB = [550,0]\n",
    "\n",
    "data = np.array([coorA,coorB,coorD])\n",
    "x, y = data.T\n",
    "fig, ax = plt.subplots()\n",
    "ax.grid()\n",
    "ax.scatter(x,y, color='k')\n",
    "ax.arrow(coorD[0],coorD[1]+50, 0,-40,width=3,color='r')\n",
    "ax.arrow(coorB[0],coorB[1]+50, 0,-40,width=3,color='r')\n",
    "ax.hlines(0,0,550)\n",
    "\n",
    "ax.set(xlabel='x', ylabel='y',\n",
    "       title='Link DA')\n",
    "\n",
    "ax.text(coorD[0],coorD[1]+50,f'0.03N')\n",
    "ax.text(coorD[0],coorD[1],f'  D      200mm')\n",
    "ax.text(coorA[0],coorA[1],f'  A              350mm')\n",
    "ax.text(coorB[0]+10,coorB[1],f'B')\n",
    "\n",
    "plt.axis('equal')\n",
    "plt.show()"
   ]
  },
  {
   "cell_type": "markdown",
   "metadata": {},
   "source": [
    "$$+\\circlearrowleft \\sum M_A=0$$\n",
    "$$0.03(0.2)-F_b(0.35)=0$$\n",
    "$$W=0.03(0.2)/0.35$$"
   ]
  },
  {
   "cell_type": "code",
   "execution_count": 35,
   "metadata": {},
   "outputs": [
    {
     "name": "stdout",
     "output_type": "stream",
     "text": [
      "Clamping force, Fb=0.017 N\n"
     ]
    }
   ],
   "source": [
    "F_b = round(0.03*0.2/0.35,3)\n",
    "print(f'Clamping force, Fb={F_b} N')"
   ]
  },
  {
   "cell_type": "markdown",
   "metadata": {},
   "source": [
    "ii) If double square square thread is used\n",
    "\n",
    "No collar friction and square thread is used. W is same.\n",
    "\n",
    "$f_c = 0$ and $\\alpha=0 , \\alpha_n=0$\n",
    "\n",
    "$$T'_u = \\frac{Wd_m}{2} \\frac{f+\\cos(0) \\tan\\lambda}{\\cos(0) + f\\tan\\lambda}$$\n",
    "$$T'_u = \\frac{(0.03)(0.0225)}{2} \\left( \\frac{0.2+\\cos(0) \\tan\\lambda}{\\cos(0) + 0.2\\tan\\lambda} \\right)$$"
   ]
  },
  {
   "cell_type": "code",
   "execution_count": 45,
   "metadata": {},
   "outputs": [
    {
     "name": "stdout",
     "output_type": "stream",
     "text": [
      "New torque, Tu=0.000098 Nm\n",
      "Torque is decreased when double square thread is used\n"
     ]
    }
   ],
   "source": [
    "T_u_new =(F_d*(d_mean/1000)/2)*((f_screw+(cos(0)*tan(radians(lambda_helix))))/(cos(0)-(f_screw*tan(radians(lambda_helix)))))\n",
    "print(f'New torque, Tu={T_u_new:.6f} Nm')\n",
    "print('Torque is decreased when double square thread is used')"
   ]
  },
  {
   "cell_type": "markdown",
   "metadata": {},
   "source": [
    "iii) Length of level C when clamping force increase to 30%"
   ]
  },
  {
   "cell_type": "code",
   "execution_count": 47,
   "metadata": {},
   "outputs": [
    {
     "name": "stdout",
     "output_type": "stream",
     "text": [
      "Clamping force, Fb=0.017 N\n",
      "New Clamping force, Fb_new=0.0221 N\n"
     ]
    }
   ],
   "source": [
    "print(f'Clamping force, Fb={F_b} N')\n",
    "F_b_new = 1.3*F_b\n",
    "print(f'New Clamping force, Fb_new={F_b_new} N')\n"
   ]
  },
  {
   "cell_type": "markdown",
   "metadata": {},
   "source": [
    "$$+\\circlearrowleft \\sum M_A=0$$\n",
    "$$W_{new}(0.2)-(0.0221)(0.35)=0$$\n",
    "$$W_{new}=(0.0221)(0.35)/0.2$$"
   ]
  },
  {
   "cell_type": "code",
   "execution_count": 51,
   "metadata": {},
   "outputs": [
    {
     "name": "stdout",
     "output_type": "stream",
     "text": [
      "New W = 0.0387 N\n"
     ]
    }
   ],
   "source": [
    "W_new = round(F_b_new*0.35/0.2,4)\n",
    "print(f'New W = {W_new} N')"
   ]
  },
  {
   "cell_type": "markdown",
   "metadata": {},
   "source": [
    "Insert into torque to lift the load equation with the new W.\n",
    "\n",
    "$$T_{new} = \\frac{(0.0387)(0.0225)}{2} \\frac{0.2+\\cos(14.45) \\tan\\lambda}{\\cos(14.45) + 0.2 \\tan\\lambda} + 0$$"
   ]
  },
  {
   "cell_type": "code",
   "execution_count": 55,
   "metadata": {},
   "outputs": [
    {
     "name": "stdout",
     "output_type": "stream",
     "text": [
      "New Tu = 0.00012913936190952786 Nm\n"
     ]
    }
   ],
   "source": [
    "T_new =(W_new*(d_mean/1000)/2)*((f_screw+(cos(radians(alpha_n))*tan(radians(lambda_helix))))/(cos(radians(alpha_n))-(f_screw*tan(radians(lambda_helix)))))\n",
    "print(f'New Tu = {T_new} Nm')"
   ]
  },
  {
   "cell_type": "markdown",
   "metadata": {},
   "source": [
    "$$T_{new}=F_{new} \\times d$$\n",
    "where d is distance of lever C, d=0.15m\n",
    "$$0.0001291=F_{new} \\times 0.15$$"
   ]
  },
  {
   "cell_type": "code",
   "execution_count": 58,
   "metadata": {},
   "outputs": [
    {
     "name": "stdout",
     "output_type": "stream",
     "text": [
      "New Force at C, FC = 0.0008609290793968525 N\n"
     ]
    }
   ],
   "source": [
    "F_new = T_new/0.15\n",
    "print(f'New Force at C, FC = {F_new} N')"
   ]
  }
 ],
 "metadata": {
  "kernelspec": {
   "display_name": "base",
   "language": "python",
   "name": "python3"
  },
  "language_info": {
   "codemirror_mode": {
    "name": "ipython",
    "version": 3
   },
   "file_extension": ".py",
   "mimetype": "text/x-python",
   "name": "python",
   "nbconvert_exporter": "python",
   "pygments_lexer": "ipython3",
   "version": "3.12.2"
  }
 },
 "nbformat": 4,
 "nbformat_minor": 2
}
