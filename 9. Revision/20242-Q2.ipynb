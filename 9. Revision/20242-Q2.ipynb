{
 "cells": [
  {
   "cell_type": "markdown",
   "metadata": {},
   "source": [
    "# Q2(b) - Belt"
   ]
  },
  {
   "cell_type": "code",
   "execution_count": 2,
   "metadata": {},
   "outputs": [],
   "source": [
    "from math import pi, sin, cos, sqrt, pow, radians, degrees, asin, e\n",
    "import numpy as np"
   ]
  },
  {
   "cell_type": "code",
   "execution_count": 3,
   "metadata": {},
   "outputs": [
    {
     "name": "stdout",
     "output_type": "stream",
     "text": [
      "From diagram, center distance is 1.5m\n"
     ]
    }
   ],
   "source": [
    "Length=4.27\n",
    "Power =7500\n",
    "n1=1000\n",
    "n2=500\n",
    "centerDistance = 1.5\n",
    "friction=0.25\n",
    "print(f'From diagram, center distance is {centerDistance}m')"
   ]
  },
  {
   "cell_type": "markdown",
   "metadata": {},
   "source": [
    "i) Determine pulley diameter and cross-sectional area of belt K\n",
    "\n",
    "Use belt length equation\n",
    "\n",
    "$$L=2c+\\pi(r_1+r_2)+\\frac{1}{c}(r_2-r_1)^2$$\n",
    "$$4.27=2(1.5)+\\pi(r_1+r_2)+\\frac{1}{1.5}(r_2-r_1)^2$$\n",
    "\n",
    "Find r1 equation\n",
    "\n",
    "$$\\frac{n_1}{n_2}=\\frac{1000}{500}=\\frac{r_2}{r_1}$$\n",
    "\n",
    "From this equation\n",
    "\n",
    "$$r_2=2r_1$$\n",
    "\n",
    "Substitute into belt length equation\n",
    "\n",
    "\n",
    "$$4.27=2(1.5)+\\pi(r_1+2r_1)+\\frac{1}{1.5}(2r_1-r_1)^2$$\n",
    "$$4.27=3+\\pi(3r_1)+\\frac{1}{1.5}(r_1)^2$$\n"
   ]
  },
  {
   "cell_type": "markdown",
   "metadata": {},
   "source": [
    "$$0.67r_1^2+9.42r_1-1.27$$\n",
    "\n",
    "Solve quadratic equation using\n",
    "\n",
    "$$ax^2+bx+c=0 \\rightarrow x=\\frac{-b\\pm \\sqrt{b^2-4c}}{2a}$$"
   ]
  },
  {
   "cell_type": "code",
   "execution_count": 4,
   "metadata": {},
   "outputs": [
    {
     "name": "stdout",
     "output_type": "stream",
     "text": [
      "The roots are: x1 = -14.19325244538296, x2 = 0.13355095284564683\n",
      "The possible value for r1 is 0.134 m\n",
      "r2=0.268 m\n"
     ]
    }
   ],
   "source": [
    "def solve_quadratic_numpy(a, b, c):\n",
    "  \"\"\"Solves a quadratic equation using numpy.roots.\"\"\"\n",
    "  coefficients = [a, b, c]  # Coefficients in descending order of power\n",
    "  roots = np.roots(coefficients)\n",
    "  return roots[0], roots[1]  # Return the two roots\n",
    "\n",
    "a = 0.67\n",
    "b = 9.42\n",
    "c = -1.27\n",
    "\n",
    "x1, x2 = solve_quadratic_numpy(a, b, c)\n",
    "print(f\"The roots are: x1 = {x1}, x2 = {x2}\")\n",
    "r1=round(x2,3)\n",
    "print(f'The possible value for r1 is {r1} m')\n",
    "r2=2*r1\n",
    "print(f'r2={r2} m')"
   ]
  },
  {
   "cell_type": "code",
   "execution_count": 5,
   "metadata": {},
   "outputs": [
    {
     "name": "stdout",
     "output_type": "stream",
     "text": [
      "Diameter for motor = 0.268 m\n",
      "Diameter for Pulley A = 0.536 m\n"
     ]
    }
   ],
   "source": [
    "d1=2*r1\n",
    "d2=2*r2\n",
    "print(f'Diameter for motor = {d1} m')\n",
    "print(f'Diameter for Pulley A = {d2} m')"
   ]
  },
  {
   "cell_type": "markdown",
   "metadata": {},
   "source": [
    "$$sin\\alpha = \\frac{r_2-r_1}{c}$$\n",
    "$$sin\\alpha = \\frac{0.268-0.134}{1.5}$$"
   ]
  },
  {
   "cell_type": "code",
   "execution_count": 6,
   "metadata": {},
   "outputs": [
    {
     "name": "stdout",
     "output_type": "stream",
     "text": [
      "alpha=0.08945258202819847\n",
      "alpha in degrees = 5.12525541676357\n",
      "Small pulley, phi=2.963 rad\n",
      "Small pulley, phi=169.76739469726292\n",
      "Large pulley, phi=3.32 rad\n",
      "Large pulley, phi=190.2219879834333\n"
     ]
    }
   ],
   "source": [
    "alpha = asin((r2-r1)/centerDistance)\n",
    "print(f'alpha={alpha}')\n",
    "print(f'alpha in degrees = {degrees(alpha)}')\n",
    "smallPulley = round(pi-(2*alpha),3)\n",
    "largePulley = round(pi+(2*alpha),3)\n",
    "print(f'Small pulley, phi={smallPulley} rad')\n",
    "print(f'Small pulley, phi={degrees(smallPulley)}')\n",
    "print(f'Large pulley, phi={largePulley} rad')\n",
    "print(f'Large pulley, phi={degrees(largePulley)}')"
   ]
  },
  {
   "cell_type": "markdown",
   "metadata": {},
   "source": [
    "Use Power equation\n",
    "$$P=\\omega T$$\n",
    "$$P=\\frac {2\\pi n_1}{60}T$$\n",
    "\n",
    "$n_1=1000rpm$\n",
    "\n",
    "$$7500=\\frac {2\\pi n_1}{60}T$$"
   ]
  },
  {
   "cell_type": "code",
   "execution_count": 7,
   "metadata": {},
   "outputs": [
    {
     "name": "stdout",
     "output_type": "stream",
     "text": [
      "Torque=71.62 Nm\n"
     ]
    }
   ],
   "source": [
    "Torque=round(Power*60/(2*pi*n1),2)\n",
    "print(f'Torque={Torque} Nm')"
   ]
  },
  {
   "cell_type": "markdown",
   "metadata": {},
   "source": [
    "From $F_1$ equation\n",
    "$$F_1=F_c+\\left[ \\frac{\\gamma}{\\gamma-1} \\right]\\frac{T_1}{r_1}$$\n",
    "where\n",
    "$$\\gamma =e^\\frac{f \\phi}{sin \\beta}$$\n",
    "For flat belt, $\\beta=\\frac{180}{2}=90$"
   ]
  },
  {
   "cell_type": "markdown",
   "metadata": {},
   "source": [
    "Need to find $F_c$ first\n",
    "$$F_c = \\rho A V^2$$\n",
    "\n",
    "and\n",
    "\n",
    "$$V = \\frac {\\pi dn_{rpm}}{60}$$"
   ]
  },
  {
   "cell_type": "code",
   "execution_count": 8,
   "metadata": {},
   "outputs": [
    {
     "name": "stdout",
     "output_type": "stream",
     "text": [
      "Velocity, V=14.03m/s\n"
     ]
    }
   ],
   "source": [
    "velocity = round(pi*d1*n1/60,2)\n",
    "print(f'Velocity, V={velocity}m/s')"
   ]
  },
  {
   "cell_type": "code",
   "execution_count": 9,
   "metadata": {},
   "outputs": [
    {
     "name": "stdout",
     "output_type": "stream",
     "text": [
      "Fc =186998.9A\n",
      "Left Fc with unknown A\n"
     ]
    }
   ],
   "source": [
    "beltDensity=950\n",
    "Fc = round(beltDensity*pow(velocity,2),1)\n",
    "print(f'Fc ={Fc}A')\n",
    "print('Left Fc with unknown A')"
   ]
  },
  {
   "cell_type": "markdown",
   "metadata": {},
   "source": [
    "Related equations to cross-sectional area\n",
    "$$\\sigma = \\frac{F_{max}}{A}$$\n",
    "$$\\sigma = \\frac{K_s F_1}{A}$$\n",
    "\n",
    "No service factor. Therefor Ks=1\n",
    "\n",
    "$$1.75MPa = \\frac{1\\times F_1}{A}$$"
   ]
  },
  {
   "cell_type": "code",
   "execution_count": 10,
   "metadata": {},
   "outputs": [
    {
     "name": "stdout",
     "output_type": "stream",
     "text": [
      "F1=1750000.0A\n"
     ]
    }
   ],
   "source": [
    "print(f'F1={1.75E+6}A')"
   ]
  },
  {
   "cell_type": "markdown",
   "metadata": {},
   "source": [
    "Substitute equation\n",
    "\n",
    "$$F_1=1750000A$$\n",
    "\n",
    "into\n",
    "\n",
    "$$F_1=F_c+\\left[ \\frac{\\gamma}{\\gamma-1} \\right]\\frac{T_1}{r_1}$$\n",
    "\n",
    "Find gamma first\n"
   ]
  },
  {
   "cell_type": "code",
   "execution_count": 11,
   "metadata": {},
   "outputs": [
    {
     "name": "stdout",
     "output_type": "stream",
     "text": [
      "phi = 2.963\n",
      "gamma=2.0975\n"
     ]
    }
   ],
   "source": [
    "print(f'phi = {smallPulley}')\n",
    "gamma = round(pow(e,friction*smallPulley/sin(radians(90))),4)\n",
    "print(f'gamma={gamma}')"
   ]
  },
  {
   "cell_type": "markdown",
   "metadata": {},
   "source": [
    "Substitute $\\gamma$ to F1 equation\n",
    "$$F_1=186998.9A+\\left[ \\frac{2.0975}{2.0975-1} \\right]\\frac{71.62}{0.134}$$\n",
    "$$1750000A=186998.9A+\\left[ \\frac{2.0975}{2.0975-1} \\right]\\frac{71.62}{0.134}$$"
   ]
  },
  {
   "cell_type": "code",
   "execution_count": 12,
   "metadata": {},
   "outputs": [
    {
     "name": "stdout",
     "output_type": "stream",
     "text": [
      "1750000.0A = 186998.9A+1021.47\n"
     ]
    }
   ],
   "source": [
    "rightSide = (gamma/(gamma-1))*Torque/r1\n",
    "\n",
    "print(f'{1.75E+6}A = {Fc}A+{round(rightSide,2)}')"
   ]
  },
  {
   "cell_type": "markdown",
   "metadata": {},
   "source": [
    "The equation become\n",
    "\n",
    "$$1750000.0A = 186998.9A+1021.47$$"
   ]
  },
  {
   "cell_type": "code",
   "execution_count": 13,
   "metadata": {},
   "outputs": [
    {
     "name": "stdout",
     "output_type": "stream",
     "text": [
      "Cross-sectional area of belt, A=6.54e-04m^2\n"
     ]
    }
   ],
   "source": [
    "Area = rightSide/(1.75E+6-Fc)\n",
    "print(f'Cross-sectional area of belt, A={Area:.2e}m^2')"
   ]
  },
  {
   "cell_type": "markdown",
   "metadata": {},
   "source": [
    "ii) New diameter of pulleys if grinding wheel speed increase to double\n",
    "\n",
    "$$n_2=500rpm \\rightarrow n'_2=500 \\times 2=1000rpm$$\n",
    "\n",
    "$$\\frac{n_1}{n_2}=\\frac{1000}{1000}=\\frac{r_2}{r_1}$$\n",
    "\n",
    "We know $r_1=0.134m$\n",
    "\n",
    "Therefore, new pulley diameter is same $r'_1=0.134m$ "
   ]
  },
  {
   "cell_type": "markdown",
   "metadata": {},
   "source": [
    "iii) Changing of power when belt changed from K to V-belt M\n",
    "\n",
    "\n",
    "$$\\gamma =e^\\frac{f \\phi}{sin \\beta}$$\n",
    "For V-belt, $\\beta=\\frac{35}{2}=17.5$"
   ]
  },
  {
   "cell_type": "code",
   "execution_count": 15,
   "metadata": {},
   "outputs": [
    {
     "name": "stdout",
     "output_type": "stream",
     "text": [
      "new gamma=11.744\n"
     ]
    }
   ],
   "source": [
    "gamma_new = round(pow(e,friction*smallPulley/sin(radians(17.5))),3)\n",
    "print(f'new gamma={gamma_new}')"
   ]
  },
  {
   "cell_type": "markdown",
   "metadata": {},
   "source": [
    "Find F1\n",
    "$$1.75MPa = \\frac{1\\times F_1}{A}$$"
   ]
  },
  {
   "cell_type": "code",
   "execution_count": 17,
   "metadata": {},
   "outputs": [
    {
     "name": "stdout",
     "output_type": "stream",
     "text": [
      "New F1=1143.68 N\n"
     ]
    }
   ],
   "source": [
    "F1_new=round(1.75E+6*Area,2)\n",
    "print(f'New F1={F1_new} N')"
   ]
  },
  {
   "cell_type": "code",
   "execution_count": 20,
   "metadata": {},
   "outputs": [
    {
     "name": "stdout",
     "output_type": "stream",
     "text": [
      "Fc =186998.9A\n",
      "New Fc=122.21 N\n"
     ]
    }
   ],
   "source": [
    "print(f'Fc ={Fc}A')\n",
    "Fc_new=round(Fc*Area,2)\n",
    "print(f'New Fc={Fc_new} N')\n"
   ]
  },
  {
   "cell_type": "markdown",
   "metadata": {},
   "source": [
    "Use V-belt equation\n",
    "\n",
    "\n",
    "$$\\frac{F_1-F_c}{F_2-F_c}=e^{\\frac{f \\phi}{\\sin \\beta}}$$\n"
   ]
  },
  {
   "cell_type": "markdown",
   "metadata": {},
   "source": [
    "\n",
    "$$\\frac{1143.68-122.21}{F_2-122.21}=\\gamma$$"
   ]
  },
  {
   "cell_type": "markdown",
   "metadata": {},
   "source": [
    "$$1143.68-122.21=11.744(F_2-122.21)$$"
   ]
  },
  {
   "cell_type": "code",
   "execution_count": 22,
   "metadata": {},
   "outputs": [
    {
     "name": "stdout",
     "output_type": "stream",
     "text": [
      "New F2=209.19 N\n"
     ]
    }
   ],
   "source": [
    "F2_new=round((F1_new-Fc_new+(gamma_new*Fc_new))/gamma_new,2)\n",
    "print(f'New F2={F2_new} N')"
   ]
  },
  {
   "cell_type": "markdown",
   "metadata": {},
   "source": [
    "New power\n",
    "\n",
    "$$P=(F_1-F_2)v$$"
   ]
  },
  {
   "cell_type": "code",
   "execution_count": 24,
   "metadata": {},
   "outputs": [
    {
     "name": "stdout",
     "output_type": "stream",
     "text": [
      "New power, P=13110.89 W\n"
     ]
    }
   ],
   "source": [
    "Power_new=round((F1_new-F2_new)*velocity,2)\n",
    "print(f'New power, P={Power_new} W')\n",
    "print('V-belt have larger power capacity compare to flat belt')"
   ]
  }
 ],
 "metadata": {
  "kernelspec": {
   "display_name": "tf",
   "language": "python",
   "name": "python3"
  },
  "language_info": {
   "codemirror_mode": {
    "name": "ipython",
    "version": 3
   },
   "file_extension": ".py",
   "mimetype": "text/x-python",
   "name": "python",
   "nbconvert_exporter": "python",
   "pygments_lexer": "ipython3",
   "version": "3.9.7"
  }
 },
 "nbformat": 4,
 "nbformat_minor": 2
}
